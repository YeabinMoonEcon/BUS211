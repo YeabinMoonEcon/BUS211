{
  "cells": [
    {
      "cell_type": "markdown",
      "metadata": {
        "id": "1g30tSGTUNlV"
      },
      "source": [
        "# Question 1"
      ]
    },
    {
      "cell_type": "markdown",
      "metadata": {
        "id": "l1qbTN8NUNlY"
      },
      "source": [
        "For the quetsion1, you can just use a string splitter built-in python function. "
      ]
    },
    {
      "cell_type": "code",
      "execution_count": null,
      "metadata": {
        "colab": {
          "base_uri": "https://localhost:8080/",
          "height": 53
        },
        "id": "FHNFg85dUNlY",
        "outputId": "bcddf542-1960-484c-f29e-eaf8017cb3d7"
      },
      "outputs": [
        {
          "data": {
            "application/vnd.google.colaboratory.intrinsic+json": {
              "type": "string"
            },
            "text/plain": [
              "\"Thomas Jefferson began building Monticello at the age of 26.\\nConstruction was done mostly by local masons and carpenters.\\nHe moved into the South Pavilion in 1770.\\nTurning Monticello into a neoclassical masterpiece was Jefferson's obsession.\""
            ]
          },
          "execution_count": 3,
          "metadata": {},
          "output_type": "execute_result"
        }
      ],
      "source": [
        "sentences = \"\"\"Thomas Jefferson began building Monticello at the age of 26.\\n\"\"\"\n",
        "sentences += \"\"\"Construction was done mostly by local masons and carpenters.\\n\"\"\"\n",
        "sentences += \"He moved into the South Pavilion in 1770.\\n\"\n",
        "sentences += \"\"\"Turning Monticello into a neoclassical masterpiece was Jefferson's obsession.\"\"\"\n",
        "sentences"
      ]
    },
    {
      "cell_type": "markdown",
      "metadata": {
        "id": "aHQZp4czUNla"
      },
      "source": [
        "### (a) Represent the given text using one-hot vectors"
      ]
    },
    {
      "cell_type": "code",
      "execution_count": null,
      "metadata": {
        "id": "Mtb7qF8eUNla"
      },
      "outputs": [],
      "source": [
        "import numpy as np\n",
        "token_sequence = str.split(sentences) \n",
        "vocab = sorted(set(token_sequence))   # Q1. consider the purpose of this line\n",
        "num_tokens = len(token_sequence)\n",
        "vocab_size = len(vocab)\n",
        "\n",
        "onehot_vectors = np.zeros((num_tokens, vocab_size), int) \n",
        "for i, word in enumerate(token_sequence):\n",
        "    onehot_vectors[i, vocab.index(word)] = 1\n",
        "\n",
        "import pandas as pd\n",
        "pd.DataFrame(onehot_vectors, columns=vocab)"
      ]
    },
    {
      "cell_type": "markdown",
      "metadata": {
        "id": "oWSqwePXUNla"
      },
      "source": [
        "### (b) Represent the given text using bag-of-words vectors"
      ]
    },
    {
      "cell_type": "code",
      "execution_count": null,
      "metadata": {
        "colab": {
          "base_uri": "https://localhost:8080/",
          "height": 204
        },
        "id": "fOGqEsDC3Nw8",
        "outputId": "a5dbe204-159d-4267-baa5-0ab0a4c26b27"
      },
      "outputs": [
        {
          "data": {
            "text/html": [
              "\n",
              "  <div id=\"df-231d5f78-4806-4fcc-a00a-f49dce7c6e7c\">\n",
              "    <div class=\"colab-df-container\">\n",
              "      <div>\n",
              "<style scoped>\n",
              "    .dataframe tbody tr th:only-of-type {\n",
              "        vertical-align: middle;\n",
              "    }\n",
              "\n",
              "    .dataframe tbody tr th {\n",
              "        vertical-align: top;\n",
              "    }\n",
              "\n",
              "    .dataframe thead th {\n",
              "        text-align: right;\n",
              "    }\n",
              "</style>\n",
              "<table border=\"1\" class=\"dataframe\">\n",
              "  <thead>\n",
              "    <tr style=\"text-align: right;\">\n",
              "      <th></th>\n",
              "      <th>Thomas</th>\n",
              "      <th>Jefferson</th>\n",
              "      <th>began</th>\n",
              "      <th>building</th>\n",
              "      <th>Monticello</th>\n",
              "      <th>at</th>\n",
              "      <th>the</th>\n",
              "      <th>age</th>\n",
              "      <th>of</th>\n",
              "      <th>26.</th>\n",
              "      <th>...</th>\n",
              "      <th>South</th>\n",
              "      <th>Pavilion</th>\n",
              "      <th>in</th>\n",
              "      <th>1770.</th>\n",
              "      <th>Turning</th>\n",
              "      <th>a</th>\n",
              "      <th>neoclassical</th>\n",
              "      <th>masterpiece</th>\n",
              "      <th>Jefferson's</th>\n",
              "      <th>obsession.</th>\n",
              "    </tr>\n",
              "  </thead>\n",
              "  <tbody>\n",
              "    <tr>\n",
              "      <th>sent0</th>\n",
              "      <td>1</td>\n",
              "      <td>1</td>\n",
              "      <td>1</td>\n",
              "      <td>1</td>\n",
              "      <td>1</td>\n",
              "      <td>1</td>\n",
              "      <td>1</td>\n",
              "      <td>1</td>\n",
              "      <td>1</td>\n",
              "      <td>1</td>\n",
              "      <td>...</td>\n",
              "      <td>0</td>\n",
              "      <td>0</td>\n",
              "      <td>0</td>\n",
              "      <td>0</td>\n",
              "      <td>0</td>\n",
              "      <td>0</td>\n",
              "      <td>0</td>\n",
              "      <td>0</td>\n",
              "      <td>0</td>\n",
              "      <td>0</td>\n",
              "    </tr>\n",
              "    <tr>\n",
              "      <th>sent1</th>\n",
              "      <td>0</td>\n",
              "      <td>0</td>\n",
              "      <td>0</td>\n",
              "      <td>0</td>\n",
              "      <td>0</td>\n",
              "      <td>0</td>\n",
              "      <td>0</td>\n",
              "      <td>0</td>\n",
              "      <td>0</td>\n",
              "      <td>0</td>\n",
              "      <td>...</td>\n",
              "      <td>0</td>\n",
              "      <td>0</td>\n",
              "      <td>0</td>\n",
              "      <td>0</td>\n",
              "      <td>0</td>\n",
              "      <td>0</td>\n",
              "      <td>0</td>\n",
              "      <td>0</td>\n",
              "      <td>0</td>\n",
              "      <td>0</td>\n",
              "    </tr>\n",
              "    <tr>\n",
              "      <th>sent2</th>\n",
              "      <td>0</td>\n",
              "      <td>0</td>\n",
              "      <td>0</td>\n",
              "      <td>0</td>\n",
              "      <td>0</td>\n",
              "      <td>0</td>\n",
              "      <td>1</td>\n",
              "      <td>0</td>\n",
              "      <td>0</td>\n",
              "      <td>0</td>\n",
              "      <td>...</td>\n",
              "      <td>1</td>\n",
              "      <td>1</td>\n",
              "      <td>1</td>\n",
              "      <td>1</td>\n",
              "      <td>0</td>\n",
              "      <td>0</td>\n",
              "      <td>0</td>\n",
              "      <td>0</td>\n",
              "      <td>0</td>\n",
              "      <td>0</td>\n",
              "    </tr>\n",
              "    <tr>\n",
              "      <th>sent3</th>\n",
              "      <td>0</td>\n",
              "      <td>0</td>\n",
              "      <td>0</td>\n",
              "      <td>0</td>\n",
              "      <td>1</td>\n",
              "      <td>0</td>\n",
              "      <td>0</td>\n",
              "      <td>0</td>\n",
              "      <td>0</td>\n",
              "      <td>0</td>\n",
              "      <td>...</td>\n",
              "      <td>0</td>\n",
              "      <td>0</td>\n",
              "      <td>0</td>\n",
              "      <td>0</td>\n",
              "      <td>1</td>\n",
              "      <td>1</td>\n",
              "      <td>1</td>\n",
              "      <td>1</td>\n",
              "      <td>1</td>\n",
              "      <td>1</td>\n",
              "    </tr>\n",
              "  </tbody>\n",
              "</table>\n",
              "<p>4 rows × 32 columns</p>\n",
              "</div>\n",
              "      <button class=\"colab-df-convert\" onclick=\"convertToInteractive('df-231d5f78-4806-4fcc-a00a-f49dce7c6e7c')\"\n",
              "              title=\"Convert this dataframe to an interactive table.\"\n",
              "              style=\"display:none;\">\n",
              "        \n",
              "  <svg xmlns=\"http://www.w3.org/2000/svg\" height=\"24px\"viewBox=\"0 0 24 24\"\n",
              "       width=\"24px\">\n",
              "    <path d=\"M0 0h24v24H0V0z\" fill=\"none\"/>\n",
              "    <path d=\"M18.56 5.44l.94 2.06.94-2.06 2.06-.94-2.06-.94-.94-2.06-.94 2.06-2.06.94zm-11 1L8.5 8.5l.94-2.06 2.06-.94-2.06-.94L8.5 2.5l-.94 2.06-2.06.94zm10 10l.94 2.06.94-2.06 2.06-.94-2.06-.94-.94-2.06-.94 2.06-2.06.94z\"/><path d=\"M17.41 7.96l-1.37-1.37c-.4-.4-.92-.59-1.43-.59-.52 0-1.04.2-1.43.59L10.3 9.45l-7.72 7.72c-.78.78-.78 2.05 0 2.83L4 21.41c.39.39.9.59 1.41.59.51 0 1.02-.2 1.41-.59l7.78-7.78 2.81-2.81c.8-.78.8-2.07 0-2.86zM5.41 20L4 18.59l7.72-7.72 1.47 1.35L5.41 20z\"/>\n",
              "  </svg>\n",
              "      </button>\n",
              "      \n",
              "  <style>\n",
              "    .colab-df-container {\n",
              "      display:flex;\n",
              "      flex-wrap:wrap;\n",
              "      gap: 12px;\n",
              "    }\n",
              "\n",
              "    .colab-df-convert {\n",
              "      background-color: #E8F0FE;\n",
              "      border: none;\n",
              "      border-radius: 50%;\n",
              "      cursor: pointer;\n",
              "      display: none;\n",
              "      fill: #1967D2;\n",
              "      height: 32px;\n",
              "      padding: 0 0 0 0;\n",
              "      width: 32px;\n",
              "    }\n",
              "\n",
              "    .colab-df-convert:hover {\n",
              "      background-color: #E2EBFA;\n",
              "      box-shadow: 0px 1px 2px rgba(60, 64, 67, 0.3), 0px 1px 3px 1px rgba(60, 64, 67, 0.15);\n",
              "      fill: #174EA6;\n",
              "    }\n",
              "\n",
              "    [theme=dark] .colab-df-convert {\n",
              "      background-color: #3B4455;\n",
              "      fill: #D2E3FC;\n",
              "    }\n",
              "\n",
              "    [theme=dark] .colab-df-convert:hover {\n",
              "      background-color: #434B5C;\n",
              "      box-shadow: 0px 1px 3px 1px rgba(0, 0, 0, 0.15);\n",
              "      filter: drop-shadow(0px 1px 2px rgba(0, 0, 0, 0.3));\n",
              "      fill: #FFFFFF;\n",
              "    }\n",
              "  </style>\n",
              "\n",
              "      <script>\n",
              "        const buttonEl =\n",
              "          document.querySelector('#df-231d5f78-4806-4fcc-a00a-f49dce7c6e7c button.colab-df-convert');\n",
              "        buttonEl.style.display =\n",
              "          google.colab.kernel.accessAllowed ? 'block' : 'none';\n",
              "\n",
              "        async function convertToInteractive(key) {\n",
              "          const element = document.querySelector('#df-231d5f78-4806-4fcc-a00a-f49dce7c6e7c');\n",
              "          const dataTable =\n",
              "            await google.colab.kernel.invokeFunction('convertToInteractive',\n",
              "                                                     [key], {});\n",
              "          if (!dataTable) return;\n",
              "\n",
              "          const docLinkHtml = 'Like what you see? Visit the ' +\n",
              "            '<a target=\"_blank\" href=https://colab.research.google.com/notebooks/data_table.ipynb>data table notebook</a>'\n",
              "            + ' to learn more about interactive tables.';\n",
              "          element.innerHTML = '';\n",
              "          dataTable['output_type'] = 'display_data';\n",
              "          await google.colab.output.renderOutput(dataTable, element);\n",
              "          const docLink = document.createElement('div');\n",
              "          docLink.innerHTML = docLinkHtml;\n",
              "          element.appendChild(docLink);\n",
              "        }\n",
              "      </script>\n",
              "    </div>\n",
              "  </div>\n",
              "  "
            ],
            "text/plain": [
              "       Thomas  Jefferson  began  building  Monticello  at  the  age  of  26.  \\\n",
              "sent0       1          1      1         1           1   1    1    1   1    1   \n",
              "sent1       0          0      0         0           0   0    0    0   0    0   \n",
              "sent2       0          0      0         0           0   0    1    0   0    0   \n",
              "sent3       0          0      0         0           1   0    0    0   0    0   \n",
              "\n",
              "       ...  South  Pavilion  in  1770.  Turning  a  neoclassical  masterpiece  \\\n",
              "sent0  ...      0         0   0      0        0  0             0            0   \n",
              "sent1  ...      0         0   0      0        0  0             0            0   \n",
              "sent2  ...      1         1   1      1        0  0             0            0   \n",
              "sent3  ...      0         0   0      0        1  1             1            1   \n",
              "\n",
              "       Jefferson's  obsession.  \n",
              "sent0            0           0  \n",
              "sent1            0           0  \n",
              "sent2            0           0  \n",
              "sent3            1           1  \n",
              "\n",
              "[4 rows x 32 columns]"
            ]
          },
          "execution_count": 5,
          "metadata": {},
          "output_type": "execute_result"
        }
      ],
      "source": [
        "corpus = {}\n",
        "for i, sent in enumerate(sentences.split('\\n')):\n",
        "    corpus['sent{}'.format(i)] = dict((tok, 1) for tok in sent.split())\n",
        "df = pd.DataFrame.from_records(corpus).fillna(0).astype(int).T\n",
        "df#[df.columns[:15]]  "
      ]
    },
    {
      "cell_type": "markdown",
      "metadata": {
        "id": "UkdaiGyDUNlb"
      },
      "source": [
        "### (c) What is the conceptual difference between the two ways of representation? Define them in your words and elaborate on their pros and cons."
      ]
    },
    {
      "cell_type": "markdown",
      "metadata": {
        "id": "Qzs_92G9P7vV"
      },
      "source": [
        "Both one-hot vectors and bag-of-word use matrix to represent texts. But one-hot vectors uses one vetor to represent one particular word, recording both frequency and locations. However, bag-of-word use one vector only to record frequencies of tokens, regardless of locations. \n",
        "\n",
        "One-hot vector consists of more information, but it takes much larger memory power. Bag-of-word contains less information while it requires less memory power, and thus in most of the time, more efficient."
      ]
    },
    {
      "cell_type": "markdown",
      "metadata": {
        "id": "SJF8PkuQUNlb"
      },
      "source": [
        "# Question 2"
      ]
    },
    {
      "cell_type": "markdown",
      "metadata": {
        "id": "KuC0are9UNlc"
      },
      "source": [
        "### (a) What's the problem with using the built-in functions to tokenize a document?"
      ]
    },
    {
      "cell_type": "markdown",
      "metadata": {
        "id": "_Y8eAUikUNlc"
      },
      "source": [
        "It doesn't identify punctuations or special characters, and thus same word might be identified as different words, which raises a stemming issue."
      ]
    },
    {
      "cell_type": "markdown",
      "metadata": {
        "id": "N7OF_z0DUNlc"
      },
      "source": [
        "### (b) You've learned regular expressions in the textbook and other libraries, such as NLTK. What are the pros and cons of using NLTK packages when tokenizing a document?  "
      ]
    },
    {
      "cell_type": "markdown",
      "metadata": {
        "id": "Hg0Oj1ldPVJW"
      },
      "source": [
        "Pros: Regex tokenizer ignores whitespace tokens. It also separates sentence-ending trailing punctuation from tokens that do not contain any other punctuation characters.\n",
        "\n",
        "Cons: lack of common rules for English word tockenization."
      ]
    },
    {
      "cell_type": "markdown",
      "metadata": {
        "id": "awS8NnXnUNld"
      },
      "source": [
        "### (c) How about Treebank Word Tokenizer from the NLTK package. What's the pros and cons?"
      ]
    },
    {
      "cell_type": "markdown",
      "metadata": {
        "id": "J9_GJFcqUNld"
      },
      "source": [
        "Pros: It incorporates a variety of common rules for English word tokenization.\n",
        "\n",
        "Cons: it is more complex and thus can be slower."
      ]
    },
    {
      "cell_type": "markdown",
      "metadata": {
        "id": "fSBXjTIOUNld"
      },
      "source": [
        "# Question 3"
      ]
    },
    {
      "cell_type": "markdown",
      "metadata": {
        "id": "LzR8vUfsUNld"
      },
      "source": [
        "### What is overfitting? Why is it so critical in the text analysis?"
      ]
    },
    {
      "cell_type": "markdown",
      "metadata": {
        "id": "Cb13VoyZUNld"
      },
      "source": [
        "Overfitting in NLP: the number of features (word combination) exceed the length of document.\n",
        "\n",
        "It is critical to avoid overfitting to make sure the NLP is efficient and accurate."
      ]
    },
    {
      "cell_type": "markdown",
      "metadata": {
        "id": "Nna-YoqzUNle"
      },
      "source": [
        "# Question 4"
      ]
    },
    {
      "cell_type": "markdown",
      "metadata": {
        "id": "8WOqjZp2UNle"
      },
      "source": [
        "In the textbook, *Bottom line, try to avoid stemming and lemmatization unless you have a limited amount of text that contains usages and capitalizations of the words you are interested in*. Consider when is the case when normalizing a document is useful."
      ]
    },
    {
      "cell_type": "markdown",
      "metadata": {
        "id": "bn1QPClTUNle"
      },
      "source": [
        "If your application involves search, stemming and lemmatization will improve the recall of your searches by associating more documents with the same query words.\n",
        "\n",
        "Nonetheless, for languages other than English, you may still find uses for lemmatization."
      ]
    },
    {
      "cell_type": "markdown",
      "metadata": {
        "id": "ypOv084JUNle"
      },
      "source": [
        "# Question 5"
      ]
    },
    {
      "cell_type": "markdown",
      "metadata": {
        "id": "yA_pA73aUNle"
      },
      "source": [
        "Load the first chapter of Metamorphosis by Kafka. Answer the following questions\n",
        "\n",
        "1. Split it by Whitespace\n",
        "2. Select strings of alphanumeric characters (a-z, A-Z, 0-9, and '_')\n",
        "    - use re \n",
        "3. Remove Punctuation\n",
        "    - import string\n",
        "    - print(string.punctuation)\n",
        "4. Case folding\n",
        "5. Use TreebankWordTokenizer to tokenize the text\n"
      ]
    },
    {
      "cell_type": "code",
      "execution_count": null,
      "metadata": {
        "id": "cQTkrDIHUNle",
        "outputId": "8a208859-6e43-4053-f079-3c8c68769549"
      },
      "outputs": [
        {
          "data": {
            "text/plain": [
              "\"\\nfilename = 'your file with complete location'\\nfile = open(filename, 'rt')\\ntextfile = file.read()\\nfile.close()\\n\""
            ]
          },
          "execution_count": 4,
          "metadata": {},
          "output_type": "execute_result"
        }
      ],
      "source": [
        "# run the following codes\n",
        "'''\n",
        "filename = 'your file with complete location'\n",
        "file = open(filename, 'rt')\n",
        "textfile = file.read()\n",
        "file.close()\n",
        "'''\n",
        "# work with textfile"
      ]
    },
    {
      "cell_type": "code",
      "execution_count": 1,
      "metadata": {
        "colab": {
          "base_uri": "https://localhost:8080/",
          "height": 74
        },
        "id": "FfTU87ZdQUVv",
        "outputId": "055628f9-8692-4701-c2c9-57f87695ac93"
      },
      "outputs": [
        {
          "data": {
            "text/html": [
              "\n",
              "     <input type=\"file\" id=\"files-c005bca0-d653-4dd6-8454-ccdb7c6bacfb\" name=\"files[]\" multiple disabled\n",
              "        style=\"border:none\" />\n",
              "     <output id=\"result-c005bca0-d653-4dd6-8454-ccdb7c6bacfb\">\n",
              "      Upload widget is only available when the cell has been executed in the\n",
              "      current browser session. Please rerun this cell to enable.\n",
              "      </output>\n",
              "      <script>// Copyright 2017 Google LLC\n",
              "//\n",
              "// Licensed under the Apache License, Version 2.0 (the \"License\");\n",
              "// you may not use this file except in compliance with the License.\n",
              "// You may obtain a copy of the License at\n",
              "//\n",
              "//      http://www.apache.org/licenses/LICENSE-2.0\n",
              "//\n",
              "// Unless required by applicable law or agreed to in writing, software\n",
              "// distributed under the License is distributed on an \"AS IS\" BASIS,\n",
              "// WITHOUT WARRANTIES OR CONDITIONS OF ANY KIND, either express or implied.\n",
              "// See the License for the specific language governing permissions and\n",
              "// limitations under the License.\n",
              "\n",
              "/**\n",
              " * @fileoverview Helpers for google.colab Python module.\n",
              " */\n",
              "(function(scope) {\n",
              "function span(text, styleAttributes = {}) {\n",
              "  const element = document.createElement('span');\n",
              "  element.textContent = text;\n",
              "  for (const key of Object.keys(styleAttributes)) {\n",
              "    element.style[key] = styleAttributes[key];\n",
              "  }\n",
              "  return element;\n",
              "}\n",
              "\n",
              "// Max number of bytes which will be uploaded at a time.\n",
              "const MAX_PAYLOAD_SIZE = 100 * 1024;\n",
              "\n",
              "function _uploadFiles(inputId, outputId) {\n",
              "  const steps = uploadFilesStep(inputId, outputId);\n",
              "  const outputElement = document.getElementById(outputId);\n",
              "  // Cache steps on the outputElement to make it available for the next call\n",
              "  // to uploadFilesContinue from Python.\n",
              "  outputElement.steps = steps;\n",
              "\n",
              "  return _uploadFilesContinue(outputId);\n",
              "}\n",
              "\n",
              "// This is roughly an async generator (not supported in the browser yet),\n",
              "// where there are multiple asynchronous steps and the Python side is going\n",
              "// to poll for completion of each step.\n",
              "// This uses a Promise to block the python side on completion of each step,\n",
              "// then passes the result of the previous step as the input to the next step.\n",
              "function _uploadFilesContinue(outputId) {\n",
              "  const outputElement = document.getElementById(outputId);\n",
              "  const steps = outputElement.steps;\n",
              "\n",
              "  const next = steps.next(outputElement.lastPromiseValue);\n",
              "  return Promise.resolve(next.value.promise).then((value) => {\n",
              "    // Cache the last promise value to make it available to the next\n",
              "    // step of the generator.\n",
              "    outputElement.lastPromiseValue = value;\n",
              "    return next.value.response;\n",
              "  });\n",
              "}\n",
              "\n",
              "/**\n",
              " * Generator function which is called between each async step of the upload\n",
              " * process.\n",
              " * @param {string} inputId Element ID of the input file picker element.\n",
              " * @param {string} outputId Element ID of the output display.\n",
              " * @return {!Iterable<!Object>} Iterable of next steps.\n",
              " */\n",
              "function* uploadFilesStep(inputId, outputId) {\n",
              "  const inputElement = document.getElementById(inputId);\n",
              "  inputElement.disabled = false;\n",
              "\n",
              "  const outputElement = document.getElementById(outputId);\n",
              "  outputElement.innerHTML = '';\n",
              "\n",
              "  const pickedPromise = new Promise((resolve) => {\n",
              "    inputElement.addEventListener('change', (e) => {\n",
              "      resolve(e.target.files);\n",
              "    });\n",
              "  });\n",
              "\n",
              "  const cancel = document.createElement('button');\n",
              "  inputElement.parentElement.appendChild(cancel);\n",
              "  cancel.textContent = 'Cancel upload';\n",
              "  const cancelPromise = new Promise((resolve) => {\n",
              "    cancel.onclick = () => {\n",
              "      resolve(null);\n",
              "    };\n",
              "  });\n",
              "\n",
              "  // Wait for the user to pick the files.\n",
              "  const files = yield {\n",
              "    promise: Promise.race([pickedPromise, cancelPromise]),\n",
              "    response: {\n",
              "      action: 'starting',\n",
              "    }\n",
              "  };\n",
              "\n",
              "  cancel.remove();\n",
              "\n",
              "  // Disable the input element since further picks are not allowed.\n",
              "  inputElement.disabled = true;\n",
              "\n",
              "  if (!files) {\n",
              "    return {\n",
              "      response: {\n",
              "        action: 'complete',\n",
              "      }\n",
              "    };\n",
              "  }\n",
              "\n",
              "  for (const file of files) {\n",
              "    const li = document.createElement('li');\n",
              "    li.append(span(file.name, {fontWeight: 'bold'}));\n",
              "    li.append(span(\n",
              "        `(${file.type || 'n/a'}) - ${file.size} bytes, ` +\n",
              "        `last modified: ${\n",
              "            file.lastModifiedDate ? file.lastModifiedDate.toLocaleDateString() :\n",
              "                                    'n/a'} - `));\n",
              "    const percent = span('0% done');\n",
              "    li.appendChild(percent);\n",
              "\n",
              "    outputElement.appendChild(li);\n",
              "\n",
              "    const fileDataPromise = new Promise((resolve) => {\n",
              "      const reader = new FileReader();\n",
              "      reader.onload = (e) => {\n",
              "        resolve(e.target.result);\n",
              "      };\n",
              "      reader.readAsArrayBuffer(file);\n",
              "    });\n",
              "    // Wait for the data to be ready.\n",
              "    let fileData = yield {\n",
              "      promise: fileDataPromise,\n",
              "      response: {\n",
              "        action: 'continue',\n",
              "      }\n",
              "    };\n",
              "\n",
              "    // Use a chunked sending to avoid message size limits. See b/62115660.\n",
              "    let position = 0;\n",
              "    do {\n",
              "      const length = Math.min(fileData.byteLength - position, MAX_PAYLOAD_SIZE);\n",
              "      const chunk = new Uint8Array(fileData, position, length);\n",
              "      position += length;\n",
              "\n",
              "      const base64 = btoa(String.fromCharCode.apply(null, chunk));\n",
              "      yield {\n",
              "        response: {\n",
              "          action: 'append',\n",
              "          file: file.name,\n",
              "          data: base64,\n",
              "        },\n",
              "      };\n",
              "\n",
              "      let percentDone = fileData.byteLength === 0 ?\n",
              "          100 :\n",
              "          Math.round((position / fileData.byteLength) * 100);\n",
              "      percent.textContent = `${percentDone}% done`;\n",
              "\n",
              "    } while (position < fileData.byteLength);\n",
              "  }\n",
              "\n",
              "  // All done.\n",
              "  yield {\n",
              "    response: {\n",
              "      action: 'complete',\n",
              "    }\n",
              "  };\n",
              "}\n",
              "\n",
              "scope.google = scope.google || {};\n",
              "scope.google.colab = scope.google.colab || {};\n",
              "scope.google.colab._files = {\n",
              "  _uploadFiles,\n",
              "  _uploadFilesContinue,\n",
              "};\n",
              "})(self);\n",
              "</script> "
            ],
            "text/plain": [
              "<IPython.core.display.HTML object>"
            ]
          },
          "metadata": {},
          "output_type": "display_data"
        },
        {
          "name": "stdout",
          "output_type": "stream",
          "text": [
            "Saving metamorphosis.txt to metamorphosis.txt\n"
          ]
        }
      ],
      "source": [
        "from google.colab import files \n",
        "uploaded = files.upload()"
      ]
    },
    {
      "cell_type": "code",
      "execution_count": 2,
      "metadata": {
        "id": "9chR4Q44Qjb2"
      },
      "outputs": [],
      "source": [
        "with open(\"metamorphosis.txt\", \"r\") as file:\n",
        "  textfile = file.read()"
      ]
    },
    {
      "cell_type": "code",
      "execution_count": 3,
      "metadata": {
        "colab": {
          "base_uri": "https://localhost:8080/",
          "height": 125
        },
        "id": "bg_Ht04bQ9DN",
        "outputId": "ec3167ca-afea-4280-de15-b2c1722fdbf9"
      },
      "outputs": [
        {
          "data": {
            "application/vnd.google.colaboratory.intrinsic+json": {
              "type": "string"
            },
            "text/plain": [
              "'One morning, when Gregor Samsa woke from troubled dreams, he found\\nhimself transformed in his bed into a horrible vermin.  He lay on\\nhis armour-like back, and if he lifted his head a little he could\\nsee his brown belly, slightly domed and divided by arches into stiff\\nsections.  The bedding was hardly able to cover it and seemed ready\\nto slide off any moment.  His many legs, pitifully thin compared\\nwith the size of the rest of him, waved about helplessly as he\\nlooked.\\n\\n\"What\\'s happened to me?\" he thought.  It wasn\\'t a dream.  His room,\\na proper human room although a little too small, lay peacefully\\nbetween its four familiar walls.  A collection of textile samples\\nlay spread out on the table - Samsa was a travelling salesman - and\\nabove it there hung a picture that he had recently cut out of an\\nillustrated magazine and housed in a nice, gilded frame.  It showed\\na lady fitted out with a fur hat and fur boa who sat upright,\\nraising a heavy fur muff that covered the whole of her lower arm\\ntowards the viewer.\\n\\nGregor then turned to look out the window at the dull weather.\\nDrops of rain could be heard hitting the pane, which made him feel\\nquite sad.  \"How about if I sleep a little bit longer and forget all\\nthis nonsense\", he thought, but that was something he was unable to\\ndo because he was used to sleeping on his right, and in his present\\nstate couldn\\'t get into that position.  However hard he threw\\nhimself onto his right, he always rolled back to where he was.  He\\nmust have tried it a hundred times, shut his eyes so that he\\nwouldn\\'t have to look at the floundering legs, and only stopped when\\nhe began to feel a mild, dull pain there that he had never felt\\nbefore.\\n\\n\"Oh, God\", he thought, \"what a strenuous career it is that I\\'ve\\nchosen! Travelling day in and day out.  Doing business like this\\ntakes much more effort than doing your own business at home, and on\\ntop of that there\\'s the curse of travelling, worries about making\\ntrain connections, bad and irregular food, contact with different\\npeople all the time so that you can never get to know anyone or\\nbecome friendly with them.  It can all go to Hell!\"  He felt a\\nslight itch up on his belly; pushed himself slowly up on his back\\ntowards the headboard so that he could lift his head better; found\\nwhere the itch was, and saw that it was covered with lots of little\\nwhite spots which he didn\\'t know what to make of; and when he tried\\nto feel the place with one of his legs he drew it quickly back\\nbecause as soon as he touched it he was overcome by a cold shudder.\\n\\nHe slid back into his former position.  \"Getting up early all the\\ntime\", he thought, \"it makes you stupid.  You\\'ve got to get enough\\nsleep.  Other travelling salesmen live a life of luxury.  For\\ninstance, whenever I go back to the guest house during the morning\\nto copy out the contract, these gentlemen are always still sitting\\nthere eating their breakfasts.  I ought to just try that with my\\nboss; I\\'d get kicked out on the spot.  But who knows, maybe that\\nwould be the best thing for me.  If I didn\\'t have my parents to\\nthink about I\\'d have given in my notice a long time ago, I\\'d have\\ngone up to the boss and told him just what I think, tell him\\neverything I would, let him know just what I feel.  He\\'d fall right\\noff his desk! And it\\'s a funny sort of business to be sitting up\\nthere at your desk, talking down at your subordinates from up there,\\nespecially when you have to go right up close because the boss is\\nhard of hearing.  Well, there\\'s still some hope; once I\\'ve got the\\nmoney together to pay off my parents\\' debt to him - another five or\\nsix years I suppose - that\\'s definitely what I\\'ll do.  That\\'s when\\nI\\'ll make the big change.  First of all though, I\\'ve got to get up,\\nmy train leaves at five.\"\\n\\nAnd he looked over at the alarm clock, ticking on the chest of\\ndrawers.  \"God in Heaven!\" he thought.  It was half past six and the\\nhands were quietly moving forwards, it was even later than half\\npast, more like quarter to seven.  Had the alarm clock not rung? He\\ncould see from the bed that it had been set for four o\\'clock as it\\nshould have been; it certainly must have rung.  Yes, but was it\\npossible to quietly sleep through that furniture-rattling noise?\\nTrue, he had not slept peacefully, but probably all the more deeply\\nbecause of that.  What should he do now? The next train went at\\nseven; if he were to catch that he would have to rush like mad and\\nthe collection of samples was still not packed, and he did not at\\nall feel particularly fresh and lively.  And even if he did catch\\nthe train he would not avoid his boss\\'s anger as the office\\nassistant would have been there to see the five o\\'clock train go, he\\nwould have put in his report about Gregor\\'s not being there a long\\ntime ago.  The office assistant was the boss\\'s man, spineless, and\\nwith no understanding.  What about if he reported sick? But that\\nwould be extremely strained and suspicious as in fifteen years of\\nservice Gregor had never once yet been ill.  His boss would\\ncertainly come round with the doctor from the medical insurance\\ncompany, accuse his parents of having a lazy son, and accept the\\ndoctor\\'s recommendation not to make any claim as the doctor believed\\nthat no-one was ever ill but that many were workshy.  And what\\'s\\nmore, would he have been entirely wrong in this case? Gregor did in\\nfact, apart from excessive sleepiness after sleeping for so long,\\nfeel completely well and even felt much hungrier than usual.\\n\\nHe was still hurriedly thinking all this through, unable to decide\\nto get out of the bed, when the clock struck quarter to seven.\\nThere was a cautious knock at the door near his head.  \"Gregor\",\\nsomebody called - it was his mother - \"it\\'s quarter to seven.\\nDidn\\'t you want to go somewhere?\"  That gentle voice! Gregor was\\nshocked when he heard his own voice answering, it could hardly be\\nrecognised as the voice he had had before.  As if from deep inside\\nhim, there was a painful and uncontrollable squeaking mixed in with\\nit, the words could be made out at first but then there was a sort\\nof echo which made them unclear, leaving the hearer unsure whether\\nhe had heard properly or not.  Gregor had wanted to give a full\\nanswer and explain everything, but in the circumstances contented\\nhimself with saying: \"Yes, mother, yes, thank-you, I\\'m getting up\\nnow.\"  The change in Gregor\\'s voice probably could not be noticed\\noutside through the wooden door, as his mother was satisfied with\\nthis explanation and shuffled away.  But this short conversation\\nmade the other members of the family aware that Gregor, against\\ntheir expectations was still at home, and soon his father came\\nknocking at one of the side doors, gently, but with his fist.\\n\"Gregor, Gregor\", he called, \"what\\'s wrong?\"  And after a short\\nwhile he called again with a warning deepness in his voice: \"Gregor!\\nGregor!\"  At the other side door his sister came plaintively:\\n\"Gregor? Aren\\'t you well? Do you need anything?\"  Gregor answered to\\nboth sides: \"I\\'m ready, now\", making an effort to remove all the\\nstrangeness from his voice by enunciating very carefully and putting\\nlong pauses between each, individual word.  His father went back to\\nhis breakfast, but his sister whispered: \"Gregor, open the door, I\\nbeg of you.\"  Gregor, however, had no thought of opening the door,\\nand instead congratulated himself for his cautious habit, acquired\\nfrom his travelling, of locking all doors at night even when he was\\nat home.\\n\\nThe first thing he wanted to do was to get up in peace without being\\ndisturbed, to get dressed, and most of all to have his breakfast.\\nOnly then would he consider what to do next, as he was well aware\\nthat he would not bring his thoughts to any sensible conclusions by\\nlying in bed.  He remembered that he had often felt a slight pain in\\nbed, perhaps caused by lying awkwardly, but that had always turned\\nout to be pure imagination and he wondered how his imaginings would\\nslowly resolve themselves today.  He did not have the slightest\\ndoubt that the change in his voice was nothing more than the first\\nsign of a serious cold, which was an occupational hazard for\\ntravelling salesmen.\\n\\nIt was a simple matter to throw off the covers; he only had to blow\\nhimself up a little and they fell off by themselves.  But it became\\ndifficult after that, especially as he was so exceptionally broad.\\nHe would have used his arms and his hands to push himself up; but\\ninstead of them he only had all those little legs continuously\\nmoving in different directions, and which he was moreover unable to\\ncontrol.  If he wanted to bend one of them, then that was the first\\none that would stretch itself out; and if he finally managed to do\\nwhat he wanted with that leg, all the others seemed to be set free\\nand would move about painfully.  \"This is something that can\\'t be\\ndone in bed\", Gregor said to himself, \"so don\\'t keep trying to do\\nit\".\\n\\nThe first thing he wanted to do was get the lower part of his body\\nout of the bed, but he had never seen this lower part, and could not\\nimagine what it looked like; it turned out to be too hard to move;\\nit went so slowly; and finally, almost in a frenzy, when he\\ncarelessly shoved himself forwards with all the force he could\\ngather, he chose the wrong direction, hit hard against the lower\\nbedpost, and learned from the burning pain he felt that the lower\\npart of his body might well, at present, be the most sensitive.\\n\\nSo then he tried to get the top part of his body out of the bed\\nfirst, carefully turning his head to the side.  This he managed\\nquite easily, and despite its breadth and its weight, the bulk of\\nhis body eventually followed slowly in the direction of the head.\\nBut when he had at last got his head out of the bed and into the\\nfresh air it occurred to him that if he let himself fall it would be\\na miracle if his head were not injured, so he became afraid to carry\\non pushing himself forward the same way.  And he could not knock\\nhimself out now at any price; better to stay in bed than lose\\nconsciousness.\\n\\nIt took just as much effort to get back to where he had been\\nearlier, but when he lay there sighing, and was once more watching\\nhis legs as they struggled against each other even harder than\\nbefore, if that was possible, he could think of no way of bringing\\npeace and order to this chaos.  He told himself once more that it\\nwas not possible for him to stay in bed and that the most sensible\\nthing to do would be to get free of it in whatever way he could at\\nwhatever sacrifice.  At the same time, though, he did not forget to\\nremind himself that calm consideration was much better than rushing\\nto desperate conclusions.  At times like this he would direct his\\neyes to the window and look out as clearly as he could, but\\nunfortunately, even the other side of the narrow street was\\nenveloped in morning fog and the view had little confidence or cheer\\nto offer him.  \"Seven o\\'clock, already\", he said to himself when the\\nclock struck again, \"seven o\\'clock, and there\\'s still a fog like\\nthis.\"  And he lay there quietly a while longer, breathing lightly\\nas if he perhaps expected the total stillness to bring things back\\nto their real and natural state.\\n\\nBut then he said to himself: \"Before it strikes quarter past seven\\nI\\'ll definitely have to have got properly out of bed.  And by then\\nsomebody will have come round from work to ask what\\'s happened to me\\nas well, as they open up at work before seven o\\'clock.\"  And so he\\nset himself to the task of swinging the entire length of his body\\nout of the bed all at the same time.  If he succeeded in falling out\\nof bed in this way and kept his head raised as he did so he could\\nprobably avoid injuring it.  His back seemed to be quite hard, and\\nprobably nothing would happen to it falling onto the carpet.  His\\nmain concern was for the loud noise he was bound to make, and which\\neven through all the doors would probably raise concern if not\\nalarm.  But it was something that had to be risked.\\n\\nWhen Gregor was already sticking half way out of the bed - the new\\nmethod was more of a game than an effort, all he had to do was rock\\nback and forth - it occurred to him how simple everything would be\\nif somebody came to help him.  Two strong people - he had his father\\nand the maid in mind - would have been more than enough; they would\\nonly have to push their arms under the dome of his back, peel him\\naway from the bed, bend down with the load and then be patient and\\ncareful as he swang over onto the floor, where, hopefully, the\\nlittle legs would find a use.  Should he really call for help\\nthough, even apart from the fact that all the doors were locked?\\nDespite all the difficulty he was in, he could not suppress a smile\\nat this thought.\\n\\nAfter a while he had already moved so far across that it would have\\nbeen hard for him to keep his balance if he rocked too hard.  The\\ntime was now ten past seven and he would have to make a final\\ndecision very soon.  Then there was a ring at the door of the flat.\\n\"That\\'ll be someone from work\", he said to himself, and froze very\\nstill, although his little legs only became all the more lively as\\nthey danced around.  For a moment everything remained quiet.\\n\"They\\'re not opening the door\", Gregor said to himself, caught in\\nsome nonsensical hope.  But then of course, the maid\\'s firm steps\\nwent to the door as ever and opened it.  Gregor only needed to hear\\nthe visitor\\'s first words of greeting and he knew who it was - the\\nchief clerk himself.  Why did Gregor have to be the only one\\ncondemned to work for a company where they immediately became highly\\nsuspicious at the slightest shortcoming? Were all employees, every\\none of them, louts, was there not one of them who was faithful and\\ndevoted who would go so mad with pangs of conscience that he\\ncouldn\\'t get out of bed if he didn\\'t spend at least a couple of\\nhours in the morning on company business? Was it really not enough\\nto let one of the trainees make enquiries - assuming enquiries were\\neven necessary - did the chief clerk have to come himself, and did\\nthey have to show the whole, innocent family that this was so\\nsuspicious that only the chief clerk could be trusted to have the\\nwisdom to investigate it? And more because these thoughts had made\\nhim upset than through any proper decision, he swang himself with\\nall his force out of the bed.  There was a loud thump, but it wasn\\'t\\nreally a loud noise.  His fall was softened a little by the carpet,\\nand Gregor\\'s back was also more elastic than he had thought, which\\nmade the sound muffled and not too noticeable.  He had not held his\\nhead carefully enough, though, and hit it as he fell; annoyed and in\\npain, he turned it and rubbed it against the carpet.\\n\\n\"Something\\'s fallen down in there\", said the chief clerk in the room\\non the left.  Gregor tried to imagine whether something of the sort\\nthat had happened to him today could ever happen to the chief clerk\\ntoo; you had to concede that it was possible.  But as if in gruff\\nreply to this question, the chief clerk\\'s firm footsteps in his\\nhighly polished boots could now be heard in the adjoining room.\\nFrom the room on his right, Gregor\\'s sister whispered to him to let\\nhim know: \"Gregor, the chief clerk is here.\"  \"Yes, I know\", said\\nGregor to himself; but without daring to raise his voice loud enough\\nfor his sister to hear him.\\n\\n\"Gregor\", said his father now from the room to his left, \"the chief\\nclerk has come round and wants to know why you didn\\'t leave on the\\nearly train.  We don\\'t know what to say to him.  And anyway, he\\nwants to speak to you personally.  So please open up this door.  I\\'m\\nsure he\\'ll be good enough to forgive the untidiness of your room.\"\\nThen the chief clerk called \"Good morning,  Mr. Samsa\". \"He isn\\'t\\nwell\", said his mother to the chief clerk, while his father\\ncontinued to speak through the door.  \"He isn\\'t well, please believe\\nme.  Why else would Gregor have missed a train! The lad only ever\\nthinks about the business.  It nearly makes me cross the way he\\nnever goes out in the evenings; he\\'s been in town for a week now but\\nstayed home every evening.  He sits with us in the kitchen and just\\nreads the paper or studies train timetables.  His idea of relaxation\\nis working with his fretsaw.  He\\'s made a little frame, for\\ninstance, it only took him two or three evenings, you\\'ll be amazed\\nhow nice it is; it\\'s hanging up in his room; you\\'ll see it as soon\\nas Gregor opens the door.  Anyway, I\\'m glad you\\'re here; we wouldn\\'t\\nhave been able to get Gregor to open the door by ourselves; he\\'s so\\nstubborn; and I\\'m sure he isn\\'t well, he said this morning that he\\nis, but he isn\\'t.\"  \"I\\'ll be there in a moment\", said Gregor slowly\\nand thoughtfully, but without moving so that he would not miss any\\nword of the conversation.  \"Well I can\\'t think of any other way of\\nexplaining it,  Mrs. Samsa\", said the chief clerk, \"I hope it\\'s\\nnothing serious.  But on the other hand, I must say that if we\\npeople in commerce ever become slightly unwell then, fortunately or\\nunfortunately as you like, we simply have to overcome it because of\\nbusiness considerations.\"  \"Can the chief clerk come in to see you\\nnow then?\", asked his father impatiently, knocking at the door\\nagain.  \"No\", said Gregor.  In the room on his right there followed\\na painful silence; in the room on his left his sister began to cry.\\n\\nSo why did his sister not go and join the others? She had probably\\nonly just got up and had not even begun to get dressed.  And why was\\nshe crying? Was it because he had not got up, and had not let the\\nchief clerk in, because he was in danger of losing his job and if\\nthat happened his boss would once more pursue their parents with the\\nsame demands as before? There was no need to worry about things like\\nthat yet.  Gregor was still there and had not the slightest\\nintention of abandoning his family.  For the time being he just lay\\nthere on the carpet, and no-one who knew the condition he was in\\nwould seriously have expected him to let the chief clerk in.  It was\\nonly a minor discourtesy, and a suitable excuse could easily be\\nfound for it later on, it was not something for which Gregor could\\nbe sacked on the spot.  And it seemed to Gregor much more sensible\\nto leave him now in peace instead of disturbing him with talking at\\nhim and crying.  But the others didn\\'t know what was happening, they\\nwere worried, that would excuse their behaviour.\\n\\nThe chief clerk now raised his voice, \"Mr. Samsa\", he called to him,\\n\"what is wrong? You barricade yourself in your room, give us no more\\nthan yes or no for an answer, you are causing serious and\\nunnecessary concern to your parents and you fail - and I mention\\nthis just by the way - you fail to carry out your business duties in\\na way that is quite unheard of.  I\\'m speaking here on behalf of your\\nparents and of your employer, and really must request a clear and\\nimmediate explanation.  I am astonished, quite astonished.  I\\nthought I knew you as a calm and sensible person, and now you\\nsuddenly seem to be showing off with peculiar whims.  This morning,\\nyour employer did suggest a possible reason for your failure to\\nappear, it\\'s true - it had to do with the money that was recently\\nentrusted to you - but I came near to giving him my word of honour\\nthat that could not be the right explanation.  But now that I see\\nyour incomprehensible stubbornness I no longer feel any wish\\nwhatsoever to intercede on your behalf.  And nor is your position\\nall that secure.  I had originally intended to say all this to you\\nin private, but since you cause me to waste my time here for no good\\nreason I don\\'t see why your parents should not also learn of it.\\nYour turnover has been very unsatisfactory of late; I grant you that\\nit\\'s not the time of year to do especially good business, we\\nrecognise that; but there simply is no time of year to do no\\nbusiness at all,  Mr. Samsa, we cannot allow there to be.\"\\n\\n\"But Sir\", called Gregor, beside himself and forgetting all else in\\nthe excitement, \"I\\'ll open up immediately, just a moment.  I\\'m\\nslightly unwell, an attack of dizziness, I haven\\'t been able to get\\nup.  I\\'m still in bed now.  I\\'m quite fresh again now, though.  I\\'m\\njust getting out of bed.  Just a moment.  Be patient! It\\'s not quite\\nas easy as I\\'d thought.  I\\'m quite alright now, though.  It\\'s\\nshocking, what can suddenly happen to a person! I was quite alright\\nlast night, my parents know about it, perhaps better than me, I had\\na small symptom of it last night already.  They must have noticed\\nit.  I don\\'t know why I didn\\'t let you know at work! But you always\\nthink you can get over an illness without staying at home.  Please,\\ndon\\'t make my parents suffer! There\\'s no basis for any of the\\naccusations you\\'re making; nobody\\'s ever said a word to me about any\\nof these things.  Maybe you haven\\'t read the latest contracts I sent\\nin.  I\\'ll set off with the eight o\\'clock train, as well, these few\\nhours of rest have given me strength.  You don\\'t need to wait, sir;\\nI\\'ll be in the office soon after you, and please be so good as to\\ntell that to the boss and recommend me to him!\"\\n\\nAnd while Gregor gushed out these words, hardly knowing what he was\\nsaying, he made his way over to the chest of drawers - this was\\neasily done, probably because of the practise he had already had in\\nbed - where he now tried to get himself upright.  He really did want\\nto open the door, really did want to let them see him and to speak\\nwith the chief clerk; the others were being so insistent, and he was\\ncurious to learn what they would say when they caught sight of him.\\nIf they were shocked then it would no longer be Gregor\\'s\\nresponsibility and he could rest.  If, however, they took everything\\ncalmly he would still have no reason to be upset, and if he hurried\\nhe really could be at the station for eight o\\'clock.  The first few\\ntimes he tried to climb up on the smooth chest of drawers he just\\nslid down again, but he finally gave himself one last swing and\\nstood there upright; the lower part of his body was in serious pain\\nbut he no longer gave any attention to it.  Now he let himself fall\\nagainst the back of a nearby chair and held tightly to the edges of\\nit with his little legs.  By now he had also calmed down, and kept\\nquiet so that he could listen to what the chief clerk was saying.\\n\\n\"Did you understand a word of all that?\" the chief clerk asked his\\nparents, \"surely he\\'s not trying to make fools of us\". \"Oh, God!\"\\ncalled his mother, who was already in tears, \"he could be seriously\\nill and we\\'re making him suffer.  Grete! Grete!\" she then cried.\\n\"Mother?\" his sister called from the other side.  They communicated\\nacross Gregor\\'s room.  \"You\\'ll have to go for the doctor straight\\naway.  Gregor is ill.  Quick, get the doctor.  Did you hear the way\\nGregor spoke just now?\"  \"That was the voice of an animal\", said the\\nchief clerk, with a calmness that was in contrast with his mother\\'s\\nscreams.  \"Anna! Anna!\" his father called into the kitchen through\\nthe entrance hall, clapping his hands, \"get a locksmith here, now!\"\\nAnd the two girls, their skirts swishing, immediately ran out\\nthrough the hall, wrenching open the front door of the flat as they\\nwent.  How had his sister managed to get dressed so quickly? There\\nwas no sound of the door banging shut again; they must have left it\\nopen;  people often do in homes where something awful has happened.\\n\\nGregor, in contrast, had become much calmer.  So they couldn\\'t\\nunderstand his words any more, although they seemed clear enough to\\nhim, clearer than before - perhaps his ears had become used to the\\nsound.  They had realised, though, that there was something wrong\\nwith him, and were ready to help.  The first response to his\\nsituation had been confident and wise, and that made him feel\\nbetter.  He felt that he had been drawn back in among people, and\\nfrom the doctor and the locksmith he expected great and surprising\\nachievements - although he did not really distinguish one from the\\nother.  Whatever was said next would be crucial, so, in order to\\nmake his voice as clear as possible, he coughed a little, but taking\\ncare to do this not too loudly as even this might well sound\\ndifferent from the way that a human coughs and he was no longer sure\\nhe could judge this for himself.  Meanwhile, it had become very\\nquiet in the next room.  Perhaps his parents were sat at the table\\nwhispering with the chief clerk, or perhaps they were all pressed\\nagainst the door and listening.\\n\\nGregor slowly pushed his way over to the door with the chair.  Once\\nthere he let go of it and threw himself onto the door, holding\\nhimself upright against it using the adhesive on the tips of his\\nlegs.  He rested there a little while to recover from the effort\\ninvolved and then set himself to the task of turning the key in the\\nlock with his mouth.  He seemed, unfortunately, to have no proper\\nteeth - how was he, then, to grasp the key? - but the lack of teeth\\nwas, of course, made up for with a very strong jaw; using the jaw,\\nhe really was able to start the key turning, ignoring the fact that\\nhe must have been causing some kind of damage as a brown fluid came\\nfrom his mouth, flowed over the key and dripped onto the floor.\\n\"Listen\", said the chief clerk in the next room, \"he\\'s turning the\\nkey.\"  Gregor was greatly encouraged by this; but they all should\\nhave been calling to him, his father and his mother too: \"Well done,\\nGregor\", they should have cried, \"keep at it, keep hold of the\\nlock!\"  And with the idea that they were all excitedly following his\\nefforts, he bit on the key with all his strength, paying no\\nattention to the pain he was causing himself.  As the key turned\\nround he turned around the lock with it, only holding himself\\nupright with his mouth, and hung onto the key or pushed it down\\nagain with the whole weight of his body as needed.  The clear sound\\nof the lock as it snapped back was Gregor\\'s sign that he could break\\nhis concentration, and as he regained his breath he said to himself:\\n\"So, I didn\\'t need the locksmith after all\". Then he lay his head on\\nthe handle of the door to open it completely.\\n\\nBecause he had to open the door in this way, it was already wide\\nopen before he could be seen.  He had first to slowly turn himself\\naround one of the double doors, and he had to do it very carefully\\nif he did not want to fall flat on his back before entering the\\nroom.  He was still occupied with this difficult movement, unable to\\npay attention to anything else, when he heard the chief clerk\\nexclaim a loud \"Oh!\", which sounded like the soughing of the wind.\\nNow he also saw him - he was the nearest to the door - his hand\\npressed against his open mouth and slowly retreating as if driven by\\na steady and invisible force.  Gregor\\'s mother, her hair still\\ndishevelled from bed despite the chief clerk\\'s being there, looked\\nat his father.  Then she unfolded her arms, took two steps forward\\ntowards Gregor and sank down onto the floor into her skirts that\\nspread themselves out around her as her head disappeared down onto\\nher breast.  His father looked hostile, and clenched his fists as if\\nwanting to knock Gregor back into his room.  Then he looked\\nuncertainly round the living room, covered his eyes with his hands\\nand wept so that his powerful chest shook.\\n\\nSo Gregor did not go into the room, but leant against the inside of\\nthe other door which was still held bolted in place.  In this way\\nonly half of his body could be seen, along with his head above it\\nwhich he leant over to one side as he peered out at the others.\\nMeanwhile the day had become much lighter; part of the endless,\\ngrey-black building on the other side of the street - which was a\\nhospital - could be seen quite clearly with the austere and regular\\nline of windows piercing its facade; the rain was still\\nfalling, now throwing down large, individual droplets which hit the\\nground one at a time.  The washing up from breakfast lay on the\\ntable; there was so much of it because, for Gregor\\'s father,\\nbreakfast was the most important meal of the day and he would\\nstretch it out for several hours as he sat reading a number of\\ndifferent newspapers.  On the wall exactly opposite there was\\nphotograph of Gregor when he was a lieutenant in the army, his sword\\nin his hand and a carefree smile on his face as he called forth\\nrespect for his uniform and bearing.  The door to the entrance hall\\nwas open and as the front door of the flat was also open he could\\nsee onto the landing and the stairs where they began their way down\\nbelow.\\n\\n\"Now, then\", said Gregor, well aware that he was the only one to\\nhave kept calm, \"I\\'ll get dressed straight away now, pack up my\\nsamples and set off.  Will you please just let me leave? You can\\nsee\", he said to the chief clerk, \"that I\\'m not stubborn and I\\nlike to do my job; being a commercial traveller is arduous but\\nwithout travelling I couldn\\'t earn my living.  So where are you\\ngoing, in to the office? Yes? Will you report everything accurately,\\nthen? It\\'s quite possible for someone to be temporarily unable to\\nwork, but that\\'s just the right time to remember what\\'s been\\nachieved in the past and consider that later on, once the difficulty\\nhas been removed, he will certainly work with all the more diligence\\nand concentration.  You\\'re well aware that I\\'m seriously in debt to\\nour employer as well as having to look after my parents and my\\nsister, so that I\\'m trapped in a difficult situation, but I will\\nwork my way out of it again.  Please don\\'t make things any harder\\nfor me than they are already, and don\\'t take sides against me at the\\noffice.  I know that nobody likes the travellers.  They think we\\nearn an enormous wage as well as having a soft time of it.  That\\'s\\njust prejudice but they have no particular reason to think better of\\nit.  But you, sir, you have a better overview than the rest of the\\nstaff, in fact, if I can say this in confidence, a better overview\\nthan the boss himself - it\\'s very easy for a businessman like him to\\nmake mistakes about his employees and judge them more harshly than\\nhe should.  And you\\'re also well aware that we travellers spend\\nalmost the whole year away from the office, so that we can very\\neasily fall victim to gossip and chance and groundless complaints,\\nand it\\'s almost impossible to defend yourself from that sort of\\nthing, we don\\'t usually even hear about them, or if at all it\\'s when\\nwe arrive back home exhausted from a trip, and that\\'s when we feel\\nthe harmful effects of what\\'s been going on without even knowing\\nwhat caused them.  Please, don\\'t go away, at least first say\\nsomething to show that you grant that I\\'m at least partly right!\"\\n\\nBut the chief clerk had turned away as soon as Gregor had started to\\nspeak, and, with protruding lips, only stared back at him over his\\ntrembling shoulders as he left.  He did not keep still for a moment\\nwhile Gregor was speaking, but moved steadily towards the door\\nwithout taking his eyes off him.  He moved very gradually, as if\\nthere had been some secret prohibition on leaving the room.  It was\\nonly when he had reached the entrance hall that he made a sudden\\nmovement, drew his foot from the living room, and rushed forward in\\na panic.  In the hall, he stretched his right hand far out towards\\nthe stairway as if out there, there were some supernatural force\\nwaiting to save him.\\n\\nGregor realised that it was out of the question to let the chief\\nclerk go away in this mood if his position in the firm was not to be\\nput into extreme danger.  That was something his parents did not\\nunderstand very well; over the years, they had become convinced that\\nthis job would provide for Gregor for his entire life, and besides,\\nthey had so much to worry about at present that they had lost sight\\nof any thought for the future.  Gregor, though, did think about the\\nfuture.  The chief clerk had to be held back, calmed down, convinced\\nand finally won over; the future of Gregor and his family depended\\non it! If only his sister were here! She was clever; she was already\\nin tears while Gregor was still lying peacefully on his back.  And\\nthe chief clerk was a lover of women, surely she could persuade him;\\nshe would close the front door in the entrance hall and talk him out\\nof his shocked state.  But his sister was not there, Gregor would\\nhave to do the job himself.  And without considering that he still\\nwas not familiar with how well he could move about in his present\\nstate, or that his speech still might not - or probably would not -\\nbe understood, he let go of the door; pushed himself through the\\nopening; tried to reach the chief clerk on the landing who,\\nridiculously, was holding on to the banister with both hands; but\\nGregor fell immediately over and, with a little scream as he sought\\nsomething to hold onto, landed on his numerous little legs.  Hardly\\nhad that happened than, for the first time that day, he began to\\nfeel alright with his body; the little legs had the solid ground\\nunder them; to his pleasure, they did exactly as he told them; they\\nwere even making the effort to carry him where he wanted to go; and\\nhe was soon believing that all his sorrows would soon be finally at\\nan end.  He held back the urge to move but swayed from side to side\\nas he crouched there on the floor.  His mother was not far away in\\nfront of him and seemed, at first, quite engrossed in herself, but\\nthen she suddenly jumped up with her arms outstretched and her\\nfingers spread shouting: \"Help, for pity\\'s sake, Help!\"  The way she\\nheld her head suggested she wanted to see Gregor better, but the\\nunthinking way she was hurrying backwards showed that she did not;\\nshe had forgotten that the table was behind her with all the\\nbreakfast things on it; when she reached the table she sat quickly\\ndown on it without knowing what she was doing; without even seeming\\nto notice that the coffee pot had been knocked over and a gush of\\ncoffee was pouring down onto the carpet.\\n\\n\"Mother, mother\", said Gregor gently, looking up at her.  He had\\ncompletely forgotten the chief clerk for the moment, but could not\\nhelp himself snapping in the air with his jaws at the sight of the\\nflow of coffee.  That set his mother screaming anew, she fled from\\nthe table and into the arms of his father as he rushed towards her.\\nGregor, though, had no time to spare for his parents now; the chief\\nclerk had already reached the stairs; with his chin on the banister,\\nhe looked back for the last time.  Gregor made a run for him; he\\nwanted to be sure of reaching him; the chief clerk must have\\nexpected something, as he leapt down several steps at once and\\ndisappeared; his shouts resounding all around the staircase.  The\\nflight of the chief clerk seemed, unfortunately, to put Gregor\\'s\\nfather into a panic as well.  Until then he had been relatively self\\ncontrolled, but now, instead of running after the chief clerk\\nhimself, or at least not impeding Gregor as he ran after him,\\nGregor\\'s father seized the chief clerk\\'s stick in his right hand\\n(the chief clerk had left it behind on a chair, along with his hat\\nand overcoat), picked up a large newspaper from the table with his\\nleft, and used them to drive Gregor back into his room, stamping his\\nfoot at him as he went.  Gregor\\'s appeals to his father were of no\\nhelp, his appeals were simply not understood, however much he humbly\\nturned his head his father merely stamped his foot all the harder.\\nAcross the room, despite the chilly weather, Gregor\\'s mother had\\npulled open a window, leant far out of it and pressed her hands to\\nher face.  A strong draught of air flew in from the street towards\\nthe stairway, the curtains flew up, the newspapers on the table\\nfluttered and some of them were blown onto the floor.  Nothing would\\nstop Gregor\\'s father as he drove him back, making hissing noises at\\nhim like a wild man.  Gregor had never had any practice in moving\\nbackwards and was only able to go very slowly.  If Gregor had only\\nbeen allowed to turn round he would have been back in his room\\nstraight away, but he was afraid that if he took the time to do that\\nhis father would become impatient, and there was the threat of a\\nlethal blow to his back or head from the stick in his father\\'s hand\\nany moment.  Eventually, though, Gregor realised that he had no\\nchoice as he saw, to his disgust, that he was quite incapable of\\ngoing backwards in a straight line; so he began, as quickly as\\npossible and with frequent anxious glances at his father, to turn\\nhimself round.  It went very slowly, but perhaps his father was able\\nto see his good intentions as he did nothing to hinder him, in fact\\nnow and then he used the tip of his stick to give directions from a\\ndistance as to which way to turn.  If only his father would stop\\nthat unbearable hissing! It was making Gregor quite confused.  When\\nhe had nearly finished turning round, still listening to that\\nhissing, he made a mistake and turned himself back a little the way\\nhe had just come.  He was pleased when he finally had his head in\\nfront of the doorway, but then saw that it was too narrow, and his\\nbody was too broad to get through it without further difficulty.  In\\nhis present mood, it obviously did not occur to his father to open\\nthe other of the double doors so that Gregor would have enough space\\nto get through.  He was merely fixed on the idea that Gregor should\\nbe got back into his room as quickly as possible.  Nor would he ever\\nhave allowed Gregor the time to get himself upright as preparation\\nfor getting through the doorway.  What he did, making more noise\\nthan ever, was to drive Gregor forwards all the harder as if there\\nhad been nothing in the way; it sounded to Gregor as if there was\\nnow more than one father behind him; it was not a pleasant\\nexperience, and Gregor pushed himself into the doorway without\\nregard for what might happen.  One side of his body lifted itself,\\nhe lay at an angle in the doorway, one flank scraped on the white\\ndoor and was painfully injured, leaving vile brown flecks on it,\\nsoon he was stuck fast and would not have been able to move at all\\nby himself, the little legs along one side hung quivering in the air\\nwhile those on the other side were pressed painfully against the\\nground.  Then his father gave him a hefty shove from behind which\\nreleased him from where he was held and sent him flying, and heavily\\nbleeding, deep into his room.  The door was slammed shut with the\\nstick, then, finally, all was quiet.'"
            ]
          },
          "execution_count": 3,
          "metadata": {},
          "output_type": "execute_result"
        }
      ],
      "source": [
        "textfile"
      ]
    },
    {
      "cell_type": "markdown",
      "metadata": {
        "id": "DG-Gns4hYhGS"
      },
      "source": [
        "1. split it by white space"
      ]
    },
    {
      "cell_type": "code",
      "execution_count": null,
      "metadata": {
        "id": "Eb0GpNqN5lJd"
      },
      "outputs": [],
      "source": [
        "textfile.split()"
      ]
    },
    {
      "cell_type": "markdown",
      "metadata": {
        "id": "lEE-iuzGZM1F"
      },
      "source": [
        "2. Select strings of alphanumeric characters (a-z, A-Z, 0-9, and '_')\n",
        "   \n",
        "   use re"
      ]
    },
    {
      "cell_type": "code",
      "execution_count": 16,
      "metadata": {
        "id": "a_39iE_6a1y7"
      },
      "outputs": [],
      "source": [
        "？"
      ]
    },
    {
      "cell_type": "markdown",
      "metadata": {
        "id": "vPGB6aN5a2ct"
      },
      "source": [
        "3. Remove Punctuation"
      ]
    },
    {
      "cell_type": "code",
      "execution_count": null,
      "metadata": {
        "id": "TPRGTeUqZiR6"
      },
      "outputs": [],
      "source": [
        "import re\n",
        "tokens = re.split(r'[-\\s.,;!?]+', textfile)\n",
        "tokens"
      ]
    },
    {
      "cell_type": "markdown",
      "metadata": {
        "id": "gAeQQh-XaqUi"
      },
      "source": [
        "4. Case folding"
      ]
    },
    {
      "cell_type": "code",
      "execution_count": null,
      "metadata": {
        "id": "Fkcqmbg9dJP4"
      },
      "outputs": [],
      "source": [
        "normalized_tokens = [x.lower() for x in tokens]\n",
        "normalized_tokens"
      ]
    },
    {
      "cell_type": "markdown",
      "metadata": {
        "id": "zxQr7ouzcAVP"
      },
      "source": [
        "5. Use TreebankWordTokenizer to tokenize the text"
      ]
    },
    {
      "cell_type": "code",
      "execution_count": null,
      "metadata": {
        "colab": {
          "base_uri": "https://localhost:8080/",
          "height": 125
        },
        "id": "rOeVI-HgdtBM",
        "outputId": "1fdcd375-807f-4a93-c6a8-33851f15a2e8"
      },
      "outputs": [
        {
          "data": {
            "application/vnd.google.colaboratory.intrinsic+json": {
              "type": "string"
            },
            "text/plain": [
              "'One morning, when Gregor Samsa woke from troubled dreams, he found\\nhimself transformed in his bed into a horrible vermin.  He lay on\\nhis armour-like back, and if he lifted his head a little he could\\nsee his brown belly, slightly domed and divided by arches into stiff\\nsections.  The bedding was hardly able to cover it and seemed ready\\nto slide off any moment.  His many legs, pitifully thin compared\\nwith the size of the rest of him, waved about helplessly as he\\nlooked.\\n\\n\"What\\'s happened to me?\" he thought.  It wasn\\'t a dream.  His room,\\na proper human room although a little too small, lay peacefully\\nbetween its four familiar walls.  A collection of textile samples\\nlay spread out on the table - Samsa was a travelling salesman - and\\nabove it there hung a picture that he had recently cut out of an\\nillustrated magazine and housed in a nice, gilded frame.  It showed\\na lady fitted out with a fur hat and fur boa who sat upright,\\nraising a heavy fur muff that covered the whole of her lower arm\\ntowards the viewer.\\n\\nGregor then turned to look out the window at the dull weather.\\nDrops of rain could be heard hitting the pane, which made him feel\\nquite sad.  \"How about if I sleep a little bit longer and forget all\\nthis nonsense\", he thought, but that was something he was unable to\\ndo because he was used to sleeping on his right, and in his present\\nstate couldn\\'t get into that position.  However hard he threw\\nhimself onto his right, he always rolled back to where he was.  He\\nmust have tried it a hundred times, shut his eyes so that he\\nwouldn\\'t have to look at the floundering legs, and only stopped when\\nhe began to feel a mild, dull pain there that he had never felt\\nbefore.\\n\\n\"Oh, God\", he thought, \"what a strenuous career it is that I\\'ve\\nchosen! Travelling day in and day out.  Doing business like this\\ntakes much more effort than doing your own business at home, and on\\ntop of that there\\'s the curse of travelling, worries about making\\ntrain connections, bad and irregular food, contact with different\\npeople all the time so that you can never get to know anyone or\\nbecome friendly with them.  It can all go to Hell!\"  He felt a\\nslight itch up on his belly; pushed himself slowly up on his back\\ntowards the headboard so that he could lift his head better; found\\nwhere the itch was, and saw that it was covered with lots of little\\nwhite spots which he didn\\'t know what to make of; and when he tried\\nto feel the place with one of his legs he drew it quickly back\\nbecause as soon as he touched it he was overcome by a cold shudder.\\n\\nHe slid back into his former position.  \"Getting up early all the\\ntime\", he thought, \"it makes you stupid.  You\\'ve got to get enough\\nsleep.  Other travelling salesmen live a life of luxury.  For\\ninstance, whenever I go back to the guest house during the morning\\nto copy out the contract, these gentlemen are always still sitting\\nthere eating their breakfasts.  I ought to just try that with my\\nboss; I\\'d get kicked out on the spot.  But who knows, maybe that\\nwould be the best thing for me.  If I didn\\'t have my parents to\\nthink about I\\'d have given in my notice a long time ago, I\\'d have\\ngone up to the boss and told him just what I think, tell him\\neverything I would, let him know just what I feel.  He\\'d fall right\\noff his desk! And it\\'s a funny sort of business to be sitting up\\nthere at your desk, talking down at your subordinates from up there,\\nespecially when you have to go right up close because the boss is\\nhard of hearing.  Well, there\\'s still some hope; once I\\'ve got the\\nmoney together to pay off my parents\\' debt to him - another five or\\nsix years I suppose - that\\'s definitely what I\\'ll do.  That\\'s when\\nI\\'ll make the big change.  First of all though, I\\'ve got to get up,\\nmy train leaves at five.\"\\n\\nAnd he looked over at the alarm clock, ticking on the chest of\\ndrawers.  \"God in Heaven!\" he thought.  It was half past six and the\\nhands were quietly moving forwards, it was even later than half\\npast, more like quarter to seven.  Had the alarm clock not rung? He\\ncould see from the bed that it had been set for four o\\'clock as it\\nshould have been; it certainly must have rung.  Yes, but was it\\npossible to quietly sleep through that furniture-rattling noise?\\nTrue, he had not slept peacefully, but probably all the more deeply\\nbecause of that.  What should he do now? The next train went at\\nseven; if he were to catch that he would have to rush like mad and\\nthe collection of samples was still not packed, and he did not at\\nall feel particularly fresh and lively.  And even if he did catch\\nthe train he would not avoid his boss\\'s anger as the office\\nassistant would have been there to see the five o\\'clock train go, he\\nwould have put in his report about Gregor\\'s not being there a long\\ntime ago.  The office assistant was the boss\\'s man, spineless, and\\nwith no understanding.  What about if he reported sick? But that\\nwould be extremely strained and suspicious as in fifteen years of\\nservice Gregor had never once yet been ill.  His boss would\\ncertainly come round with the doctor from the medical insurance\\ncompany, accuse his parents of having a lazy son, and accept the\\ndoctor\\'s recommendation not to make any claim as the doctor believed\\nthat no-one was ever ill but that many were workshy.  And what\\'s\\nmore, would he have been entirely wrong in this case? Gregor did in\\nfact, apart from excessive sleepiness after sleeping for so long,\\nfeel completely well and even felt much hungrier than usual.\\n\\nHe was still hurriedly thinking all this through, unable to decide\\nto get out of the bed, when the clock struck quarter to seven.\\nThere was a cautious knock at the door near his head.  \"Gregor\",\\nsomebody called - it was his mother - \"it\\'s quarter to seven.\\nDidn\\'t you want to go somewhere?\"  That gentle voice! Gregor was\\nshocked when he heard his own voice answering, it could hardly be\\nrecognised as the voice he had had before.  As if from deep inside\\nhim, there was a painful and uncontrollable squeaking mixed in with\\nit, the words could be made out at first but then there was a sort\\nof echo which made them unclear, leaving the hearer unsure whether\\nhe had heard properly or not.  Gregor had wanted to give a full\\nanswer and explain everything, but in the circumstances contented\\nhimself with saying: \"Yes, mother, yes, thank-you, I\\'m getting up\\nnow.\"  The change in Gregor\\'s voice probably could not be noticed\\noutside through the wooden door, as his mother was satisfied with\\nthis explanation and shuffled away.  But this short conversation\\nmade the other members of the family aware that Gregor, against\\ntheir expectations was still at home, and soon his father came\\nknocking at one of the side doors, gently, but with his fist.\\n\"Gregor, Gregor\", he called, \"what\\'s wrong?\"  And after a short\\nwhile he called again with a warning deepness in his voice: \"Gregor!\\nGregor!\"  At the other side door his sister came plaintively:\\n\"Gregor? Aren\\'t you well? Do you need anything?\"  Gregor answered to\\nboth sides: \"I\\'m ready, now\", making an effort to remove all the\\nstrangeness from his voice by enunciating very carefully and putting\\nlong pauses between each, individual word.  His father went back to\\nhis breakfast, but his sister whispered: \"Gregor, open the door, I\\nbeg of you.\"  Gregor, however, had no thought of opening the door,\\nand instead congratulated himself for his cautious habit, acquired\\nfrom his travelling, of locking all doors at night even when he was\\nat home.\\n\\nThe first thing he wanted to do was to get up in peace without being\\ndisturbed, to get dressed, and most of all to have his breakfast.\\nOnly then would he consider what to do next, as he was well aware\\nthat he would not bring his thoughts to any sensible conclusions by\\nlying in bed.  He remembered that he had often felt a slight pain in\\nbed, perhaps caused by lying awkwardly, but that had always turned\\nout to be pure imagination and he wondered how his imaginings would\\nslowly resolve themselves today.  He did not have the slightest\\ndoubt that the change in his voice was nothing more than the first\\nsign of a serious cold, which was an occupational hazard for\\ntravelling salesmen.\\n\\nIt was a simple matter to throw off the covers; he only had to blow\\nhimself up a little and they fell off by themselves.  But it became\\ndifficult after that, especially as he was so exceptionally broad.\\nHe would have used his arms and his hands to push himself up; but\\ninstead of them he only had all those little legs continuously\\nmoving in different directions, and which he was moreover unable to\\ncontrol.  If he wanted to bend one of them, then that was the first\\none that would stretch itself out; and if he finally managed to do\\nwhat he wanted with that leg, all the others seemed to be set free\\nand would move about painfully.  \"This is something that can\\'t be\\ndone in bed\", Gregor said to himself, \"so don\\'t keep trying to do\\nit\".\\n\\nThe first thing he wanted to do was get the lower part of his body\\nout of the bed, but he had never seen this lower part, and could not\\nimagine what it looked like; it turned out to be too hard to move;\\nit went so slowly; and finally, almost in a frenzy, when he\\ncarelessly shoved himself forwards with all the force he could\\ngather, he chose the wrong direction, hit hard against the lower\\nbedpost, and learned from the burning pain he felt that the lower\\npart of his body might well, at present, be the most sensitive.\\n\\nSo then he tried to get the top part of his body out of the bed\\nfirst, carefully turning his head to the side.  This he managed\\nquite easily, and despite its breadth and its weight, the bulk of\\nhis body eventually followed slowly in the direction of the head.\\nBut when he had at last got his head out of the bed and into the\\nfresh air it occurred to him that if he let himself fall it would be\\na miracle if his head were not injured, so he became afraid to carry\\non pushing himself forward the same way.  And he could not knock\\nhimself out now at any price; better to stay in bed than lose\\nconsciousness.\\n\\nIt took just as much effort to get back to where he had been\\nearlier, but when he lay there sighing, and was once more watching\\nhis legs as they struggled against each other even harder than\\nbefore, if that was possible, he could think of no way of bringing\\npeace and order to this chaos.  He told himself once more that it\\nwas not possible for him to stay in bed and that the most sensible\\nthing to do would be to get free of it in whatever way he could at\\nwhatever sacrifice.  At the same time, though, he did not forget to\\nremind himself that calm consideration was much better than rushing\\nto desperate conclusions.  At times like this he would direct his\\neyes to the window and look out as clearly as he could, but\\nunfortunately, even the other side of the narrow street was\\nenveloped in morning fog and the view had little confidence or cheer\\nto offer him.  \"Seven o\\'clock, already\", he said to himself when the\\nclock struck again, \"seven o\\'clock, and there\\'s still a fog like\\nthis.\"  And he lay there quietly a while longer, breathing lightly\\nas if he perhaps expected the total stillness to bring things back\\nto their real and natural state.\\n\\nBut then he said to himself: \"Before it strikes quarter past seven\\nI\\'ll definitely have to have got properly out of bed.  And by then\\nsomebody will have come round from work to ask what\\'s happened to me\\nas well, as they open up at work before seven o\\'clock.\"  And so he\\nset himself to the task of swinging the entire length of his body\\nout of the bed all at the same time.  If he succeeded in falling out\\nof bed in this way and kept his head raised as he did so he could\\nprobably avoid injuring it.  His back seemed to be quite hard, and\\nprobably nothing would happen to it falling onto the carpet.  His\\nmain concern was for the loud noise he was bound to make, and which\\neven through all the doors would probably raise concern if not\\nalarm.  But it was something that had to be risked.\\n\\nWhen Gregor was already sticking half way out of the bed - the new\\nmethod was more of a game than an effort, all he had to do was rock\\nback and forth - it occurred to him how simple everything would be\\nif somebody came to help him.  Two strong people - he had his father\\nand the maid in mind - would have been more than enough; they would\\nonly have to push their arms under the dome of his back, peel him\\naway from the bed, bend down with the load and then be patient and\\ncareful as he swang over onto the floor, where, hopefully, the\\nlittle legs would find a use.  Should he really call for help\\nthough, even apart from the fact that all the doors were locked?\\nDespite all the difficulty he was in, he could not suppress a smile\\nat this thought.\\n\\nAfter a while he had already moved so far across that it would have\\nbeen hard for him to keep his balance if he rocked too hard.  The\\ntime was now ten past seven and he would have to make a final\\ndecision very soon.  Then there was a ring at the door of the flat.\\n\"That\\'ll be someone from work\", he said to himself, and froze very\\nstill, although his little legs only became all the more lively as\\nthey danced around.  For a moment everything remained quiet.\\n\"They\\'re not opening the door\", Gregor said to himself, caught in\\nsome nonsensical hope.  But then of course, the maid\\'s firm steps\\nwent to the door as ever and opened it.  Gregor only needed to hear\\nthe visitor\\'s first words of greeting and he knew who it was - the\\nchief clerk himself.  Why did Gregor have to be the only one\\ncondemned to work for a company where they immediately became highly\\nsuspicious at the slightest shortcoming? Were all employees, every\\none of them, louts, was there not one of them who was faithful and\\ndevoted who would go so mad with pangs of conscience that he\\ncouldn\\'t get out of bed if he didn\\'t spend at least a couple of\\nhours in the morning on company business? Was it really not enough\\nto let one of the trainees make enquiries - assuming enquiries were\\neven necessary - did the chief clerk have to come himself, and did\\nthey have to show the whole, innocent family that this was so\\nsuspicious that only the chief clerk could be trusted to have the\\nwisdom to investigate it? And more because these thoughts had made\\nhim upset than through any proper decision, he swang himself with\\nall his force out of the bed.  There was a loud thump, but it wasn\\'t\\nreally a loud noise.  His fall was softened a little by the carpet,\\nand Gregor\\'s back was also more elastic than he had thought, which\\nmade the sound muffled and not too noticeable.  He had not held his\\nhead carefully enough, though, and hit it as he fell; annoyed and in\\npain, he turned it and rubbed it against the carpet.\\n\\n\"Something\\'s fallen down in there\", said the chief clerk in the room\\non the left.  Gregor tried to imagine whether something of the sort\\nthat had happened to him today could ever happen to the chief clerk\\ntoo; you had to concede that it was possible.  But as if in gruff\\nreply to this question, the chief clerk\\'s firm footsteps in his\\nhighly polished boots could now be heard in the adjoining room.\\nFrom the room on his right, Gregor\\'s sister whispered to him to let\\nhim know: \"Gregor, the chief clerk is here.\"  \"Yes, I know\", said\\nGregor to himself; but without daring to raise his voice loud enough\\nfor his sister to hear him.\\n\\n\"Gregor\", said his father now from the room to his left, \"the chief\\nclerk has come round and wants to know why you didn\\'t leave on the\\nearly train.  We don\\'t know what to say to him.  And anyway, he\\nwants to speak to you personally.  So please open up this door.  I\\'m\\nsure he\\'ll be good enough to forgive the untidiness of your room.\"\\nThen the chief clerk called \"Good morning,  Mr. Samsa\". \"He isn\\'t\\nwell\", said his mother to the chief clerk, while his father\\ncontinued to speak through the door.  \"He isn\\'t well, please believe\\nme.  Why else would Gregor have missed a train! The lad only ever\\nthinks about the business.  It nearly makes me cross the way he\\nnever goes out in the evenings; he\\'s been in town for a week now but\\nstayed home every evening.  He sits with us in the kitchen and just\\nreads the paper or studies train timetables.  His idea of relaxation\\nis working with his fretsaw.  He\\'s made a little frame, for\\ninstance, it only took him two or three evenings, you\\'ll be amazed\\nhow nice it is; it\\'s hanging up in his room; you\\'ll see it as soon\\nas Gregor opens the door.  Anyway, I\\'m glad you\\'re here; we wouldn\\'t\\nhave been able to get Gregor to open the door by ourselves; he\\'s so\\nstubborn; and I\\'m sure he isn\\'t well, he said this morning that he\\nis, but he isn\\'t.\"  \"I\\'ll be there in a moment\", said Gregor slowly\\nand thoughtfully, but without moving so that he would not miss any\\nword of the conversation.  \"Well I can\\'t think of any other way of\\nexplaining it,  Mrs. Samsa\", said the chief clerk, \"I hope it\\'s\\nnothing serious.  But on the other hand, I must say that if we\\npeople in commerce ever become slightly unwell then, fortunately or\\nunfortunately as you like, we simply have to overcome it because of\\nbusiness considerations.\"  \"Can the chief clerk come in to see you\\nnow then?\", asked his father impatiently, knocking at the door\\nagain.  \"No\", said Gregor.  In the room on his right there followed\\na painful silence; in the room on his left his sister began to cry.\\n\\nSo why did his sister not go and join the others? She had probably\\nonly just got up and had not even begun to get dressed.  And why was\\nshe crying? Was it because he had not got up, and had not let the\\nchief clerk in, because he was in danger of losing his job and if\\nthat happened his boss would once more pursue their parents with the\\nsame demands as before? There was no need to worry about things like\\nthat yet.  Gregor was still there and had not the slightest\\nintention of abandoning his family.  For the time being he just lay\\nthere on the carpet, and no-one who knew the condition he was in\\nwould seriously have expected him to let the chief clerk in.  It was\\nonly a minor discourtesy, and a suitable excuse could easily be\\nfound for it later on, it was not something for which Gregor could\\nbe sacked on the spot.  And it seemed to Gregor much more sensible\\nto leave him now in peace instead of disturbing him with talking at\\nhim and crying.  But the others didn\\'t know what was happening, they\\nwere worried, that would excuse their behaviour.\\n\\nThe chief clerk now raised his voice, \"Mr. Samsa\", he called to him,\\n\"what is wrong? You barricade yourself in your room, give us no more\\nthan yes or no for an answer, you are causing serious and\\nunnecessary concern to your parents and you fail - and I mention\\nthis just by the way - you fail to carry out your business duties in\\na way that is quite unheard of.  I\\'m speaking here on behalf of your\\nparents and of your employer, and really must request a clear and\\nimmediate explanation.  I am astonished, quite astonished.  I\\nthought I knew you as a calm and sensible person, and now you\\nsuddenly seem to be showing off with peculiar whims.  This morning,\\nyour employer did suggest a possible reason for your failure to\\nappear, it\\'s true - it had to do with the money that was recently\\nentrusted to you - but I came near to giving him my word of honour\\nthat that could not be the right explanation.  But now that I see\\nyour incomprehensible stubbornness I no longer feel any wish\\nwhatsoever to intercede on your behalf.  And nor is your position\\nall that secure.  I had originally intended to say all this to you\\nin private, but since you cause me to waste my time here for no good\\nreason I don\\'t see why your parents should not also learn of it.\\nYour turnover has been very unsatisfactory of late; I grant you that\\nit\\'s not the time of year to do especially good business, we\\nrecognise that; but there simply is no time of year to do no\\nbusiness at all,  Mr. Samsa, we cannot allow there to be.\"\\n\\n\"But Sir\", called Gregor, beside himself and forgetting all else in\\nthe excitement, \"I\\'ll open up immediately, just a moment.  I\\'m\\nslightly unwell, an attack of dizziness, I haven\\'t been able to get\\nup.  I\\'m still in bed now.  I\\'m quite fresh again now, though.  I\\'m\\njust getting out of bed.  Just a moment.  Be patient! It\\'s not quite\\nas easy as I\\'d thought.  I\\'m quite alright now, though.  It\\'s\\nshocking, what can suddenly happen to a person! I was quite alright\\nlast night, my parents know about it, perhaps better than me, I had\\na small symptom of it last night already.  They must have noticed\\nit.  I don\\'t know why I didn\\'t let you know at work! But you always\\nthink you can get over an illness without staying at home.  Please,\\ndon\\'t make my parents suffer! There\\'s no basis for any of the\\naccusations you\\'re making; nobody\\'s ever said a word to me about any\\nof these things.  Maybe you haven\\'t read the latest contracts I sent\\nin.  I\\'ll set off with the eight o\\'clock train, as well, these few\\nhours of rest have given me strength.  You don\\'t need to wait, sir;\\nI\\'ll be in the office soon after you, and please be so good as to\\ntell that to the boss and recommend me to him!\"\\n\\nAnd while Gregor gushed out these words, hardly knowing what he was\\nsaying, he made his way over to the chest of drawers - this was\\neasily done, probably because of the practise he had already had in\\nbed - where he now tried to get himself upright.  He really did want\\nto open the door, really did want to let them see him and to speak\\nwith the chief clerk; the others were being so insistent, and he was\\ncurious to learn what they would say when they caught sight of him.\\nIf they were shocked then it would no longer be Gregor\\'s\\nresponsibility and he could rest.  If, however, they took everything\\ncalmly he would still have no reason to be upset, and if he hurried\\nhe really could be at the station for eight o\\'clock.  The first few\\ntimes he tried to climb up on the smooth chest of drawers he just\\nslid down again, but he finally gave himself one last swing and\\nstood there upright; the lower part of his body was in serious pain\\nbut he no longer gave any attention to it.  Now he let himself fall\\nagainst the back of a nearby chair and held tightly to the edges of\\nit with his little legs.  By now he had also calmed down, and kept\\nquiet so that he could listen to what the chief clerk was saying.\\n\\n\"Did you understand a word of all that?\" the chief clerk asked his\\nparents, \"surely he\\'s not trying to make fools of us\". \"Oh, God!\"\\ncalled his mother, who was already in tears, \"he could be seriously\\nill and we\\'re making him suffer.  Grete! Grete!\" she then cried.\\n\"Mother?\" his sister called from the other side.  They communicated\\nacross Gregor\\'s room.  \"You\\'ll have to go for the doctor straight\\naway.  Gregor is ill.  Quick, get the doctor.  Did you hear the way\\nGregor spoke just now?\"  \"That was the voice of an animal\", said the\\nchief clerk, with a calmness that was in contrast with his mother\\'s\\nscreams.  \"Anna! Anna!\" his father called into the kitchen through\\nthe entrance hall, clapping his hands, \"get a locksmith here, now!\"\\nAnd the two girls, their skirts swishing, immediately ran out\\nthrough the hall, wrenching open the front door of the flat as they\\nwent.  How had his sister managed to get dressed so quickly? There\\nwas no sound of the door banging shut again; they must have left it\\nopen;  people often do in homes where something awful has happened.\\n\\nGregor, in contrast, had become much calmer.  So they couldn\\'t\\nunderstand his words any more, although they seemed clear enough to\\nhim, clearer than before - perhaps his ears had become used to the\\nsound.  They had realised, though, that there was something wrong\\nwith him, and were ready to help.  The first response to his\\nsituation had been confident and wise, and that made him feel\\nbetter.  He felt that he had been drawn back in among people, and\\nfrom the doctor and the locksmith he expected great and surprising\\nachievements - although he did not really distinguish one from the\\nother.  Whatever was said next would be crucial, so, in order to\\nmake his voice as clear as possible, he coughed a little, but taking\\ncare to do this not too loudly as even this might well sound\\ndifferent from the way that a human coughs and he was no longer sure\\nhe could judge this for himself.  Meanwhile, it had become very\\nquiet in the next room.  Perhaps his parents were sat at the table\\nwhispering with the chief clerk, or perhaps they were all pressed\\nagainst the door and listening.\\n\\nGregor slowly pushed his way over to the door with the chair.  Once\\nthere he let go of it and threw himself onto the door, holding\\nhimself upright against it using the adhesive on the tips of his\\nlegs.  He rested there a little while to recover from the effort\\ninvolved and then set himself to the task of turning the key in the\\nlock with his mouth.  He seemed, unfortunately, to have no proper\\nteeth - how was he, then, to grasp the key? - but the lack of teeth\\nwas, of course, made up for with a very strong jaw; using the jaw,\\nhe really was able to start the key turning, ignoring the fact that\\nhe must have been causing some kind of damage as a brown fluid came\\nfrom his mouth, flowed over the key and dripped onto the floor.\\n\"Listen\", said the chief clerk in the next room, \"he\\'s turning the\\nkey.\"  Gregor was greatly encouraged by this; but they all should\\nhave been calling to him, his father and his mother too: \"Well done,\\nGregor\", they should have cried, \"keep at it, keep hold of the\\nlock!\"  And with the idea that they were all excitedly following his\\nefforts, he bit on the key with all his strength, paying no\\nattention to the pain he was causing himself.  As the key turned\\nround he turned around the lock with it, only holding himself\\nupright with his mouth, and hung onto the key or pushed it down\\nagain with the whole weight of his body as needed.  The clear sound\\nof the lock as it snapped back was Gregor\\'s sign that he could break\\nhis concentration, and as he regained his breath he said to himself:\\n\"So, I didn\\'t need the locksmith after all\". Then he lay his head on\\nthe handle of the door to open it completely.\\n\\nBecause he had to open the door in this way, it was already wide\\nopen before he could be seen.  He had first to slowly turn himself\\naround one of the double doors, and he had to do it very carefully\\nif he did not want to fall flat on his back before entering the\\nroom.  He was still occupied with this difficult movement, unable to\\npay attention to anything else, when he heard the chief clerk\\nexclaim a loud \"Oh!\", which sounded like the soughing of the wind.\\nNow he also saw him - he was the nearest to the door - his hand\\npressed against his open mouth and slowly retreating as if driven by\\na steady and invisible force.  Gregor\\'s mother, her hair still\\ndishevelled from bed despite the chief clerk\\'s being there, looked\\nat his father.  Then she unfolded her arms, took two steps forward\\ntowards Gregor and sank down onto the floor into her skirts that\\nspread themselves out around her as her head disappeared down onto\\nher breast.  His father looked hostile, and clenched his fists as if\\nwanting to knock Gregor back into his room.  Then he looked\\nuncertainly round the living room, covered his eyes with his hands\\nand wept so that his powerful chest shook.\\n\\nSo Gregor did not go into the room, but leant against the inside of\\nthe other door which was still held bolted in place.  In this way\\nonly half of his body could be seen, along with his head above it\\nwhich he leant over to one side as he peered out at the others.\\nMeanwhile the day had become much lighter; part of the endless,\\ngrey-black building on the other side of the street - which was a\\nhospital - could be seen quite clearly with the austere and regular\\nline of windows piercing its facade; the rain was still\\nfalling, now throwing down large, individual droplets which hit the\\nground one at a time.  The washing up from breakfast lay on the\\ntable; there was so much of it because, for Gregor\\'s father,\\nbreakfast was the most important meal of the day and he would\\nstretch it out for several hours as he sat reading a number of\\ndifferent newspapers.  On the wall exactly opposite there was\\nphotograph of Gregor when he was a lieutenant in the army, his sword\\nin his hand and a carefree smile on his face as he called forth\\nrespect for his uniform and bearing.  The door to the entrance hall\\nwas open and as the front door of the flat was also open he could\\nsee onto the landing and the stairs where they began their way down\\nbelow.\\n\\n\"Now, then\", said Gregor, well aware that he was the only one to\\nhave kept calm, \"I\\'ll get dressed straight away now, pack up my\\nsamples and set off.  Will you please just let me leave? You can\\nsee\", he said to the chief clerk, \"that I\\'m not stubborn and I\\nlike to do my job; being a commercial traveller is arduous but\\nwithout travelling I couldn\\'t earn my living.  So where are you\\ngoing, in to the office? Yes? Will you report everything accurately,\\nthen? It\\'s quite possible for someone to be temporarily unable to\\nwork, but that\\'s just the right time to remember what\\'s been\\nachieved in the past and consider that later on, once the difficulty\\nhas been removed, he will certainly work with all the more diligence\\nand concentration.  You\\'re well aware that I\\'m seriously in debt to\\nour employer as well as having to look after my parents and my\\nsister, so that I\\'m trapped in a difficult situation, but I will\\nwork my way out of it again.  Please don\\'t make things any harder\\nfor me than they are already, and don\\'t take sides against me at the\\noffice.  I know that nobody likes the travellers.  They think we\\nearn an enormous wage as well as having a soft time of it.  That\\'s\\njust prejudice but they have no particular reason to think better of\\nit.  But you, sir, you have a better overview than the rest of the\\nstaff, in fact, if I can say this in confidence, a better overview\\nthan the boss himself - it\\'s very easy for a businessman like him to\\nmake mistakes about his employees and judge them more harshly than\\nhe should.  And you\\'re also well aware that we travellers spend\\nalmost the whole year away from the office, so that we can very\\neasily fall victim to gossip and chance and groundless complaints,\\nand it\\'s almost impossible to defend yourself from that sort of\\nthing, we don\\'t usually even hear about them, or if at all it\\'s when\\nwe arrive back home exhausted from a trip, and that\\'s when we feel\\nthe harmful effects of what\\'s been going on without even knowing\\nwhat caused them.  Please, don\\'t go away, at least first say\\nsomething to show that you grant that I\\'m at least partly right!\"\\n\\nBut the chief clerk had turned away as soon as Gregor had started to\\nspeak, and, with protruding lips, only stared back at him over his\\ntrembling shoulders as he left.  He did not keep still for a moment\\nwhile Gregor was speaking, but moved steadily towards the door\\nwithout taking his eyes off him.  He moved very gradually, as if\\nthere had been some secret prohibition on leaving the room.  It was\\nonly when he had reached the entrance hall that he made a sudden\\nmovement, drew his foot from the living room, and rushed forward in\\na panic.  In the hall, he stretched his right hand far out towards\\nthe stairway as if out there, there were some supernatural force\\nwaiting to save him.\\n\\nGregor realised that it was out of the question to let the chief\\nclerk go away in this mood if his position in the firm was not to be\\nput into extreme danger.  That was something his parents did not\\nunderstand very well; over the years, they had become convinced that\\nthis job would provide for Gregor for his entire life, and besides,\\nthey had so much to worry about at present that they had lost sight\\nof any thought for the future.  Gregor, though, did think about the\\nfuture.  The chief clerk had to be held back, calmed down, convinced\\nand finally won over; the future of Gregor and his family depended\\non it! If only his sister were here! She was clever; she was already\\nin tears while Gregor was still lying peacefully on his back.  And\\nthe chief clerk was a lover of women, surely she could persuade him;\\nshe would close the front door in the entrance hall and talk him out\\nof his shocked state.  But his sister was not there, Gregor would\\nhave to do the job himself.  And without considering that he still\\nwas not familiar with how well he could move about in his present\\nstate, or that his speech still might not - or probably would not -\\nbe understood, he let go of the door; pushed himself through the\\nopening; tried to reach the chief clerk on the landing who,\\nridiculously, was holding on to the banister with both hands; but\\nGregor fell immediately over and, with a little scream as he sought\\nsomething to hold onto, landed on his numerous little legs.  Hardly\\nhad that happened than, for the first time that day, he began to\\nfeel alright with his body; the little legs had the solid ground\\nunder them; to his pleasure, they did exactly as he told them; they\\nwere even making the effort to carry him where he wanted to go; and\\nhe was soon believing that all his sorrows would soon be finally at\\nan end.  He held back the urge to move but swayed from side to side\\nas he crouched there on the floor.  His mother was not far away in\\nfront of him and seemed, at first, quite engrossed in herself, but\\nthen she suddenly jumped up with her arms outstretched and her\\nfingers spread shouting: \"Help, for pity\\'s sake, Help!\"  The way she\\nheld her head suggested she wanted to see Gregor better, but the\\nunthinking way she was hurrying backwards showed that she did not;\\nshe had forgotten that the table was behind her with all the\\nbreakfast things on it; when she reached the table she sat quickly\\ndown on it without knowing what she was doing; without even seeming\\nto notice that the coffee pot had been knocked over and a gush of\\ncoffee was pouring down onto the carpet.\\n\\n\"Mother, mother\", said Gregor gently, looking up at her.  He had\\ncompletely forgotten the chief clerk for the moment, but could not\\nhelp himself snapping in the air with his jaws at the sight of the\\nflow of coffee.  That set his mother screaming anew, she fled from\\nthe table and into the arms of his father as he rushed towards her.\\nGregor, though, had no time to spare for his parents now; the chief\\nclerk had already reached the stairs; with his chin on the banister,\\nhe looked back for the last time.  Gregor made a run for him; he\\nwanted to be sure of reaching him; the chief clerk must have\\nexpected something, as he leapt down several steps at once and\\ndisappeared; his shouts resounding all around the staircase.  The\\nflight of the chief clerk seemed, unfortunately, to put Gregor\\'s\\nfather into a panic as well.  Until then he had been relatively self\\ncontrolled, but now, instead of running after the chief clerk\\nhimself, or at least not impeding Gregor as he ran after him,\\nGregor\\'s father seized the chief clerk\\'s stick in his right hand\\n(the chief clerk had left it behind on a chair, along with his hat\\nand overcoat), picked up a large newspaper from the table with his\\nleft, and used them to drive Gregor back into his room, stamping his\\nfoot at him as he went.  Gregor\\'s appeals to his father were of no\\nhelp, his appeals were simply not understood, however much he humbly\\nturned his head his father merely stamped his foot all the harder.\\nAcross the room, despite the chilly weather, Gregor\\'s mother had\\npulled open a window, leant far out of it and pressed her hands to\\nher face.  A strong draught of air flew in from the street towards\\nthe stairway, the curtains flew up, the newspapers on the table\\nfluttered and some of them were blown onto the floor.  Nothing would\\nstop Gregor\\'s father as he drove him back, making hissing noises at\\nhim like a wild man.  Gregor had never had any practice in moving\\nbackwards and was only able to go very slowly.  If Gregor had only\\nbeen allowed to turn round he would have been back in his room\\nstraight away, but he was afraid that if he took the time to do that\\nhis father would become impatient, and there was the threat of a\\nlethal blow to his back or head from the stick in his father\\'s hand\\nany moment.  Eventually, though, Gregor realised that he had no\\nchoice as he saw, to his disgust, that he was quite incapable of\\ngoing backwards in a straight line; so he began, as quickly as\\npossible and with frequent anxious glances at his father, to turn\\nhimself round.  It went very slowly, but perhaps his father was able\\nto see his good intentions as he did nothing to hinder him, in fact\\nnow and then he used the tip of his stick to give directions from a\\ndistance as to which way to turn.  If only his father would stop\\nthat unbearable hissing! It was making Gregor quite confused.  When\\nhe had nearly finished turning round, still listening to that\\nhissing, he made a mistake and turned himself back a little the way\\nhe had just come.  He was pleased when he finally had his head in\\nfront of the doorway, but then saw that it was too narrow, and his\\nbody was too broad to get through it without further difficulty.  In\\nhis present mood, it obviously did not occur to his father to open\\nthe other of the double doors so that Gregor would have enough space\\nto get through.  He was merely fixed on the idea that Gregor should\\nbe got back into his room as quickly as possible.  Nor would he ever\\nhave allowed Gregor the time to get himself upright as preparation\\nfor getting through the doorway.  What he did, making more noise\\nthan ever, was to drive Gregor forwards all the harder as if there\\nhad been nothing in the way; it sounded to Gregor as if there was\\nnow more than one father behind him; it was not a pleasant\\nexperience, and Gregor pushed himself into the doorway without\\nregard for what might happen.  One side of his body lifted itself,\\nhe lay at an angle in the doorway, one flank scraped on the white\\ndoor and was painfully injured, leaving vile brown flecks on it,\\nsoon he was stuck fast and would not have been able to move at all\\nby himself, the little legs along one side hung quivering in the air\\nwhile those on the other side were pressed painfully against the\\nground.  Then his father gave him a hefty shove from behind which\\nreleased him from where he was held and sent him flying, and heavily\\nbleeding, deep into his room.  The door was slammed shut with the\\nstick, then, finally, all was quiet.'"
            ]
          },
          "execution_count": 31,
          "metadata": {},
          "output_type": "execute_result"
        }
      ],
      "source": [
        "textfile"
      ]
    },
    {
      "cell_type": "code",
      "execution_count": null,
      "metadata": {
        "id": "HpcfFUSQdbBh"
      },
      "outputs": [],
      "source": [
        "from nltk.tokenize import TreebankWordTokenizer\n",
        "from nltk.tokenize.casual import casual_tokenize\n",
        "\n",
        "TreebankWordTokenizer().tokenize(textfile)"
      ]
    },
    {
      "cell_type": "markdown",
      "metadata": {
        "id": "1gMkmkQjUNlf"
      },
      "source": [
        "# Question 6\n",
        "\n",
        "## (a) Use the train.csv and perform Naive Bayes analysis."
      ]
    },
    {
      "cell_type": "code",
      "execution_count": null,
      "metadata": {
        "id": "gctQlKP-UNlf"
      },
      "outputs": [],
      "source": [
        "!pip install nlpia"
      ]
    },
    {
      "cell_type": "code",
      "execution_count": null,
      "metadata": {
        "colab": {
          "base_uri": "https://localhost:8080/",
          "height": 74
        },
        "id": "PXoxYf6Tfisz",
        "outputId": "4a6285eb-3b6f-4d4b-813a-04d1cc981763"
      },
      "outputs": [
        {
          "data": {
            "text/html": [
              "\n",
              "     <input type=\"file\" id=\"files-cf97ddfc-e09d-4ce6-8bd5-905611628867\" name=\"files[]\" multiple disabled\n",
              "        style=\"border:none\" />\n",
              "     <output id=\"result-cf97ddfc-e09d-4ce6-8bd5-905611628867\">\n",
              "      Upload widget is only available when the cell has been executed in the\n",
              "      current browser session. Please rerun this cell to enable.\n",
              "      </output>\n",
              "      <script>// Copyright 2017 Google LLC\n",
              "//\n",
              "// Licensed under the Apache License, Version 2.0 (the \"License\");\n",
              "// you may not use this file except in compliance with the License.\n",
              "// You may obtain a copy of the License at\n",
              "//\n",
              "//      http://www.apache.org/licenses/LICENSE-2.0\n",
              "//\n",
              "// Unless required by applicable law or agreed to in writing, software\n",
              "// distributed under the License is distributed on an \"AS IS\" BASIS,\n",
              "// WITHOUT WARRANTIES OR CONDITIONS OF ANY KIND, either express or implied.\n",
              "// See the License for the specific language governing permissions and\n",
              "// limitations under the License.\n",
              "\n",
              "/**\n",
              " * @fileoverview Helpers for google.colab Python module.\n",
              " */\n",
              "(function(scope) {\n",
              "function span(text, styleAttributes = {}) {\n",
              "  const element = document.createElement('span');\n",
              "  element.textContent = text;\n",
              "  for (const key of Object.keys(styleAttributes)) {\n",
              "    element.style[key] = styleAttributes[key];\n",
              "  }\n",
              "  return element;\n",
              "}\n",
              "\n",
              "// Max number of bytes which will be uploaded at a time.\n",
              "const MAX_PAYLOAD_SIZE = 100 * 1024;\n",
              "\n",
              "function _uploadFiles(inputId, outputId) {\n",
              "  const steps = uploadFilesStep(inputId, outputId);\n",
              "  const outputElement = document.getElementById(outputId);\n",
              "  // Cache steps on the outputElement to make it available for the next call\n",
              "  // to uploadFilesContinue from Python.\n",
              "  outputElement.steps = steps;\n",
              "\n",
              "  return _uploadFilesContinue(outputId);\n",
              "}\n",
              "\n",
              "// This is roughly an async generator (not supported in the browser yet),\n",
              "// where there are multiple asynchronous steps and the Python side is going\n",
              "// to poll for completion of each step.\n",
              "// This uses a Promise to block the python side on completion of each step,\n",
              "// then passes the result of the previous step as the input to the next step.\n",
              "function _uploadFilesContinue(outputId) {\n",
              "  const outputElement = document.getElementById(outputId);\n",
              "  const steps = outputElement.steps;\n",
              "\n",
              "  const next = steps.next(outputElement.lastPromiseValue);\n",
              "  return Promise.resolve(next.value.promise).then((value) => {\n",
              "    // Cache the last promise value to make it available to the next\n",
              "    // step of the generator.\n",
              "    outputElement.lastPromiseValue = value;\n",
              "    return next.value.response;\n",
              "  });\n",
              "}\n",
              "\n",
              "/**\n",
              " * Generator function which is called between each async step of the upload\n",
              " * process.\n",
              " * @param {string} inputId Element ID of the input file picker element.\n",
              " * @param {string} outputId Element ID of the output display.\n",
              " * @return {!Iterable<!Object>} Iterable of next steps.\n",
              " */\n",
              "function* uploadFilesStep(inputId, outputId) {\n",
              "  const inputElement = document.getElementById(inputId);\n",
              "  inputElement.disabled = false;\n",
              "\n",
              "  const outputElement = document.getElementById(outputId);\n",
              "  outputElement.innerHTML = '';\n",
              "\n",
              "  const pickedPromise = new Promise((resolve) => {\n",
              "    inputElement.addEventListener('change', (e) => {\n",
              "      resolve(e.target.files);\n",
              "    });\n",
              "  });\n",
              "\n",
              "  const cancel = document.createElement('button');\n",
              "  inputElement.parentElement.appendChild(cancel);\n",
              "  cancel.textContent = 'Cancel upload';\n",
              "  const cancelPromise = new Promise((resolve) => {\n",
              "    cancel.onclick = () => {\n",
              "      resolve(null);\n",
              "    };\n",
              "  });\n",
              "\n",
              "  // Wait for the user to pick the files.\n",
              "  const files = yield {\n",
              "    promise: Promise.race([pickedPromise, cancelPromise]),\n",
              "    response: {\n",
              "      action: 'starting',\n",
              "    }\n",
              "  };\n",
              "\n",
              "  cancel.remove();\n",
              "\n",
              "  // Disable the input element since further picks are not allowed.\n",
              "  inputElement.disabled = true;\n",
              "\n",
              "  if (!files) {\n",
              "    return {\n",
              "      response: {\n",
              "        action: 'complete',\n",
              "      }\n",
              "    };\n",
              "  }\n",
              "\n",
              "  for (const file of files) {\n",
              "    const li = document.createElement('li');\n",
              "    li.append(span(file.name, {fontWeight: 'bold'}));\n",
              "    li.append(span(\n",
              "        `(${file.type || 'n/a'}) - ${file.size} bytes, ` +\n",
              "        `last modified: ${\n",
              "            file.lastModifiedDate ? file.lastModifiedDate.toLocaleDateString() :\n",
              "                                    'n/a'} - `));\n",
              "    const percent = span('0% done');\n",
              "    li.appendChild(percent);\n",
              "\n",
              "    outputElement.appendChild(li);\n",
              "\n",
              "    const fileDataPromise = new Promise((resolve) => {\n",
              "      const reader = new FileReader();\n",
              "      reader.onload = (e) => {\n",
              "        resolve(e.target.result);\n",
              "      };\n",
              "      reader.readAsArrayBuffer(file);\n",
              "    });\n",
              "    // Wait for the data to be ready.\n",
              "    let fileData = yield {\n",
              "      promise: fileDataPromise,\n",
              "      response: {\n",
              "        action: 'continue',\n",
              "      }\n",
              "    };\n",
              "\n",
              "    // Use a chunked sending to avoid message size limits. See b/62115660.\n",
              "    let position = 0;\n",
              "    do {\n",
              "      const length = Math.min(fileData.byteLength - position, MAX_PAYLOAD_SIZE);\n",
              "      const chunk = new Uint8Array(fileData, position, length);\n",
              "      position += length;\n",
              "\n",
              "      const base64 = btoa(String.fromCharCode.apply(null, chunk));\n",
              "      yield {\n",
              "        response: {\n",
              "          action: 'append',\n",
              "          file: file.name,\n",
              "          data: base64,\n",
              "        },\n",
              "      };\n",
              "\n",
              "      let percentDone = fileData.byteLength === 0 ?\n",
              "          100 :\n",
              "          Math.round((position / fileData.byteLength) * 100);\n",
              "      percent.textContent = `${percentDone}% done`;\n",
              "\n",
              "    } while (position < fileData.byteLength);\n",
              "  }\n",
              "\n",
              "  // All done.\n",
              "  yield {\n",
              "    response: {\n",
              "      action: 'complete',\n",
              "    }\n",
              "  };\n",
              "}\n",
              "\n",
              "scope.google = scope.google || {};\n",
              "scope.google.colab = scope.google.colab || {};\n",
              "scope.google.colab._files = {\n",
              "  _uploadFiles,\n",
              "  _uploadFilesContinue,\n",
              "};\n",
              "})(self);\n",
              "</script> "
            ],
            "text/plain": [
              "<IPython.core.display.HTML object>"
            ]
          },
          "metadata": {},
          "output_type": "display_data"
        },
        {
          "name": "stdout",
          "output_type": "stream",
          "text": [
            "Saving test.csv to test.csv\n"
          ]
        }
      ],
      "source": [
        "from google.colab import files \n",
        "uploaded = files.upload()"
      ]
    },
    {
      "cell_type": "code",
      "execution_count": null,
      "metadata": {
        "id": "JkoofJv06e1c"
      },
      "outputs": [],
      "source": [
        "train = pd.read_csv(\"train.csv\")\n",
        "test  = pd.read_csv(\"test.csv\")"
      ]
    },
    {
      "cell_type": "code",
      "execution_count": null,
      "metadata": {
        "id": "N0IOeEKwyJce"
      },
      "outputs": [],
      "source": [
        "from collections import Counter \n",
        "bags_of_words = []\n",
        "for text in train.text:\n",
        "    bags_of_words.append(Counter(casual_tokenize(text)))"
      ]
    },
    {
      "cell_type": "code",
      "execution_count": null,
      "metadata": {
        "colab": {
          "base_uri": "https://localhost:8080/"
        },
        "id": "XB8GHYbiBsi8",
        "outputId": "262e0e91-ca64-47b6-de9b-2edab767dfda"
      },
      "outputs": [
        {
          "data": {
            "text/plain": [
              "(7613, 27330)"
            ]
          },
          "execution_count": 24,
          "metadata": {},
          "output_type": "execute_result"
        }
      ],
      "source": [
        "df_bows = pd.DataFrame.from_records(bags_of_words)\n",
        "df_bows = df_bows.fillna(0).astype(int) \n",
        "df_bows.shape"
      ]
    },
    {
      "cell_type": "code",
      "execution_count": null,
      "metadata": {
        "id": "L26qooNcCPtN"
      },
      "outputs": [],
      "source": [
        "from sklearn.naive_bayes import MultinomialNB  # noqa\n",
        "nb = MultinomialNB()\n",
        "nb = nb.fit(df_bows, train.target > 0)"
      ]
    },
    {
      "cell_type": "code",
      "execution_count": null,
      "metadata": {
        "id": "KvFZLek7CxV2"
      },
      "outputs": [],
      "source": [
        "train['predicted_sentiment'] = nb.predict(df_bows)"
      ]
    },
    {
      "cell_type": "code",
      "execution_count": null,
      "metadata": {
        "colab": {
          "base_uri": "https://localhost:8080/",
          "height": 424
        },
        "id": "UO4uj5VVDLi8",
        "outputId": "c98eaba0-00cc-4566-9220-dbe6e639f5ed"
      },
      "outputs": [
        {
          "data": {
            "text/html": [
              "\n",
              "  <div id=\"df-3c991ee2-4f2d-4ce6-9796-9dd48777bfbb\">\n",
              "    <div class=\"colab-df-container\">\n",
              "      <div>\n",
              "<style scoped>\n",
              "    .dataframe tbody tr th:only-of-type {\n",
              "        vertical-align: middle;\n",
              "    }\n",
              "\n",
              "    .dataframe tbody tr th {\n",
              "        vertical-align: top;\n",
              "    }\n",
              "\n",
              "    .dataframe thead th {\n",
              "        text-align: right;\n",
              "    }\n",
              "</style>\n",
              "<table border=\"1\" class=\"dataframe\">\n",
              "  <thead>\n",
              "    <tr style=\"text-align: right;\">\n",
              "      <th></th>\n",
              "      <th>id</th>\n",
              "      <th>keyword</th>\n",
              "      <th>location</th>\n",
              "      <th>text</th>\n",
              "      <th>target</th>\n",
              "      <th>predicted_sentiment</th>\n",
              "    </tr>\n",
              "  </thead>\n",
              "  <tbody>\n",
              "    <tr>\n",
              "      <th>0</th>\n",
              "      <td>1</td>\n",
              "      <td>NaN</td>\n",
              "      <td>NaN</td>\n",
              "      <td>Our Deeds are the Reason of this #earthquake M...</td>\n",
              "      <td>1</td>\n",
              "      <td>True</td>\n",
              "    </tr>\n",
              "    <tr>\n",
              "      <th>1</th>\n",
              "      <td>4</td>\n",
              "      <td>NaN</td>\n",
              "      <td>NaN</td>\n",
              "      <td>Forest fire near La Ronge Sask. Canada</td>\n",
              "      <td>1</td>\n",
              "      <td>True</td>\n",
              "    </tr>\n",
              "    <tr>\n",
              "      <th>2</th>\n",
              "      <td>5</td>\n",
              "      <td>NaN</td>\n",
              "      <td>NaN</td>\n",
              "      <td>All residents asked to 'shelter in place' are ...</td>\n",
              "      <td>1</td>\n",
              "      <td>True</td>\n",
              "    </tr>\n",
              "    <tr>\n",
              "      <th>3</th>\n",
              "      <td>6</td>\n",
              "      <td>NaN</td>\n",
              "      <td>NaN</td>\n",
              "      <td>13,000 people receive #wildfires evacuation or...</td>\n",
              "      <td>1</td>\n",
              "      <td>True</td>\n",
              "    </tr>\n",
              "    <tr>\n",
              "      <th>4</th>\n",
              "      <td>7</td>\n",
              "      <td>NaN</td>\n",
              "      <td>NaN</td>\n",
              "      <td>Just got sent this photo from Ruby #Alaska as ...</td>\n",
              "      <td>1</td>\n",
              "      <td>True</td>\n",
              "    </tr>\n",
              "    <tr>\n",
              "      <th>...</th>\n",
              "      <td>...</td>\n",
              "      <td>...</td>\n",
              "      <td>...</td>\n",
              "      <td>...</td>\n",
              "      <td>...</td>\n",
              "      <td>...</td>\n",
              "    </tr>\n",
              "    <tr>\n",
              "      <th>7608</th>\n",
              "      <td>10869</td>\n",
              "      <td>NaN</td>\n",
              "      <td>NaN</td>\n",
              "      <td>Two giant cranes holding a bridge collapse int...</td>\n",
              "      <td>1</td>\n",
              "      <td>True</td>\n",
              "    </tr>\n",
              "    <tr>\n",
              "      <th>7609</th>\n",
              "      <td>10870</td>\n",
              "      <td>NaN</td>\n",
              "      <td>NaN</td>\n",
              "      <td>@aria_ahrary @TheTawniest The out of control w...</td>\n",
              "      <td>1</td>\n",
              "      <td>True</td>\n",
              "    </tr>\n",
              "    <tr>\n",
              "      <th>7610</th>\n",
              "      <td>10871</td>\n",
              "      <td>NaN</td>\n",
              "      <td>NaN</td>\n",
              "      <td>M1.94 [01:04 UTC]?5km S of Volcano Hawaii. htt...</td>\n",
              "      <td>1</td>\n",
              "      <td>True</td>\n",
              "    </tr>\n",
              "    <tr>\n",
              "      <th>7611</th>\n",
              "      <td>10872</td>\n",
              "      <td>NaN</td>\n",
              "      <td>NaN</td>\n",
              "      <td>Police investigating after an e-bike collided ...</td>\n",
              "      <td>1</td>\n",
              "      <td>True</td>\n",
              "    </tr>\n",
              "    <tr>\n",
              "      <th>7612</th>\n",
              "      <td>10873</td>\n",
              "      <td>NaN</td>\n",
              "      <td>NaN</td>\n",
              "      <td>The Latest: More Homes Razed by Northern Calif...</td>\n",
              "      <td>1</td>\n",
              "      <td>True</td>\n",
              "    </tr>\n",
              "  </tbody>\n",
              "</table>\n",
              "<p>7613 rows × 6 columns</p>\n",
              "</div>\n",
              "      <button class=\"colab-df-convert\" onclick=\"convertToInteractive('df-3c991ee2-4f2d-4ce6-9796-9dd48777bfbb')\"\n",
              "              title=\"Convert this dataframe to an interactive table.\"\n",
              "              style=\"display:none;\">\n",
              "        \n",
              "  <svg xmlns=\"http://www.w3.org/2000/svg\" height=\"24px\"viewBox=\"0 0 24 24\"\n",
              "       width=\"24px\">\n",
              "    <path d=\"M0 0h24v24H0V0z\" fill=\"none\"/>\n",
              "    <path d=\"M18.56 5.44l.94 2.06.94-2.06 2.06-.94-2.06-.94-.94-2.06-.94 2.06-2.06.94zm-11 1L8.5 8.5l.94-2.06 2.06-.94-2.06-.94L8.5 2.5l-.94 2.06-2.06.94zm10 10l.94 2.06.94-2.06 2.06-.94-2.06-.94-.94-2.06-.94 2.06-2.06.94z\"/><path d=\"M17.41 7.96l-1.37-1.37c-.4-.4-.92-.59-1.43-.59-.52 0-1.04.2-1.43.59L10.3 9.45l-7.72 7.72c-.78.78-.78 2.05 0 2.83L4 21.41c.39.39.9.59 1.41.59.51 0 1.02-.2 1.41-.59l7.78-7.78 2.81-2.81c.8-.78.8-2.07 0-2.86zM5.41 20L4 18.59l7.72-7.72 1.47 1.35L5.41 20z\"/>\n",
              "  </svg>\n",
              "      </button>\n",
              "      \n",
              "  <style>\n",
              "    .colab-df-container {\n",
              "      display:flex;\n",
              "      flex-wrap:wrap;\n",
              "      gap: 12px;\n",
              "    }\n",
              "\n",
              "    .colab-df-convert {\n",
              "      background-color: #E8F0FE;\n",
              "      border: none;\n",
              "      border-radius: 50%;\n",
              "      cursor: pointer;\n",
              "      display: none;\n",
              "      fill: #1967D2;\n",
              "      height: 32px;\n",
              "      padding: 0 0 0 0;\n",
              "      width: 32px;\n",
              "    }\n",
              "\n",
              "    .colab-df-convert:hover {\n",
              "      background-color: #E2EBFA;\n",
              "      box-shadow: 0px 1px 2px rgba(60, 64, 67, 0.3), 0px 1px 3px 1px rgba(60, 64, 67, 0.15);\n",
              "      fill: #174EA6;\n",
              "    }\n",
              "\n",
              "    [theme=dark] .colab-df-convert {\n",
              "      background-color: #3B4455;\n",
              "      fill: #D2E3FC;\n",
              "    }\n",
              "\n",
              "    [theme=dark] .colab-df-convert:hover {\n",
              "      background-color: #434B5C;\n",
              "      box-shadow: 0px 1px 3px 1px rgba(0, 0, 0, 0.15);\n",
              "      filter: drop-shadow(0px 1px 2px rgba(0, 0, 0, 0.3));\n",
              "      fill: #FFFFFF;\n",
              "    }\n",
              "  </style>\n",
              "\n",
              "      <script>\n",
              "        const buttonEl =\n",
              "          document.querySelector('#df-3c991ee2-4f2d-4ce6-9796-9dd48777bfbb button.colab-df-convert');\n",
              "        buttonEl.style.display =\n",
              "          google.colab.kernel.accessAllowed ? 'block' : 'none';\n",
              "\n",
              "        async function convertToInteractive(key) {\n",
              "          const element = document.querySelector('#df-3c991ee2-4f2d-4ce6-9796-9dd48777bfbb');\n",
              "          const dataTable =\n",
              "            await google.colab.kernel.invokeFunction('convertToInteractive',\n",
              "                                                     [key], {});\n",
              "          if (!dataTable) return;\n",
              "\n",
              "          const docLinkHtml = 'Like what you see? Visit the ' +\n",
              "            '<a target=\"_blank\" href=https://colab.research.google.com/notebooks/data_table.ipynb>data table notebook</a>'\n",
              "            + ' to learn more about interactive tables.';\n",
              "          element.innerHTML = '';\n",
              "          dataTable['output_type'] = 'display_data';\n",
              "          await google.colab.output.renderOutput(dataTable, element);\n",
              "          const docLink = document.createElement('div');\n",
              "          docLink.innerHTML = docLinkHtml;\n",
              "          element.appendChild(docLink);\n",
              "        }\n",
              "      </script>\n",
              "    </div>\n",
              "  </div>\n",
              "  "
            ],
            "text/plain": [
              "         id keyword location  \\\n",
              "0         1     NaN      NaN   \n",
              "1         4     NaN      NaN   \n",
              "2         5     NaN      NaN   \n",
              "3         6     NaN      NaN   \n",
              "4         7     NaN      NaN   \n",
              "...     ...     ...      ...   \n",
              "7608  10869     NaN      NaN   \n",
              "7609  10870     NaN      NaN   \n",
              "7610  10871     NaN      NaN   \n",
              "7611  10872     NaN      NaN   \n",
              "7612  10873     NaN      NaN   \n",
              "\n",
              "                                                   text  target  \\\n",
              "0     Our Deeds are the Reason of this #earthquake M...       1   \n",
              "1                Forest fire near La Ronge Sask. Canada       1   \n",
              "2     All residents asked to 'shelter in place' are ...       1   \n",
              "3     13,000 people receive #wildfires evacuation or...       1   \n",
              "4     Just got sent this photo from Ruby #Alaska as ...       1   \n",
              "...                                                 ...     ...   \n",
              "7608  Two giant cranes holding a bridge collapse int...       1   \n",
              "7609  @aria_ahrary @TheTawniest The out of control w...       1   \n",
              "7610  M1.94 [01:04 UTC]?5km S of Volcano Hawaii. htt...       1   \n",
              "7611  Police investigating after an e-bike collided ...       1   \n",
              "7612  The Latest: More Homes Razed by Northern Calif...       1   \n",
              "\n",
              "      predicted_sentiment  \n",
              "0                    True  \n",
              "1                    True  \n",
              "2                    True  \n",
              "3                    True  \n",
              "4                    True  \n",
              "...                   ...  \n",
              "7608                 True  \n",
              "7609                 True  \n",
              "7610                 True  \n",
              "7611                 True  \n",
              "7612                 True  \n",
              "\n",
              "[7613 rows x 6 columns]"
            ]
          },
          "execution_count": 32,
          "metadata": {},
          "output_type": "execute_result"
        }
      ],
      "source": [
        "train"
      ]
    },
    {
      "cell_type": "markdown",
      "metadata": {
        "id": "KDqO_q5sUNlf"
      },
      "source": [
        "## (b) Look at the test.csv. This is not labeld data. How can we test the performance of the bayes model in (a) using the test set? Just supply your intuition."
      ]
    },
    {
      "cell_type": "markdown",
      "metadata": {
        "id": "OE3yO_n6UNlf"
      },
      "source": [
        "My idea is to apply rule-based sentiment analyzer (such as VADER) to the unlabeled data to calculate the sentiment score. And then compare the scores predicted by the bayes model to the scores from the rule-based model. A high correlation of these two scores may indicate a good performance of the bayes model."
      ]
    }
  ],
  "metadata": {
    "colab": {
      "provenance": []
    },
    "kernelspec": {
      "display_name": "base",
      "language": "python",
      "name": "python3"
    },
    "language_info": {
      "codemirror_mode": {
        "name": "ipython",
        "version": 3
      },
      "file_extension": ".py",
      "mimetype": "text/x-python",
      "name": "python",
      "nbconvert_exporter": "python",
      "pygments_lexer": "ipython3",
      "version": "3.9.12"
    },
    "orig_nbformat": 4,
    "vscode": {
      "interpreter": {
        "hash": "40d3a090f54c6569ab1632332b64b2c03c39dcf918b08424e98f38b5ae0af88f"
      }
    }
  },
  "nbformat": 4,
  "nbformat_minor": 0
}
