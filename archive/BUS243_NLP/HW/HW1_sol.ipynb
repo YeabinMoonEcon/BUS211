{
 "cells": [
  {
   "attachments": {},
   "cell_type": "markdown",
   "metadata": {},
   "source": [
    "# Homework 1 Suggested Solution"
   ]
  },
  {
   "attachments": {},
   "cell_type": "markdown",
   "metadata": {},
   "source": [
    "## Question 1"
   ]
  },
  {
   "cell_type": "code",
   "execution_count": 2,
   "metadata": {},
   "outputs": [],
   "source": [
    "import pandas as pd\n",
    "import numpy as np"
   ]
  },
  {
   "cell_type": "code",
   "execution_count": 3,
   "metadata": {},
   "outputs": [],
   "source": [
    "sentences = \"\"\"Thomas Jefferson began building Monticello at the age of 26.\\n\"\"\"\n",
    "sentences += \"\"\"Construction was done mostly by local masons and carpenters.\\n\"\"\"\n",
    "sentences += \"He moved into the South Pavilion in 1770, and it was South really.\\n\"\n",
    "sentences += \"\"\"Turning Monticello into a neoclassical masterpiece was Jefferson's obsession.\"\"\""
   ]
  },
  {
   "attachments": {},
   "cell_type": "markdown",
   "metadata": {},
   "source": [
    "### (a)"
   ]
  },
  {
   "cell_type": "code",
   "execution_count": 4,
   "metadata": {},
   "outputs": [],
   "source": [
    "token_sequence = sentences.split()\n",
    "vocab = sorted(set(token_sequence))   "
   ]
  },
  {
   "cell_type": "code",
   "execution_count": 5,
   "metadata": {},
   "outputs": [],
   "source": [
    "num_tokens = len(token_sequence)\n",
    "vocab_size = len(vocab)"
   ]
  },
  {
   "cell_type": "code",
   "execution_count": 6,
   "metadata": {},
   "outputs": [
    {
     "data": {
      "text/plain": [
       "array([[0, 0, 0, ..., 0, 0, 0],\n",
       "       [0, 0, 0, ..., 0, 0, 0],\n",
       "       [0, 0, 0, ..., 0, 0, 0],\n",
       "       ...,\n",
       "       [0, 0, 0, ..., 0, 0, 1],\n",
       "       [0, 0, 0, ..., 0, 0, 0],\n",
       "       [0, 0, 0, ..., 0, 0, 0]])"
      ]
     },
     "execution_count": 6,
     "metadata": {},
     "output_type": "execute_result"
    }
   ],
   "source": [
    "onehot_vectors = np.zeros((num_tokens, vocab_size), int) \n",
    "for i, word in enumerate(token_sequence):\n",
    "    onehot_vectors[i, vocab.index(word)] = 1\n",
    "onehot_vectors"
   ]
  },
  {
   "cell_type": "code",
   "execution_count": 7,
   "metadata": {},
   "outputs": [
    {
     "data": {
      "text/html": [
       "<div>\n",
       "<style scoped>\n",
       "    .dataframe tbody tr th:only-of-type {\n",
       "        vertical-align: middle;\n",
       "    }\n",
       "\n",
       "    .dataframe tbody tr th {\n",
       "        vertical-align: top;\n",
       "    }\n",
       "\n",
       "    .dataframe thead th {\n",
       "        text-align: right;\n",
       "    }\n",
       "</style>\n",
       "<table border=\"1\" class=\"dataframe\">\n",
       "  <thead>\n",
       "    <tr style=\"text-align: right;\">\n",
       "      <th></th>\n",
       "      <th>1770,</th>\n",
       "      <th>26.</th>\n",
       "      <th>Construction</th>\n",
       "      <th>He</th>\n",
       "      <th>Jefferson</th>\n",
       "      <th>Jefferson's</th>\n",
       "      <th>Monticello</th>\n",
       "      <th>Pavilion</th>\n",
       "      <th>South</th>\n",
       "      <th>Thomas</th>\n",
       "      <th>...</th>\n",
       "      <th>masons</th>\n",
       "      <th>masterpiece</th>\n",
       "      <th>mostly</th>\n",
       "      <th>moved</th>\n",
       "      <th>neoclassical</th>\n",
       "      <th>obsession.</th>\n",
       "      <th>of</th>\n",
       "      <th>really.</th>\n",
       "      <th>the</th>\n",
       "      <th>was</th>\n",
       "    </tr>\n",
       "  </thead>\n",
       "  <tbody>\n",
       "    <tr>\n",
       "      <th>0</th>\n",
       "      <td>0</td>\n",
       "      <td>0</td>\n",
       "      <td>0</td>\n",
       "      <td>0</td>\n",
       "      <td>0</td>\n",
       "      <td>0</td>\n",
       "      <td>0</td>\n",
       "      <td>0</td>\n",
       "      <td>0</td>\n",
       "      <td>1</td>\n",
       "      <td>...</td>\n",
       "      <td>0</td>\n",
       "      <td>0</td>\n",
       "      <td>0</td>\n",
       "      <td>0</td>\n",
       "      <td>0</td>\n",
       "      <td>0</td>\n",
       "      <td>0</td>\n",
       "      <td>0</td>\n",
       "      <td>0</td>\n",
       "      <td>0</td>\n",
       "    </tr>\n",
       "    <tr>\n",
       "      <th>1</th>\n",
       "      <td>0</td>\n",
       "      <td>0</td>\n",
       "      <td>0</td>\n",
       "      <td>0</td>\n",
       "      <td>1</td>\n",
       "      <td>0</td>\n",
       "      <td>0</td>\n",
       "      <td>0</td>\n",
       "      <td>0</td>\n",
       "      <td>0</td>\n",
       "      <td>...</td>\n",
       "      <td>0</td>\n",
       "      <td>0</td>\n",
       "      <td>0</td>\n",
       "      <td>0</td>\n",
       "      <td>0</td>\n",
       "      <td>0</td>\n",
       "      <td>0</td>\n",
       "      <td>0</td>\n",
       "      <td>0</td>\n",
       "      <td>0</td>\n",
       "    </tr>\n",
       "    <tr>\n",
       "      <th>2</th>\n",
       "      <td>0</td>\n",
       "      <td>0</td>\n",
       "      <td>0</td>\n",
       "      <td>0</td>\n",
       "      <td>0</td>\n",
       "      <td>0</td>\n",
       "      <td>0</td>\n",
       "      <td>0</td>\n",
       "      <td>0</td>\n",
       "      <td>0</td>\n",
       "      <td>...</td>\n",
       "      <td>0</td>\n",
       "      <td>0</td>\n",
       "      <td>0</td>\n",
       "      <td>0</td>\n",
       "      <td>0</td>\n",
       "      <td>0</td>\n",
       "      <td>0</td>\n",
       "      <td>0</td>\n",
       "      <td>0</td>\n",
       "      <td>0</td>\n",
       "    </tr>\n",
       "    <tr>\n",
       "      <th>3</th>\n",
       "      <td>0</td>\n",
       "      <td>0</td>\n",
       "      <td>0</td>\n",
       "      <td>0</td>\n",
       "      <td>0</td>\n",
       "      <td>0</td>\n",
       "      <td>0</td>\n",
       "      <td>0</td>\n",
       "      <td>0</td>\n",
       "      <td>0</td>\n",
       "      <td>...</td>\n",
       "      <td>0</td>\n",
       "      <td>0</td>\n",
       "      <td>0</td>\n",
       "      <td>0</td>\n",
       "      <td>0</td>\n",
       "      <td>0</td>\n",
       "      <td>0</td>\n",
       "      <td>0</td>\n",
       "      <td>0</td>\n",
       "      <td>0</td>\n",
       "    </tr>\n",
       "    <tr>\n",
       "      <th>4</th>\n",
       "      <td>0</td>\n",
       "      <td>0</td>\n",
       "      <td>0</td>\n",
       "      <td>0</td>\n",
       "      <td>0</td>\n",
       "      <td>0</td>\n",
       "      <td>1</td>\n",
       "      <td>0</td>\n",
       "      <td>0</td>\n",
       "      <td>0</td>\n",
       "      <td>...</td>\n",
       "      <td>0</td>\n",
       "      <td>0</td>\n",
       "      <td>0</td>\n",
       "      <td>0</td>\n",
       "      <td>0</td>\n",
       "      <td>0</td>\n",
       "      <td>0</td>\n",
       "      <td>0</td>\n",
       "      <td>0</td>\n",
       "      <td>0</td>\n",
       "    </tr>\n",
       "  </tbody>\n",
       "</table>\n",
       "<p>5 rows × 34 columns</p>\n",
       "</div>"
      ],
      "text/plain": [
       "   1770,  26.  Construction  He  Jefferson  Jefferson's  Monticello  Pavilion  \\\n",
       "0      0    0             0   0          0            0           0         0   \n",
       "1      0    0             0   0          1            0           0         0   \n",
       "2      0    0             0   0          0            0           0         0   \n",
       "3      0    0             0   0          0            0           0         0   \n",
       "4      0    0             0   0          0            0           1         0   \n",
       "\n",
       "   South  Thomas  ...  masons  masterpiece  mostly  moved  neoclassical  \\\n",
       "0      0       1  ...       0            0       0      0             0   \n",
       "1      0       0  ...       0            0       0      0             0   \n",
       "2      0       0  ...       0            0       0      0             0   \n",
       "3      0       0  ...       0            0       0      0             0   \n",
       "4      0       0  ...       0            0       0      0             0   \n",
       "\n",
       "   obsession.  of  really.  the  was  \n",
       "0           0   0        0    0    0  \n",
       "1           0   0        0    0    0  \n",
       "2           0   0        0    0    0  \n",
       "3           0   0        0    0    0  \n",
       "4           0   0        0    0    0  \n",
       "\n",
       "[5 rows x 34 columns]"
      ]
     },
     "execution_count": 7,
     "metadata": {},
     "output_type": "execute_result"
    }
   ],
   "source": [
    "one_hot_encoding = pd.DataFrame(onehot_vectors, columns=vocab)\n",
    "one_hot_encoding.head()"
   ]
  },
  {
   "attachments": {},
   "cell_type": "markdown",
   "metadata": {},
   "source": [
    "### (b)"
   ]
  },
  {
   "cell_type": "code",
   "execution_count": 8,
   "metadata": {},
   "outputs": [],
   "source": [
    "token_series = pd.Series(token_sequence)"
   ]
  },
  {
   "cell_type": "code",
   "execution_count": 9,
   "metadata": {},
   "outputs": [],
   "source": [
    "temp = token_series.str.contains('.', regex=False)\n",
    "index_cut = temp.index[temp == True]"
   ]
  },
  {
   "cell_type": "code",
   "execution_count": 10,
   "metadata": {},
   "outputs": [],
   "source": [
    "df = pd.DataFrame(one_hot_encoding.iloc[:index_cut[0]+1].sum(axis= 0), columns = ['sent0']).T"
   ]
  },
  {
   "cell_type": "code",
   "execution_count": 11,
   "metadata": {},
   "outputs": [],
   "source": [
    "for itr in [0,1,2]:\n",
    "    temp_sentence = pd.DataFrame(one_hot_encoding.iloc[index_cut[itr]+1:index_cut[itr+1]+1].sum(axis= 0), columns = ['sent{}'.format(itr+1)]).T\n",
    "    df = pd.concat([df,temp_sentence],axis=0)"
   ]
  },
  {
   "cell_type": "code",
   "execution_count": 12,
   "metadata": {},
   "outputs": [
    {
     "data": {
      "text/html": [
       "<div>\n",
       "<style scoped>\n",
       "    .dataframe tbody tr th:only-of-type {\n",
       "        vertical-align: middle;\n",
       "    }\n",
       "\n",
       "    .dataframe tbody tr th {\n",
       "        vertical-align: top;\n",
       "    }\n",
       "\n",
       "    .dataframe thead th {\n",
       "        text-align: right;\n",
       "    }\n",
       "</style>\n",
       "<table border=\"1\" class=\"dataframe\">\n",
       "  <thead>\n",
       "    <tr style=\"text-align: right;\">\n",
       "      <th></th>\n",
       "      <th>sent0</th>\n",
       "      <th>sent1</th>\n",
       "      <th>sent2</th>\n",
       "      <th>sent3</th>\n",
       "    </tr>\n",
       "  </thead>\n",
       "  <tbody>\n",
       "    <tr>\n",
       "      <th>1770,</th>\n",
       "      <td>0</td>\n",
       "      <td>0</td>\n",
       "      <td>1</td>\n",
       "      <td>0</td>\n",
       "    </tr>\n",
       "    <tr>\n",
       "      <th>26.</th>\n",
       "      <td>1</td>\n",
       "      <td>0</td>\n",
       "      <td>0</td>\n",
       "      <td>0</td>\n",
       "    </tr>\n",
       "    <tr>\n",
       "      <th>Construction</th>\n",
       "      <td>0</td>\n",
       "      <td>1</td>\n",
       "      <td>0</td>\n",
       "      <td>0</td>\n",
       "    </tr>\n",
       "    <tr>\n",
       "      <th>He</th>\n",
       "      <td>0</td>\n",
       "      <td>0</td>\n",
       "      <td>1</td>\n",
       "      <td>0</td>\n",
       "    </tr>\n",
       "    <tr>\n",
       "      <th>Jefferson</th>\n",
       "      <td>1</td>\n",
       "      <td>0</td>\n",
       "      <td>0</td>\n",
       "      <td>0</td>\n",
       "    </tr>\n",
       "    <tr>\n",
       "      <th>Jefferson's</th>\n",
       "      <td>0</td>\n",
       "      <td>0</td>\n",
       "      <td>0</td>\n",
       "      <td>1</td>\n",
       "    </tr>\n",
       "    <tr>\n",
       "      <th>Monticello</th>\n",
       "      <td>1</td>\n",
       "      <td>0</td>\n",
       "      <td>0</td>\n",
       "      <td>1</td>\n",
       "    </tr>\n",
       "    <tr>\n",
       "      <th>Pavilion</th>\n",
       "      <td>0</td>\n",
       "      <td>0</td>\n",
       "      <td>1</td>\n",
       "      <td>0</td>\n",
       "    </tr>\n",
       "    <tr>\n",
       "      <th>South</th>\n",
       "      <td>0</td>\n",
       "      <td>0</td>\n",
       "      <td>2</td>\n",
       "      <td>0</td>\n",
       "    </tr>\n",
       "    <tr>\n",
       "      <th>Thomas</th>\n",
       "      <td>1</td>\n",
       "      <td>0</td>\n",
       "      <td>0</td>\n",
       "      <td>0</td>\n",
       "    </tr>\n",
       "    <tr>\n",
       "      <th>Turning</th>\n",
       "      <td>0</td>\n",
       "      <td>0</td>\n",
       "      <td>0</td>\n",
       "      <td>1</td>\n",
       "    </tr>\n",
       "    <tr>\n",
       "      <th>a</th>\n",
       "      <td>0</td>\n",
       "      <td>0</td>\n",
       "      <td>0</td>\n",
       "      <td>1</td>\n",
       "    </tr>\n",
       "    <tr>\n",
       "      <th>age</th>\n",
       "      <td>1</td>\n",
       "      <td>0</td>\n",
       "      <td>0</td>\n",
       "      <td>0</td>\n",
       "    </tr>\n",
       "    <tr>\n",
       "      <th>and</th>\n",
       "      <td>0</td>\n",
       "      <td>1</td>\n",
       "      <td>1</td>\n",
       "      <td>0</td>\n",
       "    </tr>\n",
       "    <tr>\n",
       "      <th>at</th>\n",
       "      <td>1</td>\n",
       "      <td>0</td>\n",
       "      <td>0</td>\n",
       "      <td>0</td>\n",
       "    </tr>\n",
       "    <tr>\n",
       "      <th>began</th>\n",
       "      <td>1</td>\n",
       "      <td>0</td>\n",
       "      <td>0</td>\n",
       "      <td>0</td>\n",
       "    </tr>\n",
       "    <tr>\n",
       "      <th>building</th>\n",
       "      <td>1</td>\n",
       "      <td>0</td>\n",
       "      <td>0</td>\n",
       "      <td>0</td>\n",
       "    </tr>\n",
       "    <tr>\n",
       "      <th>by</th>\n",
       "      <td>0</td>\n",
       "      <td>1</td>\n",
       "      <td>0</td>\n",
       "      <td>0</td>\n",
       "    </tr>\n",
       "    <tr>\n",
       "      <th>carpenters.</th>\n",
       "      <td>0</td>\n",
       "      <td>1</td>\n",
       "      <td>0</td>\n",
       "      <td>0</td>\n",
       "    </tr>\n",
       "    <tr>\n",
       "      <th>done</th>\n",
       "      <td>0</td>\n",
       "      <td>1</td>\n",
       "      <td>0</td>\n",
       "      <td>0</td>\n",
       "    </tr>\n",
       "    <tr>\n",
       "      <th>in</th>\n",
       "      <td>0</td>\n",
       "      <td>0</td>\n",
       "      <td>1</td>\n",
       "      <td>0</td>\n",
       "    </tr>\n",
       "    <tr>\n",
       "      <th>into</th>\n",
       "      <td>0</td>\n",
       "      <td>0</td>\n",
       "      <td>1</td>\n",
       "      <td>1</td>\n",
       "    </tr>\n",
       "    <tr>\n",
       "      <th>it</th>\n",
       "      <td>0</td>\n",
       "      <td>0</td>\n",
       "      <td>1</td>\n",
       "      <td>0</td>\n",
       "    </tr>\n",
       "    <tr>\n",
       "      <th>local</th>\n",
       "      <td>0</td>\n",
       "      <td>1</td>\n",
       "      <td>0</td>\n",
       "      <td>0</td>\n",
       "    </tr>\n",
       "    <tr>\n",
       "      <th>masons</th>\n",
       "      <td>0</td>\n",
       "      <td>1</td>\n",
       "      <td>0</td>\n",
       "      <td>0</td>\n",
       "    </tr>\n",
       "    <tr>\n",
       "      <th>masterpiece</th>\n",
       "      <td>0</td>\n",
       "      <td>0</td>\n",
       "      <td>0</td>\n",
       "      <td>1</td>\n",
       "    </tr>\n",
       "    <tr>\n",
       "      <th>mostly</th>\n",
       "      <td>0</td>\n",
       "      <td>1</td>\n",
       "      <td>0</td>\n",
       "      <td>0</td>\n",
       "    </tr>\n",
       "    <tr>\n",
       "      <th>moved</th>\n",
       "      <td>0</td>\n",
       "      <td>0</td>\n",
       "      <td>1</td>\n",
       "      <td>0</td>\n",
       "    </tr>\n",
       "    <tr>\n",
       "      <th>neoclassical</th>\n",
       "      <td>0</td>\n",
       "      <td>0</td>\n",
       "      <td>0</td>\n",
       "      <td>1</td>\n",
       "    </tr>\n",
       "    <tr>\n",
       "      <th>obsession.</th>\n",
       "      <td>0</td>\n",
       "      <td>0</td>\n",
       "      <td>0</td>\n",
       "      <td>1</td>\n",
       "    </tr>\n",
       "    <tr>\n",
       "      <th>of</th>\n",
       "      <td>1</td>\n",
       "      <td>0</td>\n",
       "      <td>0</td>\n",
       "      <td>0</td>\n",
       "    </tr>\n",
       "    <tr>\n",
       "      <th>really.</th>\n",
       "      <td>0</td>\n",
       "      <td>0</td>\n",
       "      <td>1</td>\n",
       "      <td>0</td>\n",
       "    </tr>\n",
       "    <tr>\n",
       "      <th>the</th>\n",
       "      <td>1</td>\n",
       "      <td>0</td>\n",
       "      <td>1</td>\n",
       "      <td>0</td>\n",
       "    </tr>\n",
       "    <tr>\n",
       "      <th>was</th>\n",
       "      <td>0</td>\n",
       "      <td>1</td>\n",
       "      <td>1</td>\n",
       "      <td>1</td>\n",
       "    </tr>\n",
       "  </tbody>\n",
       "</table>\n",
       "</div>"
      ],
      "text/plain": [
       "              sent0  sent1  sent2  sent3\n",
       "1770,             0      0      1      0\n",
       "26.               1      0      0      0\n",
       "Construction      0      1      0      0\n",
       "He                0      0      1      0\n",
       "Jefferson         1      0      0      0\n",
       "Jefferson's       0      0      0      1\n",
       "Monticello        1      0      0      1\n",
       "Pavilion          0      0      1      0\n",
       "South             0      0      2      0\n",
       "Thomas            1      0      0      0\n",
       "Turning           0      0      0      1\n",
       "a                 0      0      0      1\n",
       "age               1      0      0      0\n",
       "and               0      1      1      0\n",
       "at                1      0      0      0\n",
       "began             1      0      0      0\n",
       "building          1      0      0      0\n",
       "by                0      1      0      0\n",
       "carpenters.       0      1      0      0\n",
       "done              0      1      0      0\n",
       "in                0      0      1      0\n",
       "into              0      0      1      1\n",
       "it                0      0      1      0\n",
       "local             0      1      0      0\n",
       "masons            0      1      0      0\n",
       "masterpiece       0      0      0      1\n",
       "mostly            0      1      0      0\n",
       "moved             0      0      1      0\n",
       "neoclassical      0      0      0      1\n",
       "obsession.        0      0      0      1\n",
       "of                1      0      0      0\n",
       "really.           0      0      1      0\n",
       "the               1      0      1      0\n",
       "was               0      1      1      1"
      ]
     },
     "execution_count": 12,
     "metadata": {},
     "output_type": "execute_result"
    }
   ],
   "source": [
    "df.T"
   ]
  },
  {
   "attachments": {},
   "cell_type": "markdown",
   "metadata": {},
   "source": [
    "### (c)"
   ]
  },
  {
   "cell_type": "code",
   "execution_count": 16,
   "metadata": {},
   "outputs": [
    {
     "data": {
      "text/html": [
       "<div>\n",
       "<style scoped>\n",
       "    .dataframe tbody tr th:only-of-type {\n",
       "        vertical-align: middle;\n",
       "    }\n",
       "\n",
       "    .dataframe tbody tr th {\n",
       "        vertical-align: top;\n",
       "    }\n",
       "\n",
       "    .dataframe thead th {\n",
       "        text-align: right;\n",
       "    }\n",
       "</style>\n",
       "<table border=\"1\" class=\"dataframe\">\n",
       "  <thead>\n",
       "    <tr style=\"text-align: right;\">\n",
       "      <th></th>\n",
       "      <th>1770,</th>\n",
       "      <th>26.</th>\n",
       "      <th>Construction</th>\n",
       "      <th>He</th>\n",
       "      <th>Jefferson</th>\n",
       "      <th>Jefferson's</th>\n",
       "      <th>Monticello</th>\n",
       "      <th>Pavilion</th>\n",
       "      <th>South</th>\n",
       "      <th>Thomas</th>\n",
       "      <th>...</th>\n",
       "      <th>masons</th>\n",
       "      <th>masterpiece</th>\n",
       "      <th>mostly</th>\n",
       "      <th>moved</th>\n",
       "      <th>neoclassical</th>\n",
       "      <th>obsession.</th>\n",
       "      <th>of</th>\n",
       "      <th>really.</th>\n",
       "      <th>the</th>\n",
       "      <th>was</th>\n",
       "    </tr>\n",
       "  </thead>\n",
       "  <tbody>\n",
       "    <tr>\n",
       "      <th>sent0</th>\n",
       "      <td>0</td>\n",
       "      <td>1</td>\n",
       "      <td>0</td>\n",
       "      <td>0</td>\n",
       "      <td>1</td>\n",
       "      <td>0</td>\n",
       "      <td>1</td>\n",
       "      <td>0</td>\n",
       "      <td>0</td>\n",
       "      <td>1</td>\n",
       "      <td>...</td>\n",
       "      <td>0</td>\n",
       "      <td>0</td>\n",
       "      <td>0</td>\n",
       "      <td>0</td>\n",
       "      <td>0</td>\n",
       "      <td>0</td>\n",
       "      <td>1</td>\n",
       "      <td>0</td>\n",
       "      <td>1</td>\n",
       "      <td>0</td>\n",
       "    </tr>\n",
       "    <tr>\n",
       "      <th>sent1</th>\n",
       "      <td>0</td>\n",
       "      <td>0</td>\n",
       "      <td>1</td>\n",
       "      <td>0</td>\n",
       "      <td>0</td>\n",
       "      <td>0</td>\n",
       "      <td>0</td>\n",
       "      <td>0</td>\n",
       "      <td>0</td>\n",
       "      <td>0</td>\n",
       "      <td>...</td>\n",
       "      <td>1</td>\n",
       "      <td>0</td>\n",
       "      <td>1</td>\n",
       "      <td>0</td>\n",
       "      <td>0</td>\n",
       "      <td>0</td>\n",
       "      <td>0</td>\n",
       "      <td>0</td>\n",
       "      <td>0</td>\n",
       "      <td>1</td>\n",
       "    </tr>\n",
       "    <tr>\n",
       "      <th>sent2</th>\n",
       "      <td>1</td>\n",
       "      <td>0</td>\n",
       "      <td>0</td>\n",
       "      <td>1</td>\n",
       "      <td>0</td>\n",
       "      <td>0</td>\n",
       "      <td>0</td>\n",
       "      <td>1</td>\n",
       "      <td>1</td>\n",
       "      <td>0</td>\n",
       "      <td>...</td>\n",
       "      <td>0</td>\n",
       "      <td>0</td>\n",
       "      <td>0</td>\n",
       "      <td>1</td>\n",
       "      <td>0</td>\n",
       "      <td>0</td>\n",
       "      <td>0</td>\n",
       "      <td>1</td>\n",
       "      <td>1</td>\n",
       "      <td>1</td>\n",
       "    </tr>\n",
       "    <tr>\n",
       "      <th>sent3</th>\n",
       "      <td>0</td>\n",
       "      <td>0</td>\n",
       "      <td>0</td>\n",
       "      <td>0</td>\n",
       "      <td>0</td>\n",
       "      <td>1</td>\n",
       "      <td>1</td>\n",
       "      <td>0</td>\n",
       "      <td>0</td>\n",
       "      <td>0</td>\n",
       "      <td>...</td>\n",
       "      <td>0</td>\n",
       "      <td>1</td>\n",
       "      <td>0</td>\n",
       "      <td>0</td>\n",
       "      <td>1</td>\n",
       "      <td>1</td>\n",
       "      <td>0</td>\n",
       "      <td>0</td>\n",
       "      <td>0</td>\n",
       "      <td>1</td>\n",
       "    </tr>\n",
       "  </tbody>\n",
       "</table>\n",
       "<p>4 rows × 34 columns</p>\n",
       "</div>"
      ],
      "text/plain": [
       "       1770,  26.  Construction  He  Jefferson  Jefferson's  Monticello  \\\n",
       "sent0      0    1             0   0          1            0           1   \n",
       "sent1      0    0             1   0          0            0           0   \n",
       "sent2      1    0             0   1          0            0           0   \n",
       "sent3      0    0             0   0          0            1           1   \n",
       "\n",
       "       Pavilion  South  Thomas  ...  masons  masterpiece  mostly  moved  \\\n",
       "sent0         0      0       1  ...       0            0       0      0   \n",
       "sent1         0      0       0  ...       1            0       1      0   \n",
       "sent2         1      1       0  ...       0            0       0      1   \n",
       "sent3         0      0       0  ...       0            1       0      0   \n",
       "\n",
       "       neoclassical  obsession.  of  really.  the  was  \n",
       "sent0             0           0   1        0    1    0  \n",
       "sent1             0           0   0        0    0    1  \n",
       "sent2             0           0   0        1    1    1  \n",
       "sent3             1           1   0        0    0    1  \n",
       "\n",
       "[4 rows x 34 columns]"
      ]
     },
     "execution_count": 16,
     "metadata": {},
     "output_type": "execute_result"
    }
   ],
   "source": [
    "df = (df > 0).astype(int)\n",
    "df"
   ]
  },
  {
   "attachments": {},
   "cell_type": "markdown",
   "metadata": {},
   "source": [
    "## Question 2"
   ]
  },
  {
   "attachments": {},
   "cell_type": "markdown",
   "metadata": {},
   "source": [
    "### (a)\n",
    "\n",
    "Built-in Python functions may not be able to handle more complex tokenization tasks, like dealing with certain words or symbols in a language. This is because they typically use a simple method of separating words based on white space (e.g. spaces or tabs), which can cause problems when dealing with certain types of words or phrases. For example, this can create issues when trying to tokenize n-gram words (phrases made up of multiple words), which are common in many languages."
   ]
  },
  {
   "attachments": {},
   "cell_type": "markdown",
   "metadata": {},
   "source": [
    "### (b)"
   ]
  },
  {
   "cell_type": "code",
   "execution_count": 17,
   "metadata": {},
   "outputs": [],
   "source": [
    "from nltk.tokenize import TreebankWordTokenizer"
   ]
  },
  {
   "cell_type": "code",
   "execution_count": 23,
   "metadata": {},
   "outputs": [],
   "source": [
    "token_sequence = TreebankWordTokenizer().tokenize(sentences)\n",
    "vocab = sorted(set(token_sequence))   "
   ]
  },
  {
   "cell_type": "code",
   "execution_count": 24,
   "metadata": {},
   "outputs": [],
   "source": [
    "num_tokens = len(token_sequence)\n",
    "vocab_size = len(vocab)\n",
    "onehot_vectors = np.zeros((num_tokens, vocab_size), int) \n",
    "for i, word in enumerate(token_sequence):\n",
    "    onehot_vectors[i, vocab.index(word)] = 1"
   ]
  },
  {
   "cell_type": "code",
   "execution_count": 25,
   "metadata": {},
   "outputs": [],
   "source": [
    "token_series = pd.Series(token_sequence)\n",
    "temp = token_series.str.contains('.', regex=False)\n",
    "index_cut = temp.index[temp == True]\n",
    "\n",
    "df = pd.DataFrame(one_hot_encoding.iloc[:index_cut[0]+1].sum(axis= 0), columns = ['sent0']).T\n",
    "for itr in [0,1,2]:\n",
    "    temp_sentence = pd.DataFrame(one_hot_encoding.iloc[index_cut[itr]+1:index_cut[itr+1]+1].sum(axis= 0), columns = ['sent{}'.format(itr+1)]).T\n",
    "    df = pd.concat([df,temp_sentence],axis=0)"
   ]
  },
  {
   "cell_type": "code",
   "execution_count": 26,
   "metadata": {},
   "outputs": [
    {
     "data": {
      "text/html": [
       "<div>\n",
       "<style scoped>\n",
       "    .dataframe tbody tr th:only-of-type {\n",
       "        vertical-align: middle;\n",
       "    }\n",
       "\n",
       "    .dataframe tbody tr th {\n",
       "        vertical-align: top;\n",
       "    }\n",
       "\n",
       "    .dataframe thead th {\n",
       "        text-align: right;\n",
       "    }\n",
       "</style>\n",
       "<table border=\"1\" class=\"dataframe\">\n",
       "  <thead>\n",
       "    <tr style=\"text-align: right;\">\n",
       "      <th></th>\n",
       "      <th>1770,</th>\n",
       "      <th>26.</th>\n",
       "      <th>Construction</th>\n",
       "      <th>He</th>\n",
       "      <th>Jefferson</th>\n",
       "      <th>Jefferson's</th>\n",
       "      <th>Monticello</th>\n",
       "      <th>Pavilion</th>\n",
       "      <th>South</th>\n",
       "      <th>Thomas</th>\n",
       "      <th>...</th>\n",
       "      <th>masons</th>\n",
       "      <th>masterpiece</th>\n",
       "      <th>mostly</th>\n",
       "      <th>moved</th>\n",
       "      <th>neoclassical</th>\n",
       "      <th>obsession.</th>\n",
       "      <th>of</th>\n",
       "      <th>really.</th>\n",
       "      <th>the</th>\n",
       "      <th>was</th>\n",
       "    </tr>\n",
       "  </thead>\n",
       "  <tbody>\n",
       "    <tr>\n",
       "      <th>sent0</th>\n",
       "      <td>0</td>\n",
       "      <td>1</td>\n",
       "      <td>0</td>\n",
       "      <td>0</td>\n",
       "      <td>1</td>\n",
       "      <td>0</td>\n",
       "      <td>1</td>\n",
       "      <td>0</td>\n",
       "      <td>0</td>\n",
       "      <td>1</td>\n",
       "      <td>...</td>\n",
       "      <td>0</td>\n",
       "      <td>0</td>\n",
       "      <td>0</td>\n",
       "      <td>0</td>\n",
       "      <td>0</td>\n",
       "      <td>0</td>\n",
       "      <td>1</td>\n",
       "      <td>0</td>\n",
       "      <td>1</td>\n",
       "      <td>0</td>\n",
       "    </tr>\n",
       "    <tr>\n",
       "      <th>sent1</th>\n",
       "      <td>0</td>\n",
       "      <td>0</td>\n",
       "      <td>1</td>\n",
       "      <td>0</td>\n",
       "      <td>0</td>\n",
       "      <td>0</td>\n",
       "      <td>0</td>\n",
       "      <td>0</td>\n",
       "      <td>0</td>\n",
       "      <td>0</td>\n",
       "      <td>...</td>\n",
       "      <td>1</td>\n",
       "      <td>0</td>\n",
       "      <td>1</td>\n",
       "      <td>0</td>\n",
       "      <td>0</td>\n",
       "      <td>0</td>\n",
       "      <td>0</td>\n",
       "      <td>0</td>\n",
       "      <td>0</td>\n",
       "      <td>1</td>\n",
       "    </tr>\n",
       "    <tr>\n",
       "      <th>sent2</th>\n",
       "      <td>1</td>\n",
       "      <td>0</td>\n",
       "      <td>0</td>\n",
       "      <td>1</td>\n",
       "      <td>0</td>\n",
       "      <td>0</td>\n",
       "      <td>0</td>\n",
       "      <td>1</td>\n",
       "      <td>2</td>\n",
       "      <td>0</td>\n",
       "      <td>...</td>\n",
       "      <td>0</td>\n",
       "      <td>0</td>\n",
       "      <td>0</td>\n",
       "      <td>1</td>\n",
       "      <td>0</td>\n",
       "      <td>0</td>\n",
       "      <td>0</td>\n",
       "      <td>1</td>\n",
       "      <td>1</td>\n",
       "      <td>1</td>\n",
       "    </tr>\n",
       "    <tr>\n",
       "      <th>sent3</th>\n",
       "      <td>0</td>\n",
       "      <td>0</td>\n",
       "      <td>0</td>\n",
       "      <td>0</td>\n",
       "      <td>0</td>\n",
       "      <td>1</td>\n",
       "      <td>1</td>\n",
       "      <td>0</td>\n",
       "      <td>0</td>\n",
       "      <td>0</td>\n",
       "      <td>...</td>\n",
       "      <td>0</td>\n",
       "      <td>1</td>\n",
       "      <td>0</td>\n",
       "      <td>0</td>\n",
       "      <td>1</td>\n",
       "      <td>1</td>\n",
       "      <td>0</td>\n",
       "      <td>0</td>\n",
       "      <td>0</td>\n",
       "      <td>1</td>\n",
       "    </tr>\n",
       "  </tbody>\n",
       "</table>\n",
       "<p>4 rows × 34 columns</p>\n",
       "</div>"
      ],
      "text/plain": [
       "       1770,  26.  Construction  He  Jefferson  Jefferson's  Monticello  \\\n",
       "sent0      0    1             0   0          1            0           1   \n",
       "sent1      0    0             1   0          0            0           0   \n",
       "sent2      1    0             0   1          0            0           0   \n",
       "sent3      0    0             0   0          0            1           1   \n",
       "\n",
       "       Pavilion  South  Thomas  ...  masons  masterpiece  mostly  moved  \\\n",
       "sent0         0      0       1  ...       0            0       0      0   \n",
       "sent1         0      0       0  ...       1            0       1      0   \n",
       "sent2         1      2       0  ...       0            0       0      1   \n",
       "sent3         0      0       0  ...       0            1       0      0   \n",
       "\n",
       "       neoclassical  obsession.  of  really.  the  was  \n",
       "sent0             0           0   1        0    1    0  \n",
       "sent1             0           0   0        0    0    1  \n",
       "sent2             0           0   0        1    1    1  \n",
       "sent3             1           1   0        0    0    1  \n",
       "\n",
       "[4 rows x 34 columns]"
      ]
     },
     "execution_count": 26,
     "metadata": {},
     "output_type": "execute_result"
    }
   ],
   "source": [
    "df"
   ]
  },
  {
   "attachments": {},
   "cell_type": "markdown",
   "metadata": {},
   "source": [
    "### (c)\n",
    "\n",
    "See. https://www.nltk.org/api/nltk.tokenize.casual.html\n",
    "The example sentences do not have a repeated characters or special token (such as @), both parameters would not change the result."
   ]
  },
  {
   "cell_type": "code",
   "execution_count": 32,
   "metadata": {},
   "outputs": [],
   "source": [
    "from nltk.tokenize.casual import casual_tokenize"
   ]
  },
  {
   "cell_type": "code",
   "execution_count": 33,
   "metadata": {},
   "outputs": [
    {
     "data": {
      "text/plain": [
       "46"
      ]
     },
     "execution_count": 33,
     "metadata": {},
     "output_type": "execute_result"
    }
   ],
   "source": [
    "len(casual_tokenize(sentences))"
   ]
  },
  {
   "cell_type": "code",
   "execution_count": 34,
   "metadata": {},
   "outputs": [
    {
     "data": {
      "text/plain": [
       "46"
      ]
     },
     "execution_count": 34,
     "metadata": {},
     "output_type": "execute_result"
    }
   ],
   "source": [
    "len(casual_tokenize(sentences, reduce_len=True, strip_handles=True))"
   ]
  },
  {
   "attachments": {},
   "cell_type": "markdown",
   "metadata": {},
   "source": [
    "### (d)"
   ]
  },
  {
   "cell_type": "code",
   "execution_count": 38,
   "metadata": {},
   "outputs": [
    {
     "data": {
      "text/plain": [
       "46"
      ]
     },
     "execution_count": 38,
     "metadata": {},
     "output_type": "execute_result"
    }
   ],
   "source": [
    "from nltk.tokenize import TweetTokenizer\n",
    "tk = TweetTokenizer()\n",
    "len(tk.tokenize(sentences))"
   ]
  },
  {
   "attachments": {},
   "cell_type": "markdown",
   "metadata": {},
   "source": [
    "## Question 3 and 4.\n",
    "\n",
    "Class discussion."
   ]
  },
  {
   "attachments": {},
   "cell_type": "markdown",
   "metadata": {},
   "source": [
    "## Question 5"
   ]
  },
  {
   "attachments": {},
   "cell_type": "markdown",
   "metadata": {},
   "source": [
    "### (a)"
   ]
  },
  {
   "cell_type": "code",
   "execution_count": 43,
   "metadata": {},
   "outputs": [],
   "source": [
    "from collections import Counter"
   ]
  },
  {
   "cell_type": "code",
   "execution_count": 41,
   "metadata": {},
   "outputs": [
    {
     "data": {
      "text/html": [
       "<div>\n",
       "<style scoped>\n",
       "    .dataframe tbody tr th:only-of-type {\n",
       "        vertical-align: middle;\n",
       "    }\n",
       "\n",
       "    .dataframe tbody tr th {\n",
       "        vertical-align: top;\n",
       "    }\n",
       "\n",
       "    .dataframe thead th {\n",
       "        text-align: right;\n",
       "    }\n",
       "</style>\n",
       "<table border=\"1\" class=\"dataframe\">\n",
       "  <thead>\n",
       "    <tr style=\"text-align: right;\">\n",
       "      <th></th>\n",
       "      <th>text</th>\n",
       "      <th>target</th>\n",
       "    </tr>\n",
       "  </thead>\n",
       "  <tbody>\n",
       "    <tr>\n",
       "      <th>0</th>\n",
       "      <td>Our Deeds are the Reason of this #earthquake M...</td>\n",
       "      <td>1</td>\n",
       "    </tr>\n",
       "    <tr>\n",
       "      <th>1</th>\n",
       "      <td>Forest fire near La Ronge Sask. Canada</td>\n",
       "      <td>1</td>\n",
       "    </tr>\n",
       "    <tr>\n",
       "      <th>2</th>\n",
       "      <td>All residents asked to 'shelter in place' are ...</td>\n",
       "      <td>1</td>\n",
       "    </tr>\n",
       "    <tr>\n",
       "      <th>3</th>\n",
       "      <td>13,000 people receive #wildfires evacuation or...</td>\n",
       "      <td>1</td>\n",
       "    </tr>\n",
       "    <tr>\n",
       "      <th>4</th>\n",
       "      <td>Just got sent this photo from Ruby #Alaska as ...</td>\n",
       "      <td>1</td>\n",
       "    </tr>\n",
       "  </tbody>\n",
       "</table>\n",
       "</div>"
      ],
      "text/plain": [
       "                                                text  target\n",
       "0  Our Deeds are the Reason of this #earthquake M...       1\n",
       "1             Forest fire near La Ronge Sask. Canada       1\n",
       "2  All residents asked to 'shelter in place' are ...       1\n",
       "3  13,000 people receive #wildfires evacuation or...       1\n",
       "4  Just got sent this photo from Ruby #Alaska as ...       1"
      ]
     },
     "execution_count": 41,
     "metadata": {},
     "output_type": "execute_result"
    }
   ],
   "source": [
    "df = pd.read_csv('/Users/yeabinmoon/Documents/ibs_course/BUS243_NLP/HW/data/kaggle/train.csv', usecols=['text','target'])\n",
    "df.head()"
   ]
  },
  {
   "cell_type": "code",
   "execution_count": 44,
   "metadata": {},
   "outputs": [
    {
     "data": {
      "text/plain": [
       "(7613, 25002)"
      ]
     },
     "execution_count": 44,
     "metadata": {},
     "output_type": "execute_result"
    }
   ],
   "source": [
    "bags_of_words = []\n",
    "for text in df.text:\n",
    "    bags_of_words.append(Counter(casual_tokenize(text, reduce_len=True, strip_handles=True)))\n",
    "df_bows = pd.DataFrame.from_records(bags_of_words) \n",
    "df_bows = df_bows.fillna(0).astype(int)\n",
    "df_bows.shape"
   ]
  },
  {
   "cell_type": "code",
   "execution_count": 45,
   "metadata": {},
   "outputs": [
    {
     "data": {
      "text/html": [
       "<div>\n",
       "<style scoped>\n",
       "    .dataframe tbody tr th:only-of-type {\n",
       "        vertical-align: middle;\n",
       "    }\n",
       "\n",
       "    .dataframe tbody tr th {\n",
       "        vertical-align: top;\n",
       "    }\n",
       "\n",
       "    .dataframe thead th {\n",
       "        text-align: right;\n",
       "    }\n",
       "</style>\n",
       "<table border=\"1\" class=\"dataframe\">\n",
       "  <thead>\n",
       "    <tr style=\"text-align: right;\">\n",
       "      <th></th>\n",
       "      <th>Our</th>\n",
       "      <th>Deeds</th>\n",
       "      <th>are</th>\n",
       "      <th>the</th>\n",
       "      <th>Reason</th>\n",
       "      <th>of</th>\n",
       "      <th>this</th>\n",
       "      <th>#earthquake</th>\n",
       "      <th>May</th>\n",
       "      <th>ALLAH</th>\n",
       "      <th>...</th>\n",
       "      <th>Ssw</th>\n",
       "      <th>#LA</th>\n",
       "      <th>http://t.co/5ueCmcv2Pk</th>\n",
       "      <th>Forney</th>\n",
       "      <th>developing</th>\n",
       "      <th>symptoms</th>\n",
       "      <th>http://t.co/rqKK15uhEY</th>\n",
       "      <th>http://t.co/nF4IculOje</th>\n",
       "      <th>http://t.co/STfMbbZFB5</th>\n",
       "      <th>http://t.co/YmY4rSkQ3d</th>\n",
       "    </tr>\n",
       "  </thead>\n",
       "  <tbody>\n",
       "    <tr>\n",
       "      <th>0</th>\n",
       "      <td>1</td>\n",
       "      <td>1</td>\n",
       "      <td>1</td>\n",
       "      <td>1</td>\n",
       "      <td>1</td>\n",
       "      <td>1</td>\n",
       "      <td>1</td>\n",
       "      <td>1</td>\n",
       "      <td>1</td>\n",
       "      <td>1</td>\n",
       "      <td>...</td>\n",
       "      <td>0</td>\n",
       "      <td>0</td>\n",
       "      <td>0</td>\n",
       "      <td>0</td>\n",
       "      <td>0</td>\n",
       "      <td>0</td>\n",
       "      <td>0</td>\n",
       "      <td>0</td>\n",
       "      <td>0</td>\n",
       "      <td>0</td>\n",
       "    </tr>\n",
       "    <tr>\n",
       "      <th>1</th>\n",
       "      <td>0</td>\n",
       "      <td>0</td>\n",
       "      <td>0</td>\n",
       "      <td>0</td>\n",
       "      <td>0</td>\n",
       "      <td>0</td>\n",
       "      <td>0</td>\n",
       "      <td>0</td>\n",
       "      <td>0</td>\n",
       "      <td>0</td>\n",
       "      <td>...</td>\n",
       "      <td>0</td>\n",
       "      <td>0</td>\n",
       "      <td>0</td>\n",
       "      <td>0</td>\n",
       "      <td>0</td>\n",
       "      <td>0</td>\n",
       "      <td>0</td>\n",
       "      <td>0</td>\n",
       "      <td>0</td>\n",
       "      <td>0</td>\n",
       "    </tr>\n",
       "    <tr>\n",
       "      <th>2</th>\n",
       "      <td>0</td>\n",
       "      <td>0</td>\n",
       "      <td>2</td>\n",
       "      <td>0</td>\n",
       "      <td>0</td>\n",
       "      <td>0</td>\n",
       "      <td>0</td>\n",
       "      <td>0</td>\n",
       "      <td>0</td>\n",
       "      <td>0</td>\n",
       "      <td>...</td>\n",
       "      <td>0</td>\n",
       "      <td>0</td>\n",
       "      <td>0</td>\n",
       "      <td>0</td>\n",
       "      <td>0</td>\n",
       "      <td>0</td>\n",
       "      <td>0</td>\n",
       "      <td>0</td>\n",
       "      <td>0</td>\n",
       "      <td>0</td>\n",
       "    </tr>\n",
       "    <tr>\n",
       "      <th>3</th>\n",
       "      <td>0</td>\n",
       "      <td>0</td>\n",
       "      <td>0</td>\n",
       "      <td>0</td>\n",
       "      <td>0</td>\n",
       "      <td>0</td>\n",
       "      <td>0</td>\n",
       "      <td>0</td>\n",
       "      <td>0</td>\n",
       "      <td>0</td>\n",
       "      <td>...</td>\n",
       "      <td>0</td>\n",
       "      <td>0</td>\n",
       "      <td>0</td>\n",
       "      <td>0</td>\n",
       "      <td>0</td>\n",
       "      <td>0</td>\n",
       "      <td>0</td>\n",
       "      <td>0</td>\n",
       "      <td>0</td>\n",
       "      <td>0</td>\n",
       "    </tr>\n",
       "    <tr>\n",
       "      <th>4</th>\n",
       "      <td>0</td>\n",
       "      <td>0</td>\n",
       "      <td>0</td>\n",
       "      <td>0</td>\n",
       "      <td>0</td>\n",
       "      <td>0</td>\n",
       "      <td>1</td>\n",
       "      <td>0</td>\n",
       "      <td>0</td>\n",
       "      <td>0</td>\n",
       "      <td>...</td>\n",
       "      <td>0</td>\n",
       "      <td>0</td>\n",
       "      <td>0</td>\n",
       "      <td>0</td>\n",
       "      <td>0</td>\n",
       "      <td>0</td>\n",
       "      <td>0</td>\n",
       "      <td>0</td>\n",
       "      <td>0</td>\n",
       "      <td>0</td>\n",
       "    </tr>\n",
       "  </tbody>\n",
       "</table>\n",
       "<p>5 rows × 25002 columns</p>\n",
       "</div>"
      ],
      "text/plain": [
       "   Our  Deeds  are  the  Reason  of  this  #earthquake  May  ALLAH  ...  Ssw  \\\n",
       "0    1      1    1    1       1   1     1            1    1      1  ...    0   \n",
       "1    0      0    0    0       0   0     0            0    0      0  ...    0   \n",
       "2    0      0    2    0       0   0     0            0    0      0  ...    0   \n",
       "3    0      0    0    0       0   0     0            0    0      0  ...    0   \n",
       "4    0      0    0    0       0   0     1            0    0      0  ...    0   \n",
       "\n",
       "   #LA  http://t.co/5ueCmcv2Pk  Forney  developing  symptoms  \\\n",
       "0    0                       0       0           0         0   \n",
       "1    0                       0       0           0         0   \n",
       "2    0                       0       0           0         0   \n",
       "3    0                       0       0           0         0   \n",
       "4    0                       0       0           0         0   \n",
       "\n",
       "   http://t.co/rqKK15uhEY  http://t.co/nF4IculOje  http://t.co/STfMbbZFB5  \\\n",
       "0                       0                       0                       0   \n",
       "1                       0                       0                       0   \n",
       "2                       0                       0                       0   \n",
       "3                       0                       0                       0   \n",
       "4                       0                       0                       0   \n",
       "\n",
       "   http://t.co/YmY4rSkQ3d  \n",
       "0                       0  \n",
       "1                       0  \n",
       "2                       0  \n",
       "3                       0  \n",
       "4                       0  \n",
       "\n",
       "[5 rows x 25002 columns]"
      ]
     },
     "execution_count": 45,
     "metadata": {},
     "output_type": "execute_result"
    }
   ],
   "source": [
    "df_bows.head()"
   ]
  },
  {
   "cell_type": "code",
   "execution_count": 46,
   "metadata": {},
   "outputs": [],
   "source": [
    "from sklearn.naive_bayes import MultinomialNB  # noqa\n",
    "nb = MultinomialNB()\n",
    "nb = nb.fit(df_bows, df.target == 1)"
   ]
  },
  {
   "cell_type": "code",
   "execution_count": 47,
   "metadata": {},
   "outputs": [],
   "source": [
    "df['predicted_sentiment'] = nb.predict(df_bows).astype(int)\n",
    "df['error'] = (df.predicted_sentiment - df.target).abs()"
   ]
  },
  {
   "cell_type": "code",
   "execution_count": 48,
   "metadata": {},
   "outputs": [
    {
     "data": {
      "text/html": [
       "<div>\n",
       "<style scoped>\n",
       "    .dataframe tbody tr th:only-of-type {\n",
       "        vertical-align: middle;\n",
       "    }\n",
       "\n",
       "    .dataframe tbody tr th {\n",
       "        vertical-align: top;\n",
       "    }\n",
       "\n",
       "    .dataframe thead th {\n",
       "        text-align: right;\n",
       "    }\n",
       "</style>\n",
       "<table border=\"1\" class=\"dataframe\">\n",
       "  <thead>\n",
       "    <tr style=\"text-align: right;\">\n",
       "      <th></th>\n",
       "      <th>text</th>\n",
       "      <th>target</th>\n",
       "      <th>predicted_sentiment</th>\n",
       "      <th>error</th>\n",
       "    </tr>\n",
       "  </thead>\n",
       "  <tbody>\n",
       "    <tr>\n",
       "      <th>0</th>\n",
       "      <td>Our Deeds are the Reason of this #earthquake M...</td>\n",
       "      <td>1</td>\n",
       "      <td>1</td>\n",
       "      <td>0</td>\n",
       "    </tr>\n",
       "    <tr>\n",
       "      <th>1</th>\n",
       "      <td>Forest fire near La Ronge Sask. Canada</td>\n",
       "      <td>1</td>\n",
       "      <td>1</td>\n",
       "      <td>0</td>\n",
       "    </tr>\n",
       "    <tr>\n",
       "      <th>2</th>\n",
       "      <td>All residents asked to 'shelter in place' are ...</td>\n",
       "      <td>1</td>\n",
       "      <td>1</td>\n",
       "      <td>0</td>\n",
       "    </tr>\n",
       "    <tr>\n",
       "      <th>3</th>\n",
       "      <td>13,000 people receive #wildfires evacuation or...</td>\n",
       "      <td>1</td>\n",
       "      <td>1</td>\n",
       "      <td>0</td>\n",
       "    </tr>\n",
       "    <tr>\n",
       "      <th>4</th>\n",
       "      <td>Just got sent this photo from Ruby #Alaska as ...</td>\n",
       "      <td>1</td>\n",
       "      <td>1</td>\n",
       "      <td>0</td>\n",
       "    </tr>\n",
       "    <tr>\n",
       "      <th>...</th>\n",
       "      <td>...</td>\n",
       "      <td>...</td>\n",
       "      <td>...</td>\n",
       "      <td>...</td>\n",
       "    </tr>\n",
       "    <tr>\n",
       "      <th>7608</th>\n",
       "      <td>Two giant cranes holding a bridge collapse int...</td>\n",
       "      <td>1</td>\n",
       "      <td>1</td>\n",
       "      <td>0</td>\n",
       "    </tr>\n",
       "    <tr>\n",
       "      <th>7609</th>\n",
       "      <td>@aria_ahrary @TheTawniest The out of control w...</td>\n",
       "      <td>1</td>\n",
       "      <td>1</td>\n",
       "      <td>0</td>\n",
       "    </tr>\n",
       "    <tr>\n",
       "      <th>7610</th>\n",
       "      <td>M1.94 [01:04 UTC]?5km S of Volcano Hawaii. htt...</td>\n",
       "      <td>1</td>\n",
       "      <td>1</td>\n",
       "      <td>0</td>\n",
       "    </tr>\n",
       "    <tr>\n",
       "      <th>7611</th>\n",
       "      <td>Police investigating after an e-bike collided ...</td>\n",
       "      <td>1</td>\n",
       "      <td>1</td>\n",
       "      <td>0</td>\n",
       "    </tr>\n",
       "    <tr>\n",
       "      <th>7612</th>\n",
       "      <td>The Latest: More Homes Razed by Northern Calif...</td>\n",
       "      <td>1</td>\n",
       "      <td>1</td>\n",
       "      <td>0</td>\n",
       "    </tr>\n",
       "  </tbody>\n",
       "</table>\n",
       "<p>7613 rows × 4 columns</p>\n",
       "</div>"
      ],
      "text/plain": [
       "                                                   text  target  \\\n",
       "0     Our Deeds are the Reason of this #earthquake M...       1   \n",
       "1                Forest fire near La Ronge Sask. Canada       1   \n",
       "2     All residents asked to 'shelter in place' are ...       1   \n",
       "3     13,000 people receive #wildfires evacuation or...       1   \n",
       "4     Just got sent this photo from Ruby #Alaska as ...       1   \n",
       "...                                                 ...     ...   \n",
       "7608  Two giant cranes holding a bridge collapse int...       1   \n",
       "7609  @aria_ahrary @TheTawniest The out of control w...       1   \n",
       "7610  M1.94 [01:04 UTC]?5km S of Volcano Hawaii. htt...       1   \n",
       "7611  Police investigating after an e-bike collided ...       1   \n",
       "7612  The Latest: More Homes Razed by Northern Calif...       1   \n",
       "\n",
       "      predicted_sentiment  error  \n",
       "0                       1      0  \n",
       "1                       1      0  \n",
       "2                       1      0  \n",
       "3                       1      0  \n",
       "4                       1      0  \n",
       "...                   ...    ...  \n",
       "7608                    1      0  \n",
       "7609                    1      0  \n",
       "7610                    1      0  \n",
       "7611                    1      0  \n",
       "7612                    1      0  \n",
       "\n",
       "[7613 rows x 4 columns]"
      ]
     },
     "execution_count": 48,
     "metadata": {},
     "output_type": "execute_result"
    }
   ],
   "source": [
    "df"
   ]
  },
  {
   "cell_type": "code",
   "execution_count": 49,
   "metadata": {},
   "outputs": [
    {
     "data": {
      "text/plain": [
       "0.9047681597267831"
      ]
     },
     "execution_count": 49,
     "metadata": {},
     "output_type": "execute_result"
    }
   ],
   "source": [
    "(df.target == df.predicted_sentiment).sum() / len(df)"
   ]
  },
  {
   "cell_type": "code",
   "execution_count": 50,
   "metadata": {},
   "outputs": [
    {
     "data": {
      "text/html": [
       "<div>\n",
       "<style scoped>\n",
       "    .dataframe tbody tr th:only-of-type {\n",
       "        vertical-align: middle;\n",
       "    }\n",
       "\n",
       "    .dataframe tbody tr th {\n",
       "        vertical-align: top;\n",
       "    }\n",
       "\n",
       "    .dataframe thead th {\n",
       "        text-align: right;\n",
       "    }\n",
       "</style>\n",
       "<table border=\"1\" class=\"dataframe\">\n",
       "  <thead>\n",
       "    <tr style=\"text-align: right;\">\n",
       "      <th></th>\n",
       "      <th>id</th>\n",
       "      <th>text</th>\n",
       "    </tr>\n",
       "  </thead>\n",
       "  <tbody>\n",
       "    <tr>\n",
       "      <th>0</th>\n",
       "      <td>0</td>\n",
       "      <td>Just happened a terrible car crash</td>\n",
       "    </tr>\n",
       "    <tr>\n",
       "      <th>1</th>\n",
       "      <td>2</td>\n",
       "      <td>Heard about #earthquake is different cities, s...</td>\n",
       "    </tr>\n",
       "    <tr>\n",
       "      <th>2</th>\n",
       "      <td>3</td>\n",
       "      <td>there is a forest fire at spot pond, geese are...</td>\n",
       "    </tr>\n",
       "    <tr>\n",
       "      <th>3</th>\n",
       "      <td>9</td>\n",
       "      <td>Apocalypse lighting. #Spokane #wildfires</td>\n",
       "    </tr>\n",
       "    <tr>\n",
       "      <th>4</th>\n",
       "      <td>11</td>\n",
       "      <td>Typhoon Soudelor kills 28 in China and Taiwan</td>\n",
       "    </tr>\n",
       "    <tr>\n",
       "      <th>...</th>\n",
       "      <td>...</td>\n",
       "      <td>...</td>\n",
       "    </tr>\n",
       "    <tr>\n",
       "      <th>3258</th>\n",
       "      <td>10861</td>\n",
       "      <td>EARTHQUAKE SAFETY LOS ANGELES ÛÒ SAFETY FASTE...</td>\n",
       "    </tr>\n",
       "    <tr>\n",
       "      <th>3259</th>\n",
       "      <td>10865</td>\n",
       "      <td>Storm in RI worse than last hurricane. My city...</td>\n",
       "    </tr>\n",
       "    <tr>\n",
       "      <th>3260</th>\n",
       "      <td>10868</td>\n",
       "      <td>Green Line derailment in Chicago http://t.co/U...</td>\n",
       "    </tr>\n",
       "    <tr>\n",
       "      <th>3261</th>\n",
       "      <td>10874</td>\n",
       "      <td>MEG issues Hazardous Weather Outlook (HWO) htt...</td>\n",
       "    </tr>\n",
       "    <tr>\n",
       "      <th>3262</th>\n",
       "      <td>10875</td>\n",
       "      <td>#CityofCalgary has activated its Municipal Eme...</td>\n",
       "    </tr>\n",
       "  </tbody>\n",
       "</table>\n",
       "<p>3263 rows × 2 columns</p>\n",
       "</div>"
      ],
      "text/plain": [
       "         id                                               text\n",
       "0         0                 Just happened a terrible car crash\n",
       "1         2  Heard about #earthquake is different cities, s...\n",
       "2         3  there is a forest fire at spot pond, geese are...\n",
       "3         9           Apocalypse lighting. #Spokane #wildfires\n",
       "4        11      Typhoon Soudelor kills 28 in China and Taiwan\n",
       "...     ...                                                ...\n",
       "3258  10861  EARTHQUAKE SAFETY LOS ANGELES ÛÒ SAFETY FASTE...\n",
       "3259  10865  Storm in RI worse than last hurricane. My city...\n",
       "3260  10868  Green Line derailment in Chicago http://t.co/U...\n",
       "3261  10874  MEG issues Hazardous Weather Outlook (HWO) htt...\n",
       "3262  10875  #CityofCalgary has activated its Municipal Eme...\n",
       "\n",
       "[3263 rows x 2 columns]"
      ]
     },
     "execution_count": 50,
     "metadata": {},
     "output_type": "execute_result"
    }
   ],
   "source": [
    "df_test = pd.read_csv('/Users/yeabinmoon/Documents/ibs_course/BUS243_NLP/HW/data/kaggle/test.csv', usecols=['id','text'])\n",
    "df_test"
   ]
  },
  {
   "cell_type": "code",
   "execution_count": 51,
   "metadata": {},
   "outputs": [],
   "source": [
    "bags_of_words = []\n",
    "for text in df_test.text:\n",
    "    bags_of_words.append(Counter(casual_tokenize(text, reduce_len=True, strip_handles=True)))\n",
    "df_test_bows = pd.DataFrame.from_records(bags_of_words) \n",
    "df_test_bows = df_test_bows.fillna(0).astype(int)"
   ]
  },
  {
   "cell_type": "code",
   "execution_count": 52,
   "metadata": {},
   "outputs": [
    {
     "name": "stderr",
     "output_type": "stream",
     "text": [
      "/var/folders/z2/8ffk35zd2jd3h1wp91qc_7wm0000gn/T/ipykernel_3727/51418172.py:1: FutureWarning: The frame.append method is deprecated and will be removed from pandas in a future version. Use pandas.concat instead.\n",
      "  df_all_bows = df_bows.append(df_test_bows)\n"
     ]
    }
   ],
   "source": [
    "df_all_bows = df_bows.append(df_test_bows)"
   ]
  },
  {
   "cell_type": "code",
   "execution_count": 53,
   "metadata": {},
   "outputs": [],
   "source": [
    "df_test_bows = df_all_bows.iloc[len(df):][df_bows.columns]"
   ]
  },
  {
   "cell_type": "code",
   "execution_count": 54,
   "metadata": {},
   "outputs": [
    {
     "data": {
      "text/plain": [
       "(3263, 25002)"
      ]
     },
     "execution_count": 54,
     "metadata": {},
     "output_type": "execute_result"
    }
   ],
   "source": [
    "df_test_bows.shape"
   ]
  },
  {
   "cell_type": "code",
   "execution_count": 55,
   "metadata": {},
   "outputs": [],
   "source": [
    "df_test_bows = df_test_bows.fillna(0).astype(int)"
   ]
  },
  {
   "cell_type": "code",
   "execution_count": 56,
   "metadata": {},
   "outputs": [
    {
     "name": "stderr",
     "output_type": "stream",
     "text": [
      "/Users/yeabinmoon/opt/anaconda3/envs/tensorflow_env/lib/python3.9/site-packages/sklearn/base.py:420: UserWarning: X does not have valid feature names, but MultinomialNB was fitted with feature names\n",
      "  warnings.warn(\n"
     ]
    }
   ],
   "source": [
    "df_test['pred'] = nb.predict(df_test_bows.values).astype(int)"
   ]
  },
  {
   "cell_type": "code",
   "execution_count": 57,
   "metadata": {},
   "outputs": [
    {
     "data": {
      "text/html": [
       "<div>\n",
       "<style scoped>\n",
       "    .dataframe tbody tr th:only-of-type {\n",
       "        vertical-align: middle;\n",
       "    }\n",
       "\n",
       "    .dataframe tbody tr th {\n",
       "        vertical-align: top;\n",
       "    }\n",
       "\n",
       "    .dataframe thead th {\n",
       "        text-align: right;\n",
       "    }\n",
       "</style>\n",
       "<table border=\"1\" class=\"dataframe\">\n",
       "  <thead>\n",
       "    <tr style=\"text-align: right;\">\n",
       "      <th></th>\n",
       "      <th>id</th>\n",
       "      <th>text</th>\n",
       "      <th>pred</th>\n",
       "    </tr>\n",
       "  </thead>\n",
       "  <tbody>\n",
       "    <tr>\n",
       "      <th>0</th>\n",
       "      <td>0</td>\n",
       "      <td>Just happened a terrible car crash</td>\n",
       "      <td>1</td>\n",
       "    </tr>\n",
       "    <tr>\n",
       "      <th>1</th>\n",
       "      <td>2</td>\n",
       "      <td>Heard about #earthquake is different cities, s...</td>\n",
       "      <td>1</td>\n",
       "    </tr>\n",
       "    <tr>\n",
       "      <th>2</th>\n",
       "      <td>3</td>\n",
       "      <td>there is a forest fire at spot pond, geese are...</td>\n",
       "      <td>1</td>\n",
       "    </tr>\n",
       "    <tr>\n",
       "      <th>3</th>\n",
       "      <td>9</td>\n",
       "      <td>Apocalypse lighting. #Spokane #wildfires</td>\n",
       "      <td>1</td>\n",
       "    </tr>\n",
       "    <tr>\n",
       "      <th>4</th>\n",
       "      <td>11</td>\n",
       "      <td>Typhoon Soudelor kills 28 in China and Taiwan</td>\n",
       "      <td>1</td>\n",
       "    </tr>\n",
       "    <tr>\n",
       "      <th>...</th>\n",
       "      <td>...</td>\n",
       "      <td>...</td>\n",
       "      <td>...</td>\n",
       "    </tr>\n",
       "    <tr>\n",
       "      <th>3258</th>\n",
       "      <td>10861</td>\n",
       "      <td>EARTHQUAKE SAFETY LOS ANGELES ÛÒ SAFETY FASTE...</td>\n",
       "      <td>0</td>\n",
       "    </tr>\n",
       "    <tr>\n",
       "      <th>3259</th>\n",
       "      <td>10865</td>\n",
       "      <td>Storm in RI worse than last hurricane. My city...</td>\n",
       "      <td>1</td>\n",
       "    </tr>\n",
       "    <tr>\n",
       "      <th>3260</th>\n",
       "      <td>10868</td>\n",
       "      <td>Green Line derailment in Chicago http://t.co/U...</td>\n",
       "      <td>1</td>\n",
       "    </tr>\n",
       "    <tr>\n",
       "      <th>3261</th>\n",
       "      <td>10874</td>\n",
       "      <td>MEG issues Hazardous Weather Outlook (HWO) htt...</td>\n",
       "      <td>1</td>\n",
       "    </tr>\n",
       "    <tr>\n",
       "      <th>3262</th>\n",
       "      <td>10875</td>\n",
       "      <td>#CityofCalgary has activated its Municipal Eme...</td>\n",
       "      <td>1</td>\n",
       "    </tr>\n",
       "  </tbody>\n",
       "</table>\n",
       "<p>3263 rows × 3 columns</p>\n",
       "</div>"
      ],
      "text/plain": [
       "         id                                               text  pred\n",
       "0         0                 Just happened a terrible car crash     1\n",
       "1         2  Heard about #earthquake is different cities, s...     1\n",
       "2         3  there is a forest fire at spot pond, geese are...     1\n",
       "3         9           Apocalypse lighting. #Spokane #wildfires     1\n",
       "4        11      Typhoon Soudelor kills 28 in China and Taiwan     1\n",
       "...     ...                                                ...   ...\n",
       "3258  10861  EARTHQUAKE SAFETY LOS ANGELES ÛÒ SAFETY FASTE...     0\n",
       "3259  10865  Storm in RI worse than last hurricane. My city...     1\n",
       "3260  10868  Green Line derailment in Chicago http://t.co/U...     1\n",
       "3261  10874  MEG issues Hazardous Weather Outlook (HWO) htt...     1\n",
       "3262  10875  #CityofCalgary has activated its Municipal Eme...     1\n",
       "\n",
       "[3263 rows x 3 columns]"
      ]
     },
     "execution_count": 57,
     "metadata": {},
     "output_type": "execute_result"
    }
   ],
   "source": [
    "df_test"
   ]
  },
  {
   "attachments": {},
   "cell_type": "markdown",
   "metadata": {},
   "source": [
    "### (b)"
   ]
  },
  {
   "cell_type": "code",
   "execution_count": 58,
   "metadata": {},
   "outputs": [],
   "source": [
    "from sklearn.metrics import precision_score, recall_score"
   ]
  },
  {
   "cell_type": "code",
   "execution_count": 60,
   "metadata": {},
   "outputs": [
    {
     "data": {
      "text/plain": [
       "0.9451048951048951"
      ]
     },
     "execution_count": 60,
     "metadata": {},
     "output_type": "execute_result"
    }
   ],
   "source": [
    "precision_score(df.target, df.predicted_sentiment)"
   ]
  },
  {
   "cell_type": "code",
   "execution_count": 61,
   "metadata": {},
   "outputs": [
    {
     "data": {
      "text/plain": [
       "0.8263527973096912"
      ]
     },
     "execution_count": 61,
     "metadata": {},
     "output_type": "execute_result"
    }
   ],
   "source": [
    "recall_score(df.target, df.predicted_sentiment)"
   ]
  },
  {
   "attachments": {},
   "cell_type": "markdown",
   "metadata": {},
   "source": [
    "### (c)"
   ]
  },
  {
   "cell_type": "code",
   "execution_count": 63,
   "metadata": {},
   "outputs": [],
   "source": [
    "bags_of_words = []\n",
    "for text in df.text:\n",
    "    bags_of_words.append(Counter(casual_tokenize(text, reduce_len=True, strip_handles=True)))\n",
    "df_bows = pd.DataFrame.from_records(bags_of_words) \n",
    "df_bows = df_bows.fillna(0).astype(int)"
   ]
  },
  {
   "cell_type": "code",
   "execution_count": 64,
   "metadata": {},
   "outputs": [],
   "source": [
    "nb = MultinomialNB(alpha=10)\n",
    "nb = nb.fit(df_bows, df.target == 1)"
   ]
  },
  {
   "cell_type": "code",
   "execution_count": 65,
   "metadata": {},
   "outputs": [],
   "source": [
    "df['predicted_sentiment'] = nb.predict(df_bows).astype(int)"
   ]
  },
  {
   "cell_type": "code",
   "execution_count": 66,
   "metadata": {},
   "outputs": [
    {
     "data": {
      "text/plain": [
       "0.920753064798599"
      ]
     },
     "execution_count": 66,
     "metadata": {},
     "output_type": "execute_result"
    }
   ],
   "source": [
    "precision_score(df.target, df.predicted_sentiment)"
   ]
  },
  {
   "cell_type": "code",
   "execution_count": 67,
   "metadata": {},
   "outputs": [
    {
     "data": {
      "text/plain": [
       "0.6429226536227454"
      ]
     },
     "execution_count": 67,
     "metadata": {},
     "output_type": "execute_result"
    }
   ],
   "source": [
    "recall_score(df.target, df.predicted_sentiment)"
   ]
  },
  {
   "attachments": {},
   "cell_type": "markdown",
   "metadata": {},
   "source": [
    "## Question 6"
   ]
  },
  {
   "cell_type": "code",
   "execution_count": 68,
   "metadata": {},
   "outputs": [],
   "source": [
    "filename = '/Users/yeabinmoon/Documents/ibs_course/BUS243_NLP/data/metamorphosis.txt'\n",
    "file = open(filename, 'rt')\n",
    "text = file.read()\n",
    "file.close()"
   ]
  },
  {
   "cell_type": "code",
   "execution_count": 69,
   "metadata": {},
   "outputs": [
    {
     "data": {
      "text/plain": [
       "'One morning, when Gregor Samsa woke from troubled dreams, he found\\nhimself transformed in his bed into a horrible vermin.  He lay on\\nhis armour-like back, and if he lifted his head a little he could\\nsee his brown belly, slightly domed and divided by arches into stiff\\nsections.  The bedding was hardly able to cover it and seemed ready\\nto slide off any moment.  His many legs, pitifully thin compared\\nwith the size of the rest of him, waved about helplessly as he\\nlooked.\\n\\n\"What\\'s happened to me?\" he thought.  It wasn\\'t a dream.  His room,\\na proper human room although a little too small, lay peacefully\\nbetween its four familiar walls.  A collection of textile samples\\nlay spread out on the table - Samsa was a travelling salesman - and\\nabove it there hung a picture that he had recently cut out of an\\nillustrated magazine and housed in a nice, gilded frame.  It showed\\na lady fitted out with a fur hat and fur boa who sat upright,\\nraising a heavy fur muff that covered the whole of her lower arm\\ntowards the viewer.\\n\\nGregor then turned to look out the window at the dull weather.\\nDrops of rain could be heard hitting the pane, which made him feel\\nquite sad.  \"How about if I sleep a little bit longer and forget all\\nthis nonsense\", he thought, but that was something he was unable to\\ndo because he was used to sleeping on his right, and in his present\\nstate couldn\\'t get into that position.  However hard he threw\\nhimself onto his right, he always rolled back to where he was.  He\\nmust have tried it a hundred times, shut his eyes so that he\\nwouldn\\'t have to look at the floundering legs, and only stopped when\\nhe began to feel a mild, dull pain there that he had never felt\\nbefore.\\n\\n\"Oh, God\", he thought, \"what a strenuous career it is that I\\'ve\\nchosen! Travelling day in and day out.  Doing business like this\\ntakes much more effort than doing your own business at home, and on\\ntop of that there\\'s the curse of travelling, worries about making\\ntrain connections, bad and irregular food, contact with different\\npeople all the time so that you can never get to know anyone or\\nbecome friendly with them.  It can all go to Hell!\"  He felt a\\nslight itch up on his belly; pushed himself slowly up on his back\\ntowards the headboard so that he could lift his head better; found\\nwhere the itch was, and saw that it was covered with lots of little\\nwhite spots which he didn\\'t know what to make of; and when he tried\\nto feel the place with one of his legs he drew it quickly back\\nbecause as soon as he touched it he was overcome by a cold shudder.\\n\\nHe slid back into his former position.  \"Getting up early all the\\ntime\", he thought, \"it makes you stupid.  You\\'ve got to get enough\\nsleep.  Other travelling salesmen live a life of luxury.  For\\ninstance, whenever I go back to the guest house during the morning\\nto copy out the contract, these gentlemen are always still sitting\\nthere eating their breakfasts.  I ought to just try that with my\\nboss; I\\'d get kicked out on the spot.  But who knows, maybe that\\nwould be the best thing for me.  If I didn\\'t have my parents to\\nthink about I\\'d have given in my notice a long time ago, I\\'d have\\ngone up to the boss and told him just what I think, tell him\\neverything I would, let him know just what I feel.  He\\'d fall right\\noff his desk! And it\\'s a funny sort of business to be sitting up\\nthere at your desk, talking down at your subordinates from up there,\\nespecially when you have to go right up close because the boss is\\nhard of hearing.  Well, there\\'s still some hope; once I\\'ve got the\\nmoney together to pay off my parents\\' debt to him - another five or\\nsix years I suppose - that\\'s definitely what I\\'ll do.  That\\'s when\\nI\\'ll make the big change.  First of all though, I\\'ve got to get up,\\nmy train leaves at five.\"\\n\\nAnd he looked over at the alarm clock, ticking on the chest of\\ndrawers.  \"God in Heaven!\" he thought.  It was half past six and the\\nhands were quietly moving forwards, it was even later than half\\npast, more like quarter to seven.  Had the alarm clock not rung? He\\ncould see from the bed that it had been set for four o\\'clock as it\\nshould have been; it certainly must have rung.  Yes, but was it\\npossible to quietly sleep through that furniture-rattling noise?\\nTrue, he had not slept peacefully, but probably all the more deeply\\nbecause of that.  What should he do now? The next train went at\\nseven; if he were to catch that he would have to rush like mad and\\nthe collection of samples was still not packed, and he did not at\\nall feel particularly fresh and lively.  And even if he did catch\\nthe train he would not avoid his boss\\'s anger as the office\\nassistant would have been there to see the five o\\'clock train go, he\\nwould have put in his report about Gregor\\'s not being there a long\\ntime ago.  The office assistant was the boss\\'s man, spineless, and\\nwith no understanding.  What about if he reported sick? But that\\nwould be extremely strained and suspicious as in fifteen years of\\nservice Gregor had never once yet been ill.  His boss would\\ncertainly come round with the doctor from the medical insurance\\ncompany, accuse his parents of having a lazy son, and accept the\\ndoctor\\'s recommendation not to make any claim as the doctor believed\\nthat no-one was ever ill but that many were workshy.  And what\\'s\\nmore, would he have been entirely wrong in this case? Gregor did in\\nfact, apart from excessive sleepiness after sleeping for so long,\\nfeel completely well and even felt much hungrier than usual.\\n\\nHe was still hurriedly thinking all this through, unable to decide\\nto get out of the bed, when the clock struck quarter to seven.\\nThere was a cautious knock at the door near his head.  \"Gregor\",\\nsomebody called - it was his mother - \"it\\'s quarter to seven.\\nDidn\\'t you want to go somewhere?\"  That gentle voice! Gregor was\\nshocked when he heard his own voice answering, it could hardly be\\nrecognised as the voice he had had before.  As if from deep inside\\nhim, there was a painful and uncontrollable squeaking mixed in with\\nit, the words could be made out at first but then there was a sort\\nof echo which made them unclear, leaving the hearer unsure whether\\nhe had heard properly or not.  Gregor had wanted to give a full\\nanswer and explain everything, but in the circumstances contented\\nhimself with saying: \"Yes, mother, yes, thank-you, I\\'m getting up\\nnow.\"  The change in Gregor\\'s voice probably could not be noticed\\noutside through the wooden door, as his mother was satisfied with\\nthis explanation and shuffled away.  But this short conversation\\nmade the other members of the family aware that Gregor, against\\ntheir expectations was still at home, and soon his father came\\nknocking at one of the side doors, gently, but with his fist.\\n\"Gregor, Gregor\", he called, \"what\\'s wrong?\"  And after a short\\nwhile he called again with a warning deepness in his voice: \"Gregor!\\nGregor!\"  At the other side door his sister came plaintively:\\n\"Gregor? Aren\\'t you well? Do you need anything?\"  Gregor answered to\\nboth sides: \"I\\'m ready, now\", making an effort to remove all the\\nstrangeness from his voice by enunciating very carefully and putting\\nlong pauses between each, individual word.  His father went back to\\nhis breakfast, but his sister whispered: \"Gregor, open the door, I\\nbeg of you.\"  Gregor, however, had no thought of opening the door,\\nand instead congratulated himself for his cautious habit, acquired\\nfrom his travelling, of locking all doors at night even when he was\\nat home.\\n\\nThe first thing he wanted to do was to get up in peace without being\\ndisturbed, to get dressed, and most of all to have his breakfast.\\nOnly then would he consider what to do next, as he was well aware\\nthat he would not bring his thoughts to any sensible conclusions by\\nlying in bed.  He remembered that he had often felt a slight pain in\\nbed, perhaps caused by lying awkwardly, but that had always turned\\nout to be pure imagination and he wondered how his imaginings would\\nslowly resolve themselves today.  He did not have the slightest\\ndoubt that the change in his voice was nothing more than the first\\nsign of a serious cold, which was an occupational hazard for\\ntravelling salesmen.\\n\\nIt was a simple matter to throw off the covers; he only had to blow\\nhimself up a little and they fell off by themselves.  But it became\\ndifficult after that, especially as he was so exceptionally broad.\\nHe would have used his arms and his hands to push himself up; but\\ninstead of them he only had all those little legs continuously\\nmoving in different directions, and which he was moreover unable to\\ncontrol.  If he wanted to bend one of them, then that was the first\\none that would stretch itself out; and if he finally managed to do\\nwhat he wanted with that leg, all the others seemed to be set free\\nand would move about painfully.  \"This is something that can\\'t be\\ndone in bed\", Gregor said to himself, \"so don\\'t keep trying to do\\nit\".\\n\\nThe first thing he wanted to do was get the lower part of his body\\nout of the bed, but he had never seen this lower part, and could not\\nimagine what it looked like; it turned out to be too hard to move;\\nit went so slowly; and finally, almost in a frenzy, when he\\ncarelessly shoved himself forwards with all the force he could\\ngather, he chose the wrong direction, hit hard against the lower\\nbedpost, and learned from the burning pain he felt that the lower\\npart of his body might well, at present, be the most sensitive.\\n\\nSo then he tried to get the top part of his body out of the bed\\nfirst, carefully turning his head to the side.  This he managed\\nquite easily, and despite its breadth and its weight, the bulk of\\nhis body eventually followed slowly in the direction of the head.\\nBut when he had at last got his head out of the bed and into the\\nfresh air it occurred to him that if he let himself fall it would be\\na miracle if his head were not injured, so he became afraid to carry\\non pushing himself forward the same way.  And he could not knock\\nhimself out now at any price; better to stay in bed than lose\\nconsciousness.\\n\\nIt took just as much effort to get back to where he had been\\nearlier, but when he lay there sighing, and was once more watching\\nhis legs as they struggled against each other even harder than\\nbefore, if that was possible, he could think of no way of bringing\\npeace and order to this chaos.  He told himself once more that it\\nwas not possible for him to stay in bed and that the most sensible\\nthing to do would be to get free of it in whatever way he could at\\nwhatever sacrifice.  At the same time, though, he did not forget to\\nremind himself that calm consideration was much better than rushing\\nto desperate conclusions.  At times like this he would direct his\\neyes to the window and look out as clearly as he could, but\\nunfortunately, even the other side of the narrow street was\\nenveloped in morning fog and the view had little confidence or cheer\\nto offer him.  \"Seven o\\'clock, already\", he said to himself when the\\nclock struck again, \"seven o\\'clock, and there\\'s still a fog like\\nthis.\"  And he lay there quietly a while longer, breathing lightly\\nas if he perhaps expected the total stillness to bring things back\\nto their real and natural state.\\n\\nBut then he said to himself: \"Before it strikes quarter past seven\\nI\\'ll definitely have to have got properly out of bed.  And by then\\nsomebody will have come round from work to ask what\\'s happened to me\\nas well, as they open up at work before seven o\\'clock.\"  And so he\\nset himself to the task of swinging the entire length of his body\\nout of the bed all at the same time.  If he succeeded in falling out\\nof bed in this way and kept his head raised as he did so he could\\nprobably avoid injuring it.  His back seemed to be quite hard, and\\nprobably nothing would happen to it falling onto the carpet.  His\\nmain concern was for the loud noise he was bound to make, and which\\neven through all the doors would probably raise concern if not\\nalarm.  But it was something that had to be risked.\\n\\nWhen Gregor was already sticking half way out of the bed - the new\\nmethod was more of a game than an effort, all he had to do was rock\\nback and forth - it occurred to him how simple everything would be\\nif somebody came to help him.  Two strong people - he had his father\\nand the maid in mind - would have been more than enough; they would\\nonly have to push their arms under the dome of his back, peel him\\naway from the bed, bend down with the load and then be patient and\\ncareful as he swang over onto the floor, where, hopefully, the\\nlittle legs would find a use.  Should he really call for help\\nthough, even apart from the fact that all the doors were locked?\\nDespite all the difficulty he was in, he could not suppress a smile\\nat this thought.\\n\\nAfter a while he had already moved so far across that it would have\\nbeen hard for him to keep his balance if he rocked too hard.  The\\ntime was now ten past seven and he would have to make a final\\ndecision very soon.  Then there was a ring at the door of the flat.\\n\"That\\'ll be someone from work\", he said to himself, and froze very\\nstill, although his little legs only became all the more lively as\\nthey danced around.  For a moment everything remained quiet.\\n\"They\\'re not opening the door\", Gregor said to himself, caught in\\nsome nonsensical hope.  But then of course, the maid\\'s firm steps\\nwent to the door as ever and opened it.  Gregor only needed to hear\\nthe visitor\\'s first words of greeting and he knew who it was - the\\nchief clerk himself.  Why did Gregor have to be the only one\\ncondemned to work for a company where they immediately became highly\\nsuspicious at the slightest shortcoming? Were all employees, every\\none of them, louts, was there not one of them who was faithful and\\ndevoted who would go so mad with pangs of conscience that he\\ncouldn\\'t get out of bed if he didn\\'t spend at least a couple of\\nhours in the morning on company business? Was it really not enough\\nto let one of the trainees make enquiries - assuming enquiries were\\neven necessary - did the chief clerk have to come himself, and did\\nthey have to show the whole, innocent family that this was so\\nsuspicious that only the chief clerk could be trusted to have the\\nwisdom to investigate it? And more because these thoughts had made\\nhim upset than through any proper decision, he swang himself with\\nall his force out of the bed.  There was a loud thump, but it wasn\\'t\\nreally a loud noise.  His fall was softened a little by the carpet,\\nand Gregor\\'s back was also more elastic than he had thought, which\\nmade the sound muffled and not too noticeable.  He had not held his\\nhead carefully enough, though, and hit it as he fell; annoyed and in\\npain, he turned it and rubbed it against the carpet.\\n\\n\"Something\\'s fallen down in there\", said the chief clerk in the room\\non the left.  Gregor tried to imagine whether something of the sort\\nthat had happened to him today could ever happen to the chief clerk\\ntoo; you had to concede that it was possible.  But as if in gruff\\nreply to this question, the chief clerk\\'s firm footsteps in his\\nhighly polished boots could now be heard in the adjoining room.\\nFrom the room on his right, Gregor\\'s sister whispered to him to let\\nhim know: \"Gregor, the chief clerk is here.\"  \"Yes, I know\", said\\nGregor to himself; but without daring to raise his voice loud enough\\nfor his sister to hear him.\\n\\n\"Gregor\", said his father now from the room to his left, \"the chief\\nclerk has come round and wants to know why you didn\\'t leave on the\\nearly train.  We don\\'t know what to say to him.  And anyway, he\\nwants to speak to you personally.  So please open up this door.  I\\'m\\nsure he\\'ll be good enough to forgive the untidiness of your room.\"\\nThen the chief clerk called \"Good morning,  Mr. Samsa\". \"He isn\\'t\\nwell\", said his mother to the chief clerk, while his father\\ncontinued to speak through the door.  \"He isn\\'t well, please believe\\nme.  Why else would Gregor have missed a train! The lad only ever\\nthinks about the business.  It nearly makes me cross the way he\\nnever goes out in the evenings; he\\'s been in town for a week now but\\nstayed home every evening.  He sits with us in the kitchen and just\\nreads the paper or studies train timetables.  His idea of relaxation\\nis working with his fretsaw.  He\\'s made a little frame, for\\ninstance, it only took him two or three evenings, you\\'ll be amazed\\nhow nice it is; it\\'s hanging up in his room; you\\'ll see it as soon\\nas Gregor opens the door.  Anyway, I\\'m glad you\\'re here; we wouldn\\'t\\nhave been able to get Gregor to open the door by ourselves; he\\'s so\\nstubborn; and I\\'m sure he isn\\'t well, he said this morning that he\\nis, but he isn\\'t.\"  \"I\\'ll be there in a moment\", said Gregor slowly\\nand thoughtfully, but without moving so that he would not miss any\\nword of the conversation.  \"Well I can\\'t think of any other way of\\nexplaining it,  Mrs. Samsa\", said the chief clerk, \"I hope it\\'s\\nnothing serious.  But on the other hand, I must say that if we\\npeople in commerce ever become slightly unwell then, fortunately or\\nunfortunately as you like, we simply have to overcome it because of\\nbusiness considerations.\"  \"Can the chief clerk come in to see you\\nnow then?\", asked his father impatiently, knocking at the door\\nagain.  \"No\", said Gregor.  In the room on his right there followed\\na painful silence; in the room on his left his sister began to cry.\\n\\nSo why did his sister not go and join the others? She had probably\\nonly just got up and had not even begun to get dressed.  And why was\\nshe crying? Was it because he had not got up, and had not let the\\nchief clerk in, because he was in danger of losing his job and if\\nthat happened his boss would once more pursue their parents with the\\nsame demands as before? There was no need to worry about things like\\nthat yet.  Gregor was still there and had not the slightest\\nintention of abandoning his family.  For the time being he just lay\\nthere on the carpet, and no-one who knew the condition he was in\\nwould seriously have expected him to let the chief clerk in.  It was\\nonly a minor discourtesy, and a suitable excuse could easily be\\nfound for it later on, it was not something for which Gregor could\\nbe sacked on the spot.  And it seemed to Gregor much more sensible\\nto leave him now in peace instead of disturbing him with talking at\\nhim and crying.  But the others didn\\'t know what was happening, they\\nwere worried, that would excuse their behaviour.\\n\\nThe chief clerk now raised his voice, \"Mr. Samsa\", he called to him,\\n\"what is wrong? You barricade yourself in your room, give us no more\\nthan yes or no for an answer, you are causing serious and\\nunnecessary concern to your parents and you fail - and I mention\\nthis just by the way - you fail to carry out your business duties in\\na way that is quite unheard of.  I\\'m speaking here on behalf of your\\nparents and of your employer, and really must request a clear and\\nimmediate explanation.  I am astonished, quite astonished.  I\\nthought I knew you as a calm and sensible person, and now you\\nsuddenly seem to be showing off with peculiar whims.  This morning,\\nyour employer did suggest a possible reason for your failure to\\nappear, it\\'s true - it had to do with the money that was recently\\nentrusted to you - but I came near to giving him my word of honour\\nthat that could not be the right explanation.  But now that I see\\nyour incomprehensible stubbornness I no longer feel any wish\\nwhatsoever to intercede on your behalf.  And nor is your position\\nall that secure.  I had originally intended to say all this to you\\nin private, but since you cause me to waste my time here for no good\\nreason I don\\'t see why your parents should not also learn of it.\\nYour turnover has been very unsatisfactory of late; I grant you that\\nit\\'s not the time of year to do especially good business, we\\nrecognise that; but there simply is no time of year to do no\\nbusiness at all,  Mr. Samsa, we cannot allow there to be.\"\\n\\n\"But Sir\", called Gregor, beside himself and forgetting all else in\\nthe excitement, \"I\\'ll open up immediately, just a moment.  I\\'m\\nslightly unwell, an attack of dizziness, I haven\\'t been able to get\\nup.  I\\'m still in bed now.  I\\'m quite fresh again now, though.  I\\'m\\njust getting out of bed.  Just a moment.  Be patient! It\\'s not quite\\nas easy as I\\'d thought.  I\\'m quite alright now, though.  It\\'s\\nshocking, what can suddenly happen to a person! I was quite alright\\nlast night, my parents know about it, perhaps better than me, I had\\na small symptom of it last night already.  They must have noticed\\nit.  I don\\'t know why I didn\\'t let you know at work! But you always\\nthink you can get over an illness without staying at home.  Please,\\ndon\\'t make my parents suffer! There\\'s no basis for any of the\\naccusations you\\'re making; nobody\\'s ever said a word to me about any\\nof these things.  Maybe you haven\\'t read the latest contracts I sent\\nin.  I\\'ll set off with the eight o\\'clock train, as well, these few\\nhours of rest have given me strength.  You don\\'t need to wait, sir;\\nI\\'ll be in the office soon after you, and please be so good as to\\ntell that to the boss and recommend me to him!\"\\n\\nAnd while Gregor gushed out these words, hardly knowing what he was\\nsaying, he made his way over to the chest of drawers - this was\\neasily done, probably because of the practise he had already had in\\nbed - where he now tried to get himself upright.  He really did want\\nto open the door, really did want to let them see him and to speak\\nwith the chief clerk; the others were being so insistent, and he was\\ncurious to learn what they would say when they caught sight of him.\\nIf they were shocked then it would no longer be Gregor\\'s\\nresponsibility and he could rest.  If, however, they took everything\\ncalmly he would still have no reason to be upset, and if he hurried\\nhe really could be at the station for eight o\\'clock.  The first few\\ntimes he tried to climb up on the smooth chest of drawers he just\\nslid down again, but he finally gave himself one last swing and\\nstood there upright; the lower part of his body was in serious pain\\nbut he no longer gave any attention to it.  Now he let himself fall\\nagainst the back of a nearby chair and held tightly to the edges of\\nit with his little legs.  By now he had also calmed down, and kept\\nquiet so that he could listen to what the chief clerk was saying.\\n\\n\"Did you understand a word of all that?\" the chief clerk asked his\\nparents, \"surely he\\'s not trying to make fools of us\". \"Oh, God!\"\\ncalled his mother, who was already in tears, \"he could be seriously\\nill and we\\'re making him suffer.  Grete! Grete!\" she then cried.\\n\"Mother?\" his sister called from the other side.  They communicated\\nacross Gregor\\'s room.  \"You\\'ll have to go for the doctor straight\\naway.  Gregor is ill.  Quick, get the doctor.  Did you hear the way\\nGregor spoke just now?\"  \"That was the voice of an animal\", said the\\nchief clerk, with a calmness that was in contrast with his mother\\'s\\nscreams.  \"Anna! Anna!\" his father called into the kitchen through\\nthe entrance hall, clapping his hands, \"get a locksmith here, now!\"\\nAnd the two girls, their skirts swishing, immediately ran out\\nthrough the hall, wrenching open the front door of the flat as they\\nwent.  How had his sister managed to get dressed so quickly? There\\nwas no sound of the door banging shut again; they must have left it\\nopen;  people often do in homes where something awful has happened.\\n\\nGregor, in contrast, had become much calmer.  So they couldn\\'t\\nunderstand his words any more, although they seemed clear enough to\\nhim, clearer than before - perhaps his ears had become used to the\\nsound.  They had realised, though, that there was something wrong\\nwith him, and were ready to help.  The first response to his\\nsituation had been confident and wise, and that made him feel\\nbetter.  He felt that he had been drawn back in among people, and\\nfrom the doctor and the locksmith he expected great and surprising\\nachievements - although he did not really distinguish one from the\\nother.  Whatever was said next would be crucial, so, in order to\\nmake his voice as clear as possible, he coughed a little, but taking\\ncare to do this not too loudly as even this might well sound\\ndifferent from the way that a human coughs and he was no longer sure\\nhe could judge this for himself.  Meanwhile, it had become very\\nquiet in the next room.  Perhaps his parents were sat at the table\\nwhispering with the chief clerk, or perhaps they were all pressed\\nagainst the door and listening.\\n\\nGregor slowly pushed his way over to the door with the chair.  Once\\nthere he let go of it and threw himself onto the door, holding\\nhimself upright against it using the adhesive on the tips of his\\nlegs.  He rested there a little while to recover from the effort\\ninvolved and then set himself to the task of turning the key in the\\nlock with his mouth.  He seemed, unfortunately, to have no proper\\nteeth - how was he, then, to grasp the key? - but the lack of teeth\\nwas, of course, made up for with a very strong jaw; using the jaw,\\nhe really was able to start the key turning, ignoring the fact that\\nhe must have been causing some kind of damage as a brown fluid came\\nfrom his mouth, flowed over the key and dripped onto the floor.\\n\"Listen\", said the chief clerk in the next room, \"he\\'s turning the\\nkey.\"  Gregor was greatly encouraged by this; but they all should\\nhave been calling to him, his father and his mother too: \"Well done,\\nGregor\", they should have cried, \"keep at it, keep hold of the\\nlock!\"  And with the idea that they were all excitedly following his\\nefforts, he bit on the key with all his strength, paying no\\nattention to the pain he was causing himself.  As the key turned\\nround he turned around the lock with it, only holding himself\\nupright with his mouth, and hung onto the key or pushed it down\\nagain with the whole weight of his body as needed.  The clear sound\\nof the lock as it snapped back was Gregor\\'s sign that he could break\\nhis concentration, and as he regained his breath he said to himself:\\n\"So, I didn\\'t need the locksmith after all\". Then he lay his head on\\nthe handle of the door to open it completely.\\n\\nBecause he had to open the door in this way, it was already wide\\nopen before he could be seen.  He had first to slowly turn himself\\naround one of the double doors, and he had to do it very carefully\\nif he did not want to fall flat on his back before entering the\\nroom.  He was still occupied with this difficult movement, unable to\\npay attention to anything else, when he heard the chief clerk\\nexclaim a loud \"Oh!\", which sounded like the soughing of the wind.\\nNow he also saw him - he was the nearest to the door - his hand\\npressed against his open mouth and slowly retreating as if driven by\\na steady and invisible force.  Gregor\\'s mother, her hair still\\ndishevelled from bed despite the chief clerk\\'s being there, looked\\nat his father.  Then she unfolded her arms, took two steps forward\\ntowards Gregor and sank down onto the floor into her skirts that\\nspread themselves out around her as her head disappeared down onto\\nher breast.  His father looked hostile, and clenched his fists as if\\nwanting to knock Gregor back into his room.  Then he looked\\nuncertainly round the living room, covered his eyes with his hands\\nand wept so that his powerful chest shook.\\n\\nSo Gregor did not go into the room, but leant against the inside of\\nthe other door which was still held bolted in place.  In this way\\nonly half of his body could be seen, along with his head above it\\nwhich he leant over to one side as he peered out at the others.\\nMeanwhile the day had become much lighter; part of the endless,\\ngrey-black building on the other side of the street - which was a\\nhospital - could be seen quite clearly with the austere and regular\\nline of windows piercing its facade; the rain was still\\nfalling, now throwing down large, individual droplets which hit the\\nground one at a time.  The washing up from breakfast lay on the\\ntable; there was so much of it because, for Gregor\\'s father,\\nbreakfast was the most important meal of the day and he would\\nstretch it out for several hours as he sat reading a number of\\ndifferent newspapers.  On the wall exactly opposite there was\\nphotograph of Gregor when he was a lieutenant in the army, his sword\\nin his hand and a carefree smile on his face as he called forth\\nrespect for his uniform and bearing.  The door to the entrance hall\\nwas open and as the front door of the flat was also open he could\\nsee onto the landing and the stairs where they began their way down\\nbelow.\\n\\n\"Now, then\", said Gregor, well aware that he was the only one to\\nhave kept calm, \"I\\'ll get dressed straight away now, pack up my\\nsamples and set off.  Will you please just let me leave? You can\\nsee\", he said to the chief clerk, \"that I\\'m not stubborn and I\\nlike to do my job; being a commercial traveller is arduous but\\nwithout travelling I couldn\\'t earn my living.  So where are you\\ngoing, in to the office? Yes? Will you report everything accurately,\\nthen? It\\'s quite possible for someone to be temporarily unable to\\nwork, but that\\'s just the right time to remember what\\'s been\\nachieved in the past and consider that later on, once the difficulty\\nhas been removed, he will certainly work with all the more diligence\\nand concentration.  You\\'re well aware that I\\'m seriously in debt to\\nour employer as well as having to look after my parents and my\\nsister, so that I\\'m trapped in a difficult situation, but I will\\nwork my way out of it again.  Please don\\'t make things any harder\\nfor me than they are already, and don\\'t take sides against me at the\\noffice.  I know that nobody likes the travellers.  They think we\\nearn an enormous wage as well as having a soft time of it.  That\\'s\\njust prejudice but they have no particular reason to think better of\\nit.  But you, sir, you have a better overview than the rest of the\\nstaff, in fact, if I can say this in confidence, a better overview\\nthan the boss himself - it\\'s very easy for a businessman like him to\\nmake mistakes about his employees and judge them more harshly than\\nhe should.  And you\\'re also well aware that we travellers spend\\nalmost the whole year away from the office, so that we can very\\neasily fall victim to gossip and chance and groundless complaints,\\nand it\\'s almost impossible to defend yourself from that sort of\\nthing, we don\\'t usually even hear about them, or if at all it\\'s when\\nwe arrive back home exhausted from a trip, and that\\'s when we feel\\nthe harmful effects of what\\'s been going on without even knowing\\nwhat caused them.  Please, don\\'t go away, at least first say\\nsomething to show that you grant that I\\'m at least partly right!\"\\n\\nBut the chief clerk had turned away as soon as Gregor had started to\\nspeak, and, with protruding lips, only stared back at him over his\\ntrembling shoulders as he left.  He did not keep still for a moment\\nwhile Gregor was speaking, but moved steadily towards the door\\nwithout taking his eyes off him.  He moved very gradually, as if\\nthere had been some secret prohibition on leaving the room.  It was\\nonly when he had reached the entrance hall that he made a sudden\\nmovement, drew his foot from the living room, and rushed forward in\\na panic.  In the hall, he stretched his right hand far out towards\\nthe stairway as if out there, there were some supernatural force\\nwaiting to save him.\\n\\nGregor realised that it was out of the question to let the chief\\nclerk go away in this mood if his position in the firm was not to be\\nput into extreme danger.  That was something his parents did not\\nunderstand very well; over the years, they had become convinced that\\nthis job would provide for Gregor for his entire life, and besides,\\nthey had so much to worry about at present that they had lost sight\\nof any thought for the future.  Gregor, though, did think about the\\nfuture.  The chief clerk had to be held back, calmed down, convinced\\nand finally won over; the future of Gregor and his family depended\\non it! If only his sister were here! She was clever; she was already\\nin tears while Gregor was still lying peacefully on his back.  And\\nthe chief clerk was a lover of women, surely she could persuade him;\\nshe would close the front door in the entrance hall and talk him out\\nof his shocked state.  But his sister was not there, Gregor would\\nhave to do the job himself.  And without considering that he still\\nwas not familiar with how well he could move about in his present\\nstate, or that his speech still might not - or probably would not -\\nbe understood, he let go of the door; pushed himself through the\\nopening; tried to reach the chief clerk on the landing who,\\nridiculously, was holding on to the banister with both hands; but\\nGregor fell immediately over and, with a little scream as he sought\\nsomething to hold onto, landed on his numerous little legs.  Hardly\\nhad that happened than, for the first time that day, he began to\\nfeel alright with his body; the little legs had the solid ground\\nunder them; to his pleasure, they did exactly as he told them; they\\nwere even making the effort to carry him where he wanted to go; and\\nhe was soon believing that all his sorrows would soon be finally at\\nan end.  He held back the urge to move but swayed from side to side\\nas he crouched there on the floor.  His mother was not far away in\\nfront of him and seemed, at first, quite engrossed in herself, but\\nthen she suddenly jumped up with her arms outstretched and her\\nfingers spread shouting: \"Help, for pity\\'s sake, Help!\"  The way she\\nheld her head suggested she wanted to see Gregor better, but the\\nunthinking way she was hurrying backwards showed that she did not;\\nshe had forgotten that the table was behind her with all the\\nbreakfast things on it; when she reached the table she sat quickly\\ndown on it without knowing what she was doing; without even seeming\\nto notice that the coffee pot had been knocked over and a gush of\\ncoffee was pouring down onto the carpet.\\n\\n\"Mother, mother\", said Gregor gently, looking up at her.  He had\\ncompletely forgotten the chief clerk for the moment, but could not\\nhelp himself snapping in the air with his jaws at the sight of the\\nflow of coffee.  That set his mother screaming anew, she fled from\\nthe table and into the arms of his father as he rushed towards her.\\nGregor, though, had no time to spare for his parents now; the chief\\nclerk had already reached the stairs; with his chin on the banister,\\nhe looked back for the last time.  Gregor made a run for him; he\\nwanted to be sure of reaching him; the chief clerk must have\\nexpected something, as he leapt down several steps at once and\\ndisappeared; his shouts resounding all around the staircase.  The\\nflight of the chief clerk seemed, unfortunately, to put Gregor\\'s\\nfather into a panic as well.  Until then he had been relatively self\\ncontrolled, but now, instead of running after the chief clerk\\nhimself, or at least not impeding Gregor as he ran after him,\\nGregor\\'s father seized the chief clerk\\'s stick in his right hand\\n(the chief clerk had left it behind on a chair, along with his hat\\nand overcoat), picked up a large newspaper from the table with his\\nleft, and used them to drive Gregor back into his room, stamping his\\nfoot at him as he went.  Gregor\\'s appeals to his father were of no\\nhelp, his appeals were simply not understood, however much he humbly\\nturned his head his father merely stamped his foot all the harder.\\nAcross the room, despite the chilly weather, Gregor\\'s mother had\\npulled open a window, leant far out of it and pressed her hands to\\nher face.  A strong draught of air flew in from the street towards\\nthe stairway, the curtains flew up, the newspapers on the table\\nfluttered and some of them were blown onto the floor.  Nothing would\\nstop Gregor\\'s father as he drove him back, making hissing noises at\\nhim like a wild man.  Gregor had never had any practice in moving\\nbackwards and was only able to go very slowly.  If Gregor had only\\nbeen allowed to turn round he would have been back in his room\\nstraight away, but he was afraid that if he took the time to do that\\nhis father would become impatient, and there was the threat of a\\nlethal blow to his back or head from the stick in his father\\'s hand\\nany moment.  Eventually, though, Gregor realised that he had no\\nchoice as he saw, to his disgust, that he was quite incapable of\\ngoing backwards in a straight line; so he began, as quickly as\\npossible and with frequent anxious glances at his father, to turn\\nhimself round.  It went very slowly, but perhaps his father was able\\nto see his good intentions as he did nothing to hinder him, in fact\\nnow and then he used the tip of his stick to give directions from a\\ndistance as to which way to turn.  If only his father would stop\\nthat unbearable hissing! It was making Gregor quite confused.  When\\nhe had nearly finished turning round, still listening to that\\nhissing, he made a mistake and turned himself back a little the way\\nhe had just come.  He was pleased when he finally had his head in\\nfront of the doorway, but then saw that it was too narrow, and his\\nbody was too broad to get through it without further difficulty.  In\\nhis present mood, it obviously did not occur to his father to open\\nthe other of the double doors so that Gregor would have enough space\\nto get through.  He was merely fixed on the idea that Gregor should\\nbe got back into his room as quickly as possible.  Nor would he ever\\nhave allowed Gregor the time to get himself upright as preparation\\nfor getting through the doorway.  What he did, making more noise\\nthan ever, was to drive Gregor forwards all the harder as if there\\nhad been nothing in the way; it sounded to Gregor as if there was\\nnow more than one father behind him; it was not a pleasant\\nexperience, and Gregor pushed himself into the doorway without\\nregard for what might happen.  One side of his body lifted itself,\\nhe lay at an angle in the doorway, one flank scraped on the white\\ndoor and was painfully injured, leaving vile brown flecks on it,\\nsoon he was stuck fast and would not have been able to move at all\\nby himself, the little legs along one side hung quivering in the air\\nwhile those on the other side were pressed painfully against the\\nground.  Then his father gave him a hefty shove from behind which\\nreleased him from where he was held and sent him flying, and heavily\\nbleeding, deep into his room.  The door was slammed shut with the\\nstick, then, finally, all was quiet.'"
      ]
     },
     "execution_count": 69,
     "metadata": {},
     "output_type": "execute_result"
    }
   ],
   "source": [
    "text"
   ]
  },
  {
   "cell_type": "code",
   "execution_count": 70,
   "metadata": {},
   "outputs": [
    {
     "name": "stdout",
     "output_type": "stream",
     "text": [
      "['One', 'morning,', 'when', 'Gregor', 'Samsa', 'woke', 'from', 'troubled', 'dreams,', 'he', 'found', 'himself', 'transformed', 'in', 'his', 'bed', 'into', 'a', 'horrible', 'vermin.', 'He', 'lay', 'on', 'his', 'armour-like', 'back,', 'and', 'if', 'he', 'lifted', 'his', 'head', 'a', 'little', 'he', 'could', 'see', 'his', 'brown', 'belly,', 'slightly', 'domed', 'and', 'divided', 'by', 'arches', 'into', 'stiff', 'sections.', 'The', 'bedding', 'was', 'hardly', 'able', 'to', 'cover', 'it', 'and', 'seemed', 'ready', 'to', 'slide', 'off', 'any', 'moment.', 'His', 'many', 'legs,', 'pitifully', 'thin', 'compared', 'with', 'the', 'size', 'of', 'the', 'rest', 'of', 'him,', 'waved', 'about', 'helplessly', 'as', 'he', 'looked.', '\"What\\'s', 'happened', 'to', 'me?\"', 'he', 'thought.', 'It', \"wasn't\", 'a', 'dream.', 'His', 'room,', 'a', 'proper', 'human']\n"
     ]
    }
   ],
   "source": [
    "words = text.split()\n",
    "print(words[:100])"
   ]
  },
  {
   "attachments": {},
   "cell_type": "markdown",
   "metadata": {},
   "source": [
    "### (a) Select strings of alphanumeric characters (a-z, A-Z, 0-9, and '_')"
   ]
  },
  {
   "cell_type": "code",
   "execution_count": 71,
   "metadata": {},
   "outputs": [
    {
     "name": "stdout",
     "output_type": "stream",
     "text": [
      "['One', 'morning', 'when', 'Gregor', 'Samsa', 'woke', 'from', 'troubled', 'dreams', 'he', 'found', 'himself', 'transformed', 'in', 'his', 'bed', 'into', 'a', 'horrible', 'vermin', 'He', 'lay', 'on', 'his', 'armour', 'like', 'back', 'and', 'if', 'he', 'lifted', 'his', 'head', 'a', 'little', 'he', 'could', 'see', 'his', 'brown', 'belly', 'slightly', 'domed', 'and', 'divided', 'by', 'arches', 'into', 'stiff', 'sections', 'The', 'bedding', 'was', 'hardly', 'able', 'to', 'cover', 'it', 'and', 'seemed', 'ready', 'to', 'slide', 'off', 'any', 'moment', 'His', 'many', 'legs', 'pitifully', 'thin', 'compared', 'with', 'the', 'size', 'of', 'the', 'rest', 'of', 'him', 'waved', 'about', 'helplessly', 'as', 'he', 'looked', 'What', 's', 'happened', 'to', 'me', 'he', 'thought', 'It', 'wasn', 't', 'a', 'dream', 'His', 'room']\n"
     ]
    }
   ],
   "source": [
    "import re\n",
    "words = re.split(r'\\W+', text)\n",
    "print(words[:100])"
   ]
  },
  {
   "attachments": {},
   "cell_type": "markdown",
   "metadata": {},
   "source": [
    "### (b) Remove Punctuation"
   ]
  },
  {
   "cell_type": "code",
   "execution_count": 72,
   "metadata": {},
   "outputs": [
    {
     "name": "stdout",
     "output_type": "stream",
     "text": [
      "!\"#$%&'()*+,-./:;<=>?@[\\]^_`{|}~\n"
     ]
    }
   ],
   "source": [
    "import string\n",
    "print(string.punctuation)"
   ]
  },
  {
   "cell_type": "code",
   "execution_count": 73,
   "metadata": {},
   "outputs": [],
   "source": [
    "re_punc = re.compile('[%s]' % re.escape(string.punctuation))"
   ]
  },
  {
   "cell_type": "code",
   "execution_count": 74,
   "metadata": {},
   "outputs": [
    {
     "name": "stdout",
     "output_type": "stream",
     "text": [
      "['One', 'morning', 'when', 'Gregor', 'Samsa', 'woke', 'from', 'troubled', 'dreams', 'he', 'found', 'himself', 'transformed', 'in', 'his', 'bed', 'into', 'a', 'horrible', 'vermin', 'He', 'lay', 'on', 'his', 'armour', 'like', 'back', 'and', 'if', 'he', 'lifted', 'his', 'head', 'a', 'little', 'he', 'could', 'see', 'his', 'brown', 'belly', 'slightly', 'domed', 'and', 'divided', 'by', 'arches', 'into', 'stiff', 'sections', 'The', 'bedding', 'was', 'hardly', 'able', 'to', 'cover', 'it', 'and', 'seemed', 'ready', 'to', 'slide', 'off', 'any', 'moment', 'His', 'many', 'legs', 'pitifully', 'thin', 'compared', 'with', 'the', 'size', 'of', 'the', 'rest', 'of', 'him', 'waved', 'about', 'helplessly', 'as', 'he', 'looked', 'What', 's', 'happened', 'to', 'me', 'he', 'thought', 'It', 'wasn', 't', 'a', 'dream', 'His', 'room']\n"
     ]
    }
   ],
   "source": [
    "stripped = [re_punc.sub('', w) for w in words]\n",
    "print(stripped[:100])"
   ]
  },
  {
   "attachments": {},
   "cell_type": "markdown",
   "metadata": {},
   "source": [
    "### (c) Case folding"
   ]
  },
  {
   "cell_type": "code",
   "execution_count": 75,
   "metadata": {},
   "outputs": [
    {
     "name": "stdout",
     "output_type": "stream",
     "text": [
      "['one', 'morning,', 'when', 'gregor', 'samsa', 'woke', 'from', 'troubled', 'dreams,', 'he', 'found', 'himself', 'transformed', 'in', 'his', 'bed', 'into', 'a', 'horrible', 'vermin.', 'he', 'lay', 'on', 'his', 'armour-like', 'back,', 'and', 'if', 'he', 'lifted', 'his', 'head', 'a', 'little', 'he', 'could', 'see', 'his', 'brown', 'belly,', 'slightly', 'domed', 'and', 'divided', 'by', 'arches', 'into', 'stiff', 'sections.', 'the', 'bedding', 'was', 'hardly', 'able', 'to', 'cover', 'it', 'and', 'seemed', 'ready', 'to', 'slide', 'off', 'any', 'moment.', 'his', 'many', 'legs,', 'pitifully', 'thin', 'compared', 'with', 'the', 'size', 'of', 'the', 'rest', 'of', 'him,', 'waved', 'about', 'helplessly', 'as', 'he', 'looked.', '\"what\\'s', 'happened', 'to', 'me?\"', 'he', 'thought.', 'it', \"wasn't\", 'a', 'dream.', 'his', 'room,', 'a', 'proper', 'human']\n"
     ]
    }
   ],
   "source": [
    "words = text.split()\n",
    "words = [word.lower() for word in words]\n",
    "print(words[:100])"
   ]
  },
  {
   "cell_type": "code",
   "execution_count": null,
   "metadata": {},
   "outputs": [],
   "source": []
  }
 ],
 "metadata": {
  "kernelspec": {
   "display_name": "tensorflow_env",
   "language": "python",
   "name": "python3"
  },
  "language_info": {
   "codemirror_mode": {
    "name": "ipython",
    "version": 3
   },
   "file_extension": ".py",
   "mimetype": "text/x-python",
   "name": "python",
   "nbconvert_exporter": "python",
   "pygments_lexer": "ipython3",
   "version": "3.9.16"
  },
  "orig_nbformat": 4
 },
 "nbformat": 4,
 "nbformat_minor": 2
}
