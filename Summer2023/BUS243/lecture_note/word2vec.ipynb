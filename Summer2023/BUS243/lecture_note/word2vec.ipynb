{
 "cells": [
  {
   "cell_type": "markdown",
   "metadata": {},
   "source": [
    "# Word2Vec (gensim approach)"
   ]
  },
  {
   "cell_type": "code",
   "execution_count": 2,
   "metadata": {},
   "outputs": [],
   "source": [
    "import pandas as pd\n",
    "import matplotlib.pyplot as plt "
   ]
  },
  {
   "cell_type": "code",
   "execution_count": 6,
   "metadata": {},
   "outputs": [],
   "source": [
    "#df = pd.read_csv('/Users/yeabinmoon/Documents/ibs_course/Summer2023/BUS243/PS/PS3/sample.csv',index_col=0)\n",
    "df = pd.read_csv('/Users/yeabinmoon/Downloads/yelp_dataset/clean_df.csv',index_col = 0)"
   ]
  },
  {
   "cell_type": "code",
   "execution_count": 7,
   "metadata": {},
   "outputs": [
    {
     "data": {
      "text/plain": [
       "50000"
      ]
     },
     "execution_count": 7,
     "metadata": {},
     "output_type": "execute_result"
    }
   ],
   "source": [
    "len(df)"
   ]
  },
  {
   "cell_type": "code",
   "execution_count": 8,
   "metadata": {},
   "outputs": [
    {
     "data": {
      "text/html": [
       "<div>\n",
       "<style scoped>\n",
       "    .dataframe tbody tr th:only-of-type {\n",
       "        vertical-align: middle;\n",
       "    }\n",
       "\n",
       "    .dataframe tbody tr th {\n",
       "        vertical-align: top;\n",
       "    }\n",
       "\n",
       "    .dataframe thead th {\n",
       "        text-align: right;\n",
       "    }\n",
       "</style>\n",
       "<table border=\"1\" class=\"dataframe\">\n",
       "  <thead>\n",
       "    <tr style=\"text-align: right;\">\n",
       "      <th></th>\n",
       "      <th>stars</th>\n",
       "      <th>text</th>\n",
       "      <th>date</th>\n",
       "    </tr>\n",
       "  </thead>\n",
       "  <tbody>\n",
       "    <tr>\n",
       "      <th>2293480</th>\n",
       "      <td>2.0</td>\n",
       "      <td>Our friends had a giftcard for this place and ...</td>\n",
       "      <td>2013-05-06 14:00:36</td>\n",
       "    </tr>\n",
       "    <tr>\n",
       "      <th>1096352</th>\n",
       "      <td>1.0</td>\n",
       "      <td>Would give 0 stars if possible. I hope this co...</td>\n",
       "      <td>2019-06-05 02:21:47</td>\n",
       "    </tr>\n",
       "    <tr>\n",
       "      <th>3126519</th>\n",
       "      <td>2.0</td>\n",
       "      <td>We tried this out today and it just doesn't fe...</td>\n",
       "      <td>2018-10-21 22:18:45</td>\n",
       "    </tr>\n",
       "    <tr>\n",
       "      <th>2222546</th>\n",
       "      <td>2.0</td>\n",
       "      <td>Nice looking facility, but has the most uncomf...</td>\n",
       "      <td>2017-10-16 05:41:02</td>\n",
       "    </tr>\n",
       "    <tr>\n",
       "      <th>6932038</th>\n",
       "      <td>1.0</td>\n",
       "      <td>A crazy lady starts screaming at me in the che...</td>\n",
       "      <td>2021-11-05 14:29:38</td>\n",
       "    </tr>\n",
       "  </tbody>\n",
       "</table>\n",
       "</div>"
      ],
      "text/plain": [
       "         stars                                               text  \\\n",
       "2293480    2.0  Our friends had a giftcard for this place and ...   \n",
       "1096352    1.0  Would give 0 stars if possible. I hope this co...   \n",
       "3126519    2.0  We tried this out today and it just doesn't fe...   \n",
       "2222546    2.0  Nice looking facility, but has the most uncomf...   \n",
       "6932038    1.0  A crazy lady starts screaming at me in the che...   \n",
       "\n",
       "                        date  \n",
       "2293480  2013-05-06 14:00:36  \n",
       "1096352  2019-06-05 02:21:47  \n",
       "3126519  2018-10-21 22:18:45  \n",
       "2222546  2017-10-16 05:41:02  \n",
       "6932038  2021-11-05 14:29:38  "
      ]
     },
     "execution_count": 8,
     "metadata": {},
     "output_type": "execute_result"
    }
   ],
   "source": [
    "df.head()"
   ]
  },
  {
   "cell_type": "code",
   "execution_count": 9,
   "metadata": {},
   "outputs": [],
   "source": [
    "df = df[['stars','text']]"
   ]
  },
  {
   "cell_type": "code",
   "execution_count": 10,
   "metadata": {},
   "outputs": [
    {
     "name": "stdout",
     "output_type": "stream",
     "text": [
      "Restaurant good service!!\n",
      "I like food!!\n",
      "This product good!!\n"
     ]
    }
   ],
   "source": [
    "from gensim.parsing.preprocessing import remove_stopwords\n",
    "print(remove_stopwords(\"Restaurant had a really good service!!\"))\n",
    "print(remove_stopwords(\"I did not like the food!!\"))\n",
    "print(remove_stopwords(\"This product is not good!!\"))"
   ]
  },
  {
   "cell_type": "code",
   "execution_count": 11,
   "metadata": {},
   "outputs": [],
   "source": [
    "from gensim.utils import simple_preprocess"
   ]
  },
  {
   "cell_type": "code",
   "execution_count": 12,
   "metadata": {},
   "outputs": [],
   "source": [
    "df['tokenized_text'] = [simple_preprocess(line, deacc=True) for line in df['text']] "
   ]
  },
  {
   "cell_type": "code",
   "execution_count": 13,
   "metadata": {},
   "outputs": [
    {
     "data": {
      "text/html": [
       "<div>\n",
       "<style scoped>\n",
       "    .dataframe tbody tr th:only-of-type {\n",
       "        vertical-align: middle;\n",
       "    }\n",
       "\n",
       "    .dataframe tbody tr th {\n",
       "        vertical-align: top;\n",
       "    }\n",
       "\n",
       "    .dataframe thead th {\n",
       "        text-align: right;\n",
       "    }\n",
       "</style>\n",
       "<table border=\"1\" class=\"dataframe\">\n",
       "  <thead>\n",
       "    <tr style=\"text-align: right;\">\n",
       "      <th></th>\n",
       "      <th>stars</th>\n",
       "      <th>text</th>\n",
       "      <th>tokenized_text</th>\n",
       "    </tr>\n",
       "  </thead>\n",
       "  <tbody>\n",
       "    <tr>\n",
       "      <th>2293480</th>\n",
       "      <td>2.0</td>\n",
       "      <td>Our friends had a giftcard for this place and ...</td>\n",
       "      <td>[our, friends, had, giftcard, for, this, place...</td>\n",
       "    </tr>\n",
       "    <tr>\n",
       "      <th>1096352</th>\n",
       "      <td>1.0</td>\n",
       "      <td>Would give 0 stars if possible. I hope this co...</td>\n",
       "      <td>[would, give, stars, if, possible, hope, this,...</td>\n",
       "    </tr>\n",
       "    <tr>\n",
       "      <th>3126519</th>\n",
       "      <td>2.0</td>\n",
       "      <td>We tried this out today and it just doesn't fe...</td>\n",
       "      <td>[we, tried, this, out, today, and, it, just, d...</td>\n",
       "    </tr>\n",
       "    <tr>\n",
       "      <th>2222546</th>\n",
       "      <td>2.0</td>\n",
       "      <td>Nice looking facility, but has the most uncomf...</td>\n",
       "      <td>[nice, looking, facility, but, has, the, most,...</td>\n",
       "    </tr>\n",
       "    <tr>\n",
       "      <th>6932038</th>\n",
       "      <td>1.0</td>\n",
       "      <td>A crazy lady starts screaming at me in the che...</td>\n",
       "      <td>[crazy, lady, starts, screaming, at, me, in, t...</td>\n",
       "    </tr>\n",
       "    <tr>\n",
       "      <th>...</th>\n",
       "      <td>...</td>\n",
       "      <td>...</td>\n",
       "      <td>...</td>\n",
       "    </tr>\n",
       "    <tr>\n",
       "      <th>6287319</th>\n",
       "      <td>5.0</td>\n",
       "      <td>Always delicious for a pastry or a quick bite....</td>\n",
       "      <td>[always, delicious, for, pastry, or, quick, bi...</td>\n",
       "    </tr>\n",
       "    <tr>\n",
       "      <th>4825638</th>\n",
       "      <td>5.0</td>\n",
       "      <td>If there is a more perfect union of healthy an...</td>\n",
       "      <td>[if, there, is, more, perfect, union, of, heal...</td>\n",
       "    </tr>\n",
       "    <tr>\n",
       "      <th>4625344</th>\n",
       "      <td>2.0</td>\n",
       "      <td>I made a first-time appointment to get my eyeb...</td>\n",
       "      <td>[made, first, time, appointment, to, get, my, ...</td>\n",
       "    </tr>\n",
       "    <tr>\n",
       "      <th>3135717</th>\n",
       "      <td>3.0</td>\n",
       "      <td>Only dropped in to have a coffee and its defin...</td>\n",
       "      <td>[only, dropped, in, to, have, coffee, and, its...</td>\n",
       "    </tr>\n",
       "    <tr>\n",
       "      <th>6750258</th>\n",
       "      <td>5.0</td>\n",
       "      <td>This place was so amazing! Me and my bf stoppe...</td>\n",
       "      <td>[this, place, was, so, amazing, me, and, my, b...</td>\n",
       "    </tr>\n",
       "  </tbody>\n",
       "</table>\n",
       "<p>50000 rows × 3 columns</p>\n",
       "</div>"
      ],
      "text/plain": [
       "         stars                                               text  \\\n",
       "2293480    2.0  Our friends had a giftcard for this place and ...   \n",
       "1096352    1.0  Would give 0 stars if possible. I hope this co...   \n",
       "3126519    2.0  We tried this out today and it just doesn't fe...   \n",
       "2222546    2.0  Nice looking facility, but has the most uncomf...   \n",
       "6932038    1.0  A crazy lady starts screaming at me in the che...   \n",
       "...        ...                                                ...   \n",
       "6287319    5.0  Always delicious for a pastry or a quick bite....   \n",
       "4825638    5.0  If there is a more perfect union of healthy an...   \n",
       "4625344    2.0  I made a first-time appointment to get my eyeb...   \n",
       "3135717    3.0  Only dropped in to have a coffee and its defin...   \n",
       "6750258    5.0  This place was so amazing! Me and my bf stoppe...   \n",
       "\n",
       "                                            tokenized_text  \n",
       "2293480  [our, friends, had, giftcard, for, this, place...  \n",
       "1096352  [would, give, stars, if, possible, hope, this,...  \n",
       "3126519  [we, tried, this, out, today, and, it, just, d...  \n",
       "2222546  [nice, looking, facility, but, has, the, most,...  \n",
       "6932038  [crazy, lady, starts, screaming, at, me, in, t...  \n",
       "...                                                    ...  \n",
       "6287319  [always, delicious, for, pastry, or, quick, bi...  \n",
       "4825638  [if, there, is, more, perfect, union, of, heal...  \n",
       "4625344  [made, first, time, appointment, to, get, my, ...  \n",
       "3135717  [only, dropped, in, to, have, coffee, and, its...  \n",
       "6750258  [this, place, was, so, amazing, me, and, my, b...  \n",
       "\n",
       "[50000 rows x 3 columns]"
      ]
     },
     "execution_count": 13,
     "metadata": {},
     "output_type": "execute_result"
    }
   ],
   "source": [
    "df"
   ]
  },
  {
   "cell_type": "code",
   "execution_count": 14,
   "metadata": {},
   "outputs": [],
   "source": [
    "from gensim.parsing.porter import PorterStemmer\n",
    "porter_stemmer = PorterStemmer()"
   ]
  },
  {
   "cell_type": "code",
   "execution_count": 15,
   "metadata": {},
   "outputs": [
    {
     "data": {
      "text/html": [
       "<div>\n",
       "<style scoped>\n",
       "    .dataframe tbody tr th:only-of-type {\n",
       "        vertical-align: middle;\n",
       "    }\n",
       "\n",
       "    .dataframe tbody tr th {\n",
       "        vertical-align: top;\n",
       "    }\n",
       "\n",
       "    .dataframe thead th {\n",
       "        text-align: right;\n",
       "    }\n",
       "</style>\n",
       "<table border=\"1\" class=\"dataframe\">\n",
       "  <thead>\n",
       "    <tr style=\"text-align: right;\">\n",
       "      <th></th>\n",
       "      <th>stars</th>\n",
       "      <th>text</th>\n",
       "      <th>tokenized_text</th>\n",
       "      <th>stemmed_tokens</th>\n",
       "    </tr>\n",
       "  </thead>\n",
       "  <tbody>\n",
       "    <tr>\n",
       "      <th>2293480</th>\n",
       "      <td>2.0</td>\n",
       "      <td>Our friends had a giftcard for this place and ...</td>\n",
       "      <td>[our, friends, had, giftcard, for, this, place...</td>\n",
       "      <td>[our, friend, had, giftcard, for, thi, place, ...</td>\n",
       "    </tr>\n",
       "    <tr>\n",
       "      <th>1096352</th>\n",
       "      <td>1.0</td>\n",
       "      <td>Would give 0 stars if possible. I hope this co...</td>\n",
       "      <td>[would, give, stars, if, possible, hope, this,...</td>\n",
       "      <td>[would, give, star, if, possibl, hope, thi, co...</td>\n",
       "    </tr>\n",
       "    <tr>\n",
       "      <th>3126519</th>\n",
       "      <td>2.0</td>\n",
       "      <td>We tried this out today and it just doesn't fe...</td>\n",
       "      <td>[we, tried, this, out, today, and, it, just, d...</td>\n",
       "      <td>[we, tri, thi, out, todai, and, it, just, does...</td>\n",
       "    </tr>\n",
       "    <tr>\n",
       "      <th>2222546</th>\n",
       "      <td>2.0</td>\n",
       "      <td>Nice looking facility, but has the most uncomf...</td>\n",
       "      <td>[nice, looking, facility, but, has, the, most,...</td>\n",
       "      <td>[nice, look, facil, but, ha, the, most, uncomf...</td>\n",
       "    </tr>\n",
       "    <tr>\n",
       "      <th>6932038</th>\n",
       "      <td>1.0</td>\n",
       "      <td>A crazy lady starts screaming at me in the che...</td>\n",
       "      <td>[crazy, lady, starts, screaming, at, me, in, t...</td>\n",
       "      <td>[crazi, ladi, start, scream, at, me, in, the, ...</td>\n",
       "    </tr>\n",
       "    <tr>\n",
       "      <th>...</th>\n",
       "      <td>...</td>\n",
       "      <td>...</td>\n",
       "      <td>...</td>\n",
       "      <td>...</td>\n",
       "    </tr>\n",
       "    <tr>\n",
       "      <th>6287319</th>\n",
       "      <td>5.0</td>\n",
       "      <td>Always delicious for a pastry or a quick bite....</td>\n",
       "      <td>[always, delicious, for, pastry, or, quick, bi...</td>\n",
       "      <td>[alwai, delici, for, pastri, or, quick, bite, ...</td>\n",
       "    </tr>\n",
       "    <tr>\n",
       "      <th>4825638</th>\n",
       "      <td>5.0</td>\n",
       "      <td>If there is a more perfect union of healthy an...</td>\n",
       "      <td>[if, there, is, more, perfect, union, of, heal...</td>\n",
       "      <td>[if, there, is, more, perfect, union, of, heal...</td>\n",
       "    </tr>\n",
       "    <tr>\n",
       "      <th>4625344</th>\n",
       "      <td>2.0</td>\n",
       "      <td>I made a first-time appointment to get my eyeb...</td>\n",
       "      <td>[made, first, time, appointment, to, get, my, ...</td>\n",
       "      <td>[made, first, time, appoint, to, get, my, eyeb...</td>\n",
       "    </tr>\n",
       "    <tr>\n",
       "      <th>3135717</th>\n",
       "      <td>3.0</td>\n",
       "      <td>Only dropped in to have a coffee and its defin...</td>\n",
       "      <td>[only, dropped, in, to, have, coffee, and, its...</td>\n",
       "      <td>[onli, drop, in, to, have, coffe, and, it, def...</td>\n",
       "    </tr>\n",
       "    <tr>\n",
       "      <th>6750258</th>\n",
       "      <td>5.0</td>\n",
       "      <td>This place was so amazing! Me and my bf stoppe...</td>\n",
       "      <td>[this, place, was, so, amazing, me, and, my, b...</td>\n",
       "      <td>[thi, place, wa, so, amaz, me, and, my, bf, st...</td>\n",
       "    </tr>\n",
       "  </tbody>\n",
       "</table>\n",
       "<p>50000 rows × 4 columns</p>\n",
       "</div>"
      ],
      "text/plain": [
       "         stars                                               text  \\\n",
       "2293480    2.0  Our friends had a giftcard for this place and ...   \n",
       "1096352    1.0  Would give 0 stars if possible. I hope this co...   \n",
       "3126519    2.0  We tried this out today and it just doesn't fe...   \n",
       "2222546    2.0  Nice looking facility, but has the most uncomf...   \n",
       "6932038    1.0  A crazy lady starts screaming at me in the che...   \n",
       "...        ...                                                ...   \n",
       "6287319    5.0  Always delicious for a pastry or a quick bite....   \n",
       "4825638    5.0  If there is a more perfect union of healthy an...   \n",
       "4625344    2.0  I made a first-time appointment to get my eyeb...   \n",
       "3135717    3.0  Only dropped in to have a coffee and its defin...   \n",
       "6750258    5.0  This place was so amazing! Me and my bf stoppe...   \n",
       "\n",
       "                                            tokenized_text  \\\n",
       "2293480  [our, friends, had, giftcard, for, this, place...   \n",
       "1096352  [would, give, stars, if, possible, hope, this,...   \n",
       "3126519  [we, tried, this, out, today, and, it, just, d...   \n",
       "2222546  [nice, looking, facility, but, has, the, most,...   \n",
       "6932038  [crazy, lady, starts, screaming, at, me, in, t...   \n",
       "...                                                    ...   \n",
       "6287319  [always, delicious, for, pastry, or, quick, bi...   \n",
       "4825638  [if, there, is, more, perfect, union, of, heal...   \n",
       "4625344  [made, first, time, appointment, to, get, my, ...   \n",
       "3135717  [only, dropped, in, to, have, coffee, and, its...   \n",
       "6750258  [this, place, was, so, amazing, me, and, my, b...   \n",
       "\n",
       "                                            stemmed_tokens  \n",
       "2293480  [our, friend, had, giftcard, for, thi, place, ...  \n",
       "1096352  [would, give, star, if, possibl, hope, thi, co...  \n",
       "3126519  [we, tri, thi, out, todai, and, it, just, does...  \n",
       "2222546  [nice, look, facil, but, ha, the, most, uncomf...  \n",
       "6932038  [crazi, ladi, start, scream, at, me, in, the, ...  \n",
       "...                                                    ...  \n",
       "6287319  [alwai, delici, for, pastri, or, quick, bite, ...  \n",
       "4825638  [if, there, is, more, perfect, union, of, heal...  \n",
       "4625344  [made, first, time, appoint, to, get, my, eyeb...  \n",
       "3135717  [onli, drop, in, to, have, coffe, and, it, def...  \n",
       "6750258  [thi, place, wa, so, amaz, me, and, my, bf, st...  \n",
       "\n",
       "[50000 rows x 4 columns]"
      ]
     },
     "execution_count": 15,
     "metadata": {},
     "output_type": "execute_result"
    }
   ],
   "source": [
    "df['stemmed_tokens'] = [[porter_stemmer.stem(word) for word in tokens] for tokens in df['tokenized_text'] ]\n",
    "df"
   ]
  },
  {
   "cell_type": "code",
   "execution_count": 17,
   "metadata": {},
   "outputs": [],
   "source": [
    "from gensim.models.word2vec import Word2Vec"
   ]
  },
  {
   "cell_type": "code",
   "execution_count": 18,
   "metadata": {},
   "outputs": [],
   "source": [
    "model = Word2Vec(df.stemmed_tokens, \n",
    "                    vector_size=150, \n",
    "                    min_count=2,\n",
    "                    window=5,\n",
    "                    sg=1\n",
    "                 )"
   ]
  },
  {
   "cell_type": "code",
   "execution_count": 20,
   "metadata": {},
   "outputs": [],
   "source": [
    "model.save('/Users/yeabinmoon/Downloads/yelp_dataset/sample_embedding')"
   ]
  },
  {
   "cell_type": "code",
   "execution_count": 40,
   "metadata": {},
   "outputs": [
    {
     "data": {
      "text/plain": [
       "[('amaz', 0.9993680715560913),\n",
       " ('delici', 0.9993669986724854),\n",
       " ('great', 0.9993337988853455),\n",
       " ('nice', 0.9993144273757935),\n",
       " ('staff', 0.9992288947105408),\n",
       " ('veri', 0.9991763830184937),\n",
       " ('friendli', 0.9990977644920349),\n",
       " ('food', 0.9990846514701843),\n",
       " ('atmospher', 0.9990285038948059),\n",
       " ('servic', 0.9990248680114746)]"
      ]
     },
     "execution_count": 40,
     "metadata": {},
     "output_type": "execute_result"
    }
   ],
   "source": [
    "#model.wv.most_similar(positive='good') when training on 1,000 obs"
   ]
  },
  {
   "cell_type": "code",
   "execution_count": 22,
   "metadata": {},
   "outputs": [
    {
     "data": {
      "text/plain": [
       "[('decent', 0.7811224460601807),\n",
       " ('tasti', 0.7593300342559814),\n",
       " ('great', 0.749081552028656),\n",
       " ('darn', 0.7132712006568909),\n",
       " ('descent', 0.7129242420196533),\n",
       " ('awsom', 0.7016945481300354),\n",
       " ('sizabl', 0.7009820342063904),\n",
       " ('passabl', 0.6965994238853455),\n",
       " ('dissapoint', 0.6942726969718933),\n",
       " ('delici', 0.6882825493812561)]"
      ]
     },
     "execution_count": 22,
     "metadata": {},
     "output_type": "execute_result"
    }
   ],
   "source": [
    "model.wv.most_similar(positive='good')"
   ]
  },
  {
   "cell_type": "code",
   "execution_count": 24,
   "metadata": {},
   "outputs": [],
   "source": [
    "model = Word2Vec.load('/Users/yeabinmoon/Downloads/yelp_dataset/sample_embedding')"
   ]
  },
  {
   "cell_type": "code",
   "execution_count": 27,
   "metadata": {},
   "outputs": [
    {
     "data": {
      "text/plain": [
       "array([ 0.08998595, -0.03156039,  0.02748781, -0.02005621,  0.01352952,\n",
       "       -0.02795971, -0.01351089, -0.02514431, -0.02348432,  0.05552455,\n",
       "        0.07693411, -0.10317016, -0.02308973,  0.12650119, -0.13279617,\n",
       "       -0.03348054,  0.07232549, -0.07259897,  0.06177057, -0.1552659 ],\n",
       "      dtype=float32)"
      ]
     },
     "execution_count": 27,
     "metadata": {},
     "output_type": "execute_result"
    }
   ],
   "source": [
    "model.wv['great'][:20]"
   ]
  },
  {
   "cell_type": "code",
   "execution_count": 28,
   "metadata": {},
   "outputs": [
    {
     "data": {
      "text/plain": [
       "150"
      ]
     },
     "execution_count": 28,
     "metadata": {},
     "output_type": "execute_result"
    }
   ],
   "source": [
    "len(model.wv['great'])"
   ]
  },
  {
   "cell_type": "code",
   "execution_count": null,
   "metadata": {},
   "outputs": [],
   "source": []
  }
 ],
 "metadata": {
  "kernelspec": {
   "display_name": "NLP",
   "language": "python",
   "name": "python3"
  },
  "language_info": {
   "codemirror_mode": {
    "name": "ipython",
    "version": 3
   },
   "file_extension": ".py",
   "mimetype": "text/x-python",
   "name": "python",
   "nbconvert_exporter": "python",
   "pygments_lexer": "ipython3",
   "version": "3.9.16"
  },
  "orig_nbformat": 4
 },
 "nbformat": 4,
 "nbformat_minor": 2
}
