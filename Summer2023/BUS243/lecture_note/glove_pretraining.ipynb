{
 "cells": [
  {
   "cell_type": "code",
   "execution_count": 1,
   "metadata": {},
   "outputs": [],
   "source": [
    "import numpy as np\n",
    "from gensim.test.utils import datapath, get_tmpfile\n",
    "from gensim.models import KeyedVectors\n",
    "from gensim.scripts.glove2word2vec import glove2word2vec"
   ]
  },
  {
   "cell_type": "markdown",
   "metadata": {},
   "source": [
    "### glove pre-trained embeddings\n",
    "http://nlp.stanford.edu/data/glove.6B.zip"
   ]
  },
  {
   "cell_type": "code",
   "execution_count": 6,
   "metadata": {},
   "outputs": [
    {
     "name": "stderr",
     "output_type": "stream",
     "text": [
      "/var/folders/cy/rqb8rw891l3dz5khs281r9t80000gn/T/ipykernel_13265/1082288680.py:3: DeprecationWarning: Call to deprecated `glove2word2vec` (KeyedVectors.load_word2vec_format(.., binary=False, no_header=True) loads GLoVE text vectors.).\n",
      "  glove2word2vec(glove_file, word2vec_glove_file)\n"
     ]
    },
    {
     "data": {
      "text/plain": [
       "(400000, 50)"
      ]
     },
     "execution_count": 6,
     "metadata": {},
     "output_type": "execute_result"
    }
   ],
   "source": [
    "glove_file = datapath('/Users/yeabinmoon/Documents/pretrained_embedding/glove/'+'glove.6B.50d.txt')\n",
    "word2vec_glove_file = get_tmpfile(\"glove.6B.50d.word2vec.txt\")\n",
    "glove2word2vec(glove_file, word2vec_glove_file)"
   ]
  },
  {
   "cell_type": "code",
   "execution_count": 7,
   "metadata": {},
   "outputs": [],
   "source": [
    "model = KeyedVectors.load_word2vec_format(word2vec_glove_file)"
   ]
  },
  {
   "cell_type": "code",
   "execution_count": 8,
   "metadata": {},
   "outputs": [
    {
     "data": {
      "text/plain": [
       "[('bananas', 0.8152028322219849),\n",
       " ('coconut', 0.7872511148452759),\n",
       " ('pineapple', 0.7579814791679382),\n",
       " ('mango', 0.7556402087211609),\n",
       " ('beet', 0.7212650179862976),\n",
       " ('fruit', 0.7181406021118164),\n",
       " ('sugar', 0.7180197834968567),\n",
       " ('growers', 0.7165752649307251),\n",
       " ('peanut', 0.7018107771873474),\n",
       " ('cranberry', 0.6957994699478149)]"
      ]
     },
     "execution_count": 8,
     "metadata": {},
     "output_type": "execute_result"
    }
   ],
   "source": [
    "model.most_similar('banana')"
   ]
  },
  {
   "cell_type": "code",
   "execution_count": 9,
   "metadata": {},
   "outputs": [
    {
     "data": {
      "text/plain": [
       "[('silberbauer', 0.7262376546859741),\n",
       " ('waddington', 0.6286618709564209),\n",
       " ('shalem', 0.6120830178260803),\n",
       " ('haukeland', 0.5962643027305603),\n",
       " ('n.y.u.', 0.5937072038650513),\n",
       " ('fiddes', 0.593668520450592),\n",
       " ('kühnen', 0.5929498076438904),\n",
       " ('3450', 0.5929349064826965),\n",
       " ('academicals', 0.590404748916626),\n",
       " ('manston', 0.5903598666191101)]"
      ]
     },
     "execution_count": 9,
     "metadata": {},
     "output_type": "execute_result"
    }
   ],
   "source": [
    "model.most_similar(negative='banana')"
   ]
  },
  {
   "cell_type": "code",
   "execution_count": 10,
   "metadata": {},
   "outputs": [
    {
     "name": "stdout",
     "output_type": "stream",
     "text": [
      "queen: 0.8524\n"
     ]
    }
   ],
   "source": [
    "result = model.most_similar(positive=['woman', 'king'], negative=['man'])\n",
    "print(\"{}: {:.4f}\".format(*result[0]))"
   ]
  },
  {
   "cell_type": "code",
   "execution_count": 11,
   "metadata": {},
   "outputs": [
    {
     "data": {
      "text/plain": [
       "[('mars', 0.7378150224685669),\n",
       " ('earth', 0.7062607407569885),\n",
       " ('lunar', 0.6826838850975037),\n",
       " ('orbit', 0.6548359990119934),\n",
       " ('sun', 0.6543077826499939),\n",
       " ('planet', 0.6524261832237244),\n",
       " ('sky', 0.6503841876983643),\n",
       " ('sea', 0.6418380737304688),\n",
       " ('apollo', 0.6360040903091431),\n",
       " ('dragon', 0.616021454334259)]"
      ]
     },
     "execution_count": 11,
     "metadata": {},
     "output_type": "execute_result"
    }
   ],
   "source": [
    "model.most_similar('moon')"
   ]
  },
  {
   "cell_type": "code",
   "execution_count": 12,
   "metadata": {},
   "outputs": [
    {
     "data": {
      "text/plain": [
       "[('elof', 0.7004154920578003),\n",
       " ('veerle', 0.6769365668296814),\n",
       " ('women-owned', 0.673281729221344),\n",
       " ('selchow', 0.6720607280731201),\n",
       " ('indigents', 0.6690149307250977),\n",
       " ('bulley', 0.665116548538208),\n",
       " ('vidima-rakovski', 0.6635746955871582),\n",
       " ('lanxi', 0.6615618467330933),\n",
       " ('wawarsing', 0.6607296466827393),\n",
       " ('moycullen', 0.6596240997314453)]"
      ]
     },
     "execution_count": 12,
     "metadata": {},
     "output_type": "execute_result"
    }
   ],
   "source": [
    "model.most_similar(negative='moon')"
   ]
  },
  {
   "cell_type": "code",
   "execution_count": 13,
   "metadata": {},
   "outputs": [
    {
     "data": {
      "text/plain": [
       "[('portugal', 0.877019464969635),\n",
       " ('argentina', 0.8712695240974426),\n",
       " ('rica', 0.8380685448646545),\n",
       " ('spain', 0.8340149521827698),\n",
       " ('costa', 0.825968325138092),\n",
       " ('brazilian', 0.825343906879425),\n",
       " ('peru', 0.8201212882995605),\n",
       " ('bolivia', 0.8196378946304321),\n",
       " ('uruguay', 0.8183498382568359),\n",
       " ('chile', 0.8135910630226135)]"
      ]
     },
     "execution_count": 13,
     "metadata": {},
     "output_type": "execute_result"
    }
   ],
   "source": [
    "model.most_similar(positive='brazil')"
   ]
  },
  {
   "cell_type": "code",
   "execution_count": null,
   "metadata": {},
   "outputs": [],
   "source": []
  }
 ],
 "metadata": {
  "kernelspec": {
   "display_name": "NLP",
   "language": "python",
   "name": "python3"
  },
  "language_info": {
   "codemirror_mode": {
    "name": "ipython",
    "version": 3
   },
   "file_extension": ".py",
   "mimetype": "text/x-python",
   "name": "python",
   "nbconvert_exporter": "python",
   "pygments_lexer": "ipython3",
   "version": "3.9.16"
  },
  "orig_nbformat": 4
 },
 "nbformat": 4,
 "nbformat_minor": 2
}
