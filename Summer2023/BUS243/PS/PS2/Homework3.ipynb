{
 "cells": [
  {
   "cell_type": "markdown",
   "metadata": {},
   "source": [
    "# Homework 3"
   ]
  },
  {
   "cell_type": "markdown",
   "metadata": {},
   "source": [
    "## Part I\n",
    "Read the following article: *Cohen, Lauren, Christopher Malloy, and Quoc Nguyen. \"Lazy prices.\" The Journal of Finance 75.3 (2020): 1371-1415.* You can access this article through the Brandeis Library."
   ]
  },
  {
   "cell_type": "markdown",
   "metadata": {},
   "source": [
    "1. A 10-K report is an annual filing that publicly traded companies submit to the United States Securities and Exchange Commission (SEC). What kind of information do authors aim to gather from the 10-K report?"
   ]
  },
  {
   "cell_type": "markdown",
   "metadata": {},
   "source": [
    "2. What leads authors to the conclusion that there is a lack of an announcement effect in the 10-K report?"
   ]
  },
  {
   "cell_type": "markdown",
   "metadata": {},
   "source": [
    "3.\tWhy do authors emphasize not just the total word count but also its variations over time?"
   ]
  },
  {
   "cell_type": "markdown",
   "metadata": {},
   "source": [
    "4.\tWhen authors notice a substantial increase in the word count, why do they interpret it as a negative sentiment rather than a positive one?"
   ]
  },
  {
   "cell_type": "markdown",
   "metadata": {},
   "source": [
    "## Part II\n",
    "\n",
    "Let's explore the Yelp data and gain a better understanding of it. The data comprises five JSON files. Now, let's delve into some conceptual questions related to the data. "
   ]
  },
  {
   "cell_type": "markdown",
   "metadata": {},
   "source": [
    "1.\tYou can find data description (metada) online with a few example: https://www.yelp.com/dataset/documentation/main. Explain the purpose of each file your own words."
   ]
  },
  {
   "cell_type": "markdown",
   "metadata": {},
   "source": [
    "2.\tData descriptions (metadata) can be found online, including a few examples. Explain the purpose of each file in your own words."
   ]
  },
  {
   "cell_type": "markdown",
   "metadata": {},
   "source": [
    "3.\tIn addition to sentiment analysis, the Yelp dataset can be utilized to address a range of other business inquiries. Supply your intuition on its potential usages within 200 words."
   ]
  },
  {
   "cell_type": "markdown",
   "metadata": {},
   "source": [
    "4.\tLet's narrow down our focus to sentiment analysis. The review text serves as the input, while the users provide the target outcome as stars in `review.json`. In other datasets, what additional features would be pertinent? How do these features contribute to estimating the target?"
   ]
  },
  {
   "cell_type": "markdown",
   "metadata": {},
   "source": [
    "## Part III"
   ]
  },
  {
   "cell_type": "markdown",
   "metadata": {},
   "source": [
    "What is the problem of the following code?\n",
    "\n",
    "Vocab problem.\n",
    "Stop words\n",
    "Normalization"
   ]
  },
  {
   "cell_type": "code",
   "execution_count": null,
   "metadata": {},
   "outputs": [],
   "source": []
  }
 ],
 "metadata": {
  "language_info": {
   "name": "python"
  },
  "orig_nbformat": 4
 },
 "nbformat": 4,
 "nbformat_minor": 2
}
