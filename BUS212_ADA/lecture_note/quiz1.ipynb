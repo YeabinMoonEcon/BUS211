{
 "cells": [
  {
   "cell_type": "code",
   "execution_count": null,
   "metadata": {},
   "outputs": [],
   "source": [
    "Question:\n",
    "\n",
    "Create a Python class called \"Car\" that has the following attributes:\n",
    "- make (string)\n",
    "- model (string)\n",
    "- year (integer)\n",
    "- num_doors (integer)\n",
    "\n",
    "The class should also have the following methods:\n",
    "- honk(self) - prints \"Honk honk!\"\n",
    "- get_info(self) - returns a string in the format \"The car is a make model year with num_doors doors.\"\n",
    "- drive(self, distance) - prints \"The car drove distance miles.\"\n",
    "\n",
    "Create an instance of the Car class with the following attributes:\n",
    "- make: \"Toyota\"\n",
    "- model: \"Camry\"\n",
    "- year: 2020\n",
    "- num_doors: 4\n",
    "\n",
    "Then, call the honk(), get_info(), and drive(50) methods on the instance and print the result of the get_info() method.\n",
    "\n",
    "--------------------------\n",
    "Example solution\n",
    "--------------------------\n",
    "\n",
    "class Car:\n",
    "    def __init__(self, make, model, year, num_doors):\n",
    "        self.make = make\n",
    "        self.model = model\n",
    "        self.year = year\n",
    "        self.num_doors = num_doors\n",
    "\n",
    "    def honk(self):\n",
    "        print(\"Honk honk!\")\n",
    "        \n",
    "    def get_info(self):\n",
    "        return f\"The car is a {self.make} {self.model} {self.year} with {self.num_doors} doors.\"\n",
    "\n",
    "    def drive(self, distance):\n",
    "        print(f\"The car drove {distance} miles.\")\n",
    "\n",
    "car = Car(\"Toyota\", \"Camry\", 2020, 4)\n",
    "car.honk()\n",
    "print(car.get_info())\n",
    "car.drive(50)\n",
    "-------------------------------\n",
    "Output\n",
    "-------------------------------\n",
    "Honk honk!\n",
    "The car is a Toyota Camry 2020 with 4 doors.\n",
    "The car drove 50 miles.\n"
   ]
  }
 ],
 "metadata": {
  "kernelspec": {
   "display_name": "Python 3",
   "language": "python",
   "name": "python3"
  },
  "language_info": {
   "name": "python",
   "version": "3.9.6 (default, Aug  5 2022, 15:21:02) \n[Clang 14.0.0 (clang-1400.0.29.102)]"
  },
  "orig_nbformat": 4,
  "vscode": {
   "interpreter": {
    "hash": "31f2aee4e71d21fbe5cf8b01ff0e069b9275f58929596ceb00d14d90e3e16cd6"
   }
  }
 },
 "nbformat": 4,
 "nbformat_minor": 2
}
