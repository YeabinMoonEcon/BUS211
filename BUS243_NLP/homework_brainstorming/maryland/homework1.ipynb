{
 "cells": [
  {
   "cell_type": "code",
   "execution_count": 34,
   "metadata": {},
   "outputs": [
    {
     "name": "stdout",
     "output_type": "stream",
     "text": [
      "Who was president on Wed Jan 25 06:20:00 2023? Joseph R. Biden\n",
      "Who was president on Sat May 23 02:00:00 1994? Bill Clinton\n",
      "Who was president on Wed Mar 01 04:23:40 2023 Joseph R. Biden\n"
     ]
    }
   ],
   "source": [
    "#Update this code so that we can have a different president than Joe Biden.\n",
    "\n",
    "import time\n",
    "\n",
    "training_data = [\n",
    "  {\"start\": 1789, \"stop\": 1797, \"name\": \"George Washington\"},\n",
    "  {\"start\": 1797, \"stop\": 1801, \"name\": \"John Adams\"},\n",
    "  {\"start\": 1801, \"stop\": 1809, \"name\": \"Thomas Jefferson\"},\n",
    "  {\"start\": 1809, \"stop\": 1817, \"name\": \"James Madison\"},\n",
    "  {\"start\": 1817, \"stop\": 1825, \"name\": \"James Monroe\"},\n",
    "  {\"start\": 1825, \"stop\": 1829, \"name\": \"John Quincy Adams\"},\n",
    "  {\"start\": 1829, \"stop\": 1837, \"name\": \"Andrew Jackson\"},\n",
    "  {\"start\": 1837, \"stop\": 1841, \"name\": \"Martin Van Buren\"},\n",
    "  {\"start\": 1841, \"stop\": 1841, \"name\": \"William Henry Harrison\"},\n",
    "  {\"start\": 1841, \"stop\": 1845, \"name\": \"John Tyler\"},\n",
    "  {\"start\": 1845, \"stop\": 1849, \"name\": \"James K. Polk\"},\n",
    "  {\"start\": 1849, \"stop\": 1850, \"name\": \"Zachary Taylor\"},\n",
    "  {\"start\": 1850, \"stop\": 1853, \"name\": \"Millard Fillmore\"},\n",
    "  {\"start\": 1853, \"stop\": 1857, \"name\": \"Franklin Pierce\"},\n",
    "  {\"start\": 1857, \"stop\": 1861, \"name\": \"James Buchanan\"},\n",
    "  {\"start\": 1861, \"stop\": 1865, \"name\": \"Abraham Lincoln\"},\n",
    "  {\"start\": 1865, \"stop\": 1869, \"name\": \"Andrew Johnson\"},\n",
    "  {\"start\": 1869, \"stop\": 1877, \"name\": \"Ulysses S. Grant\"},\n",
    "  {\"start\": 1877, \"stop\": 1881, \"name\": \"Rutherford Birchard Hayes\"},\n",
    "  {\"start\": 1881, \"stop\": 1881, \"name\": \"James A. Garfield\"},\n",
    "  {\"start\": 1881, \"stop\": 1885, \"name\": \"Chester A. Arthur\"},\n",
    "  {\"start\": 1885, \"stop\": 1889, \"name\": \"Grover Cleveland\"},\n",
    "  {\"start\": 1889, \"stop\": 1893, \"name\": \"Benjamin Harrison\"},\n",
    "  {\"start\": 1893, \"stop\": 1897, \"name\": \"Grover Cleveland\"},\n",
    "  {\"start\": 1897, \"stop\": 1901, \"name\": \"William McKinley\"},\n",
    "  {\"start\": 1901, \"stop\": 1905, \"name\": \"Theodore Roosevelt\"},\n",
    "  {\"start\": 1905, \"stop\": 1909, \"name\": \"Theodore Roosevelt\"},\n",
    "  {\"start\": 1909, \"stop\": 1913, \"name\": \"William H. Taft\"},\n",
    "  {\"start\": 1913, \"stop\": 1921, \"name\": \"Woodrow Wilson\"},\n",
    "  {\"start\": 1921, \"stop\": 1923, \"name\": \"Warren G. Harding\"},\n",
    "  {\"start\": 1923, \"stop\": 1929, \"name\": \"Calvin Coolidge\"},\n",
    "  {\"start\": 1929, \"stop\": 1933, \"name\": \"Herbert Hoover\"},\n",
    "  {\"start\": 1933, \"stop\": 1945, \"name\": \"Franklin D. Roosevelt\"},\n",
    "  {\"start\": 1945, \"stop\": 1953, \"name\": \"Harry S. Truman\"},\n",
    "  {\"start\": 1953, \"stop\": 1961, \"name\": \"Dwight D. Eisenhower\"},\n",
    "  {\"start\": 1961, \"stop\": 1963, \"name\": \"John F. Kennedy\"},\n",
    "  {\"start\": 1963, \"stop\": 1969, \"name\": \"Lyndon B. Johnson\"},\n",
    "  {\"start\": 1969, \"stop\": 1974, \"name\": \"Richard M. Nixon\"},\n",
    "  {\"start\": 1974, \"stop\": 1977, \"name\": \"Gerald R. Ford\"},\n",
    "  {\"start\": 1977, \"stop\": 1981, \"name\": \"Jimmy Carter\"},\n",
    "  {\"start\": 1981, \"stop\": 1989, \"name\": \"Ronald Reagan\"},\n",
    "  {\"start\": 1989, \"stop\": 1993, \"name\": \"George Bush\"},\n",
    "  {\"start\": 1993, \"stop\": 2001, \"name\": \"Bill Clinton\"},\n",
    "  {\"start\": 2001, \"stop\": 2009, \"name\": \"George W. Bush\"},\n",
    "  {\"start\": 2009, \"stop\": 2017, \"name\": \"Barack Obama\"},\n",
    "  {\"start\": 2017, \"stop\": 2021, \"name\": \"Donald J. Trump\"},\n",
    "  {\"start\": 2021, \"stop\": 2025, \"name\": \"Joseph R. Biden\"}\n",
    "]\n",
    "\n",
    "class PresidentGuesser:\n",
    "    def train(self, training_data):\n",
    "        self._lookup = {}\n",
    "        \n",
    "        for row in training_data:\n",
    "            self._lookup[row[\"name\"]] = (time.strptime(str(row[\"start\"]), \"%Y\"), time.strptime(str(row[\"stop\"]), \"%Y\"))\n",
    "            \n",
    "    def __call__(self, question):\n",
    "\n",
    "        candidates = []\n",
    "        for name, (start, stop) in self._lookup.items():\n",
    "            #print(question)\n",
    "            #print(start.tm_year)\n",
    "            #print(stop.tm_year)\n",
    "\n",
    "            question = re.findall(r'\\d{4}', question)[0]\n",
    "\n",
    "            if start.tm_year <= int(question):\n",
    "                if int(question) <= stop.tm_year:\n",
    "                    candidates.append(name)\n",
    "\n",
    "            #if start.tm_year <= int(question) <= stop.tm_year:\n",
    "             #   candidates.append(name)\n",
    "\n",
    "\n",
    "        if len(candidates) == 0:\n",
    "            return {\"guess\": \"\"}\n",
    "        elif len(candidates) == 1:\n",
    "            return {\"guess\": candidates[0]}\n",
    "        \n",
    "if __name__ == \"__main__\":\n",
    "    pg = PresidentGuesser()\n",
    "\n",
    "    pg.train(training_data)\n",
    "    \n",
    "    for date in [\"Who was president on Wed Jan 25 06:20:00 2023?\",\n",
    "                     \"Who was president on Sat May 23 02:00:00 1994?\",]:\n",
    "        print(date, pg(date)[\"guess\"])"
   ]
  },
  {
   "cell_type": "code",
   "execution_count": null,
   "metadata": {},
   "outputs": [],
   "source": []
  }
 ],
 "metadata": {
  "kernelspec": {
   "display_name": "Python 3",
   "language": "python",
   "name": "python3"
  },
  "language_info": {
   "codemirror_mode": {
    "name": "ipython",
    "version": 3
   },
   "file_extension": ".py",
   "mimetype": "text/x-python",
   "name": "python",
   "nbconvert_exporter": "python",
   "pygments_lexer": "ipython3",
   "version": "3.9.6"
  },
  "orig_nbformat": 4,
  "vscode": {
   "interpreter": {
    "hash": "31f2aee4e71d21fbe5cf8b01ff0e069b9275f58929596ceb00d14d90e3e16cd6"
   }
  }
 },
 "nbformat": 4,
 "nbformat_minor": 2
}
